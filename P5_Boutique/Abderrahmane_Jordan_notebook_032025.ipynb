{
 "cells": [
  {
   "cell_type": "markdown",
   "id": "97dccc01",
   "metadata": {},
   "source": [
    "<div style=\"display: flex; background-color: RGB(255,114,0);\" >\n",
    "<h1 style=\"margin: auto; padding: 30px; \">ANALYSE DU STOCK ET DES VENTES DU SITE BOTTLENECK</h1>\n",
    "</div>"
   ]
  },
  {
   "cell_type": "markdown",
   "id": "4d0d1bb8",
   "metadata": {},
   "source": [
    "# OBJECTIF DE CE NOTEBOOK\n",
    "\n",
    "Bienvenue dans l'outil plébiscité par les analystes de données Jupyter.\n",
    "\n",
    "Il s'agit d'un outil permettant de mixer et d'alterner codes, textes et graphique.\n",
    "\n",
    "Cet outil est formidable pour plusieurs raisons:\n",
    "\n",
    "+ il permet de tester des lignes de codes au fur et à mesure de votre rédaction, de constater immédiatement le résultat d'un instruction, de la corriger si nécessaire.\n",
    "+ De rédiger du texte pour expliquer l'approche suivie ou les résultats d'une analyse et de le mettre en forme grâce à du code html ou plus simple avec **Markdown**\n",
    "+ d'agrémenter de graphiques\n",
    "\n",
    "Pour vous aider dans vos premiers pas à l'usage de Jupyter et de Python, nous avons rédigé ce notebook en vous indiquant les instructions à suivre.\n",
    "\n",
    "Il vous suffit pour cela de saisir le code Python répondant à l'instruction donnée.\n",
    "\n",
    "Vous verrez de temps à autre le code Python répondant à une instruction donnée mais cela est fait pour vous aider à comprendre la nature du travail qui vous est demandée.\n",
    "\n",
    "Et garder à l'esprit, qu'il n'y a pas de solution unique pour résoudre un problème et qu'il y a autant de résolutions de problèmes que de développeurs ;)...\n",
    "\n"
   ]
  },
  {
   "cell_type": "markdown",
   "id": "b85efb87",
   "metadata": {},
   "source": [
    "<div style=\"background-color: RGB(51,165,182);\" >\n",
    "<h2 style=\"margin: auto; padding: 20px; color:#fff; \">Etape 1 - Importation des librairies et chargement des fichiers</h2>\n",
    "</div>"
   ]
  },
  {
   "cell_type": "markdown",
   "id": "b5449401",
   "metadata": {},
   "source": [
    "<div style=\"border: 1px solid RGB(51,165,182);\" >\n",
    "<h3 style=\"margin: auto; padding: 20px; color: RGB(51,165,182); \">1.1 - Importation des librairies</h3>\n",
    "</div>"
   ]
  },
  {
   "cell_type": "code",
   "execution_count": 2,
   "id": "e6ef06ec",
   "metadata": {},
   "outputs": [],
   "source": [
    "#Importation de la librairie Pandas\n",
    "import pandas as pd\n",
    "import numpy as np\n",
    "import matplotlib.pyplot as plt\n",
    "import plotly.express as px\n",
    "import sys\n",
    "import matplotlib\n",
    "import os\n",
    "import seaborn as sns"
   ]
  },
  {
   "cell_type": "code",
   "execution_count": 3,
   "id": "a38ce0fc",
   "metadata": {},
   "outputs": [],
   "source": [
    "#Importation de la librairie plotly express\n",
    "import plotly.express as px"
   ]
  },
  {
   "cell_type": "code",
   "execution_count": 4,
   "id": "0a718067",
   "metadata": {},
   "outputs": [],
   "source": [
    "#Trouver dans Google l'instruction permettant d'afficher toutes les colonnes d'un dataframe\n",
    "#Saisir, dans Google, les mots clés \"display all columns dataframe Pandas\", par exemple.\n",
    "#Dans les résultats de la recherche, privilégiez les solutions provenants de Stack Overflow ou Medium\n",
    "\n",
    "# Afficher toutes les colonnes du DataFrame\n",
    "pd.set_option('display.max_columns', None)"
   ]
  },
  {
   "cell_type": "markdown",
   "id": "f4918299",
   "metadata": {},
   "source": [
    "<div style=\"border: 1px solid RGB(51,165,182);\" >\n",
    "<h3 style=\"margin: auto; padding: 20px; color: RGB(51,165,182); \">1.2 - Chargements des fichiers</h3>\n",
    "</div>"
   ]
  },
  {
   "cell_type": "code",
   "execution_count": 5,
   "id": "9642cf03",
   "metadata": {},
   "outputs": [
    {
     "name": "stderr",
     "output_type": "stream",
     "text": [
      "c:\\Users\\jorda\\anaconda3\\Lib\\site-packages\\openpyxl\\worksheet\\_read_only.py:85: UserWarning: Unknown extension is not supported and will be removed\n",
      "  for idx, row in parser.parse():\n",
      "c:\\Users\\jorda\\anaconda3\\Lib\\site-packages\\openpyxl\\worksheet\\_read_only.py:85: UserWarning: Unknown extension is not supported and will be removed\n",
      "  for idx, row in parser.parse():\n",
      "c:\\Users\\jorda\\anaconda3\\Lib\\site-packages\\openpyxl\\worksheet\\_read_only.py:85: UserWarning: Unknown extension is not supported and will be removed\n",
      "  for idx, row in parser.parse():\n"
     ]
    }
   ],
   "source": [
    "#print(os.getcwd())  = getcwd = get current working directory\n",
    "#Importation du fichier web.xlsx\n",
    "df_web = pd.read_excel(\"web.xlsx\")\n",
    "#Importation du fichier erp.xlsx\n",
    "df_erp = pd.read_excel(\"erp.xlsx\")\n",
    "#importation du fichier liaison.xlsx\n",
    "df_liaison = pd.read_excel(\"liaison.xlsx\")"
   ]
  },
  {
   "cell_type": "markdown",
   "id": "605f7056",
   "metadata": {},
   "source": [
    "<div style=\"background-color: RGB(51,165,182);\" >\n",
    "<h2 style=\"margin: auto; padding: 20px; color:#fff; \">Etape 2 - Analyse exploratoire des fichiers</h2>\n",
    "</div>"
   ]
  },
  {
   "cell_type": "markdown",
   "id": "47d3a649",
   "metadata": {},
   "source": [
    "<div style=\"border: 1px solid RGB(51,165,182);\" >\n",
    "<h3 style=\"margin: auto; padding: 20px; color: RGB(51,165,182); \">2.1 - Analyse exploratoire du fichier erp.xlsx</h3>\n",
    "</div>"
   ]
  },
  {
   "cell_type": "code",
   "execution_count": 6,
   "id": "094ef206",
   "metadata": {},
   "outputs": [
    {
     "name": "stdout",
     "output_type": "stream",
     "text": [
      "Le tableau comporte 825 observation(s) ou article(s)\n",
      "Le tableau comporte 6 colonne(s)\n"
     ]
    }
   ],
   "source": [
    "#Afficher les dimensions du dataset\n",
    "print(\"Le tableau comporte {} observation(s) ou article(s)\".format(df_erp.shape[0]))\n",
    "print(\"Le tableau comporte {} colonne(s)\".format(df_erp.shape[1]))"
   ]
  },
  {
   "cell_type": "code",
   "execution_count": 7,
   "id": "182441f0",
   "metadata": {},
   "outputs": [
    {
     "data": {
      "text/plain": [
       "product_id          int64\n",
       "onsale_web          int64\n",
       "price             float64\n",
       "stock_quantity      int64\n",
       "stock_status       object\n",
       "purchase_price    float64\n",
       "dtype: object"
      ]
     },
     "execution_count": 7,
     "metadata": {},
     "output_type": "execute_result"
    }
   ],
   "source": [
    "#Consulter le nombre de colonnes\n",
    "len(df_erp.columns)\n",
    "\n",
    "#La nature des données dans chacune des colonnes\n",
    "\n",
    "df_erp.dtypes\n",
    "\n",
    "#Le nombre de valeurs présentes dans chacune des colonnes\n",
    "\n",
    "#df_erp.count()"
   ]
  },
  {
   "cell_type": "code",
   "execution_count": 8,
   "id": "d3977646",
   "metadata": {},
   "outputs": [
    {
     "data": {
      "text/html": [
       "<div>\n",
       "<style scoped>\n",
       "    .dataframe tbody tr th:only-of-type {\n",
       "        vertical-align: middle;\n",
       "    }\n",
       "\n",
       "    .dataframe tbody tr th {\n",
       "        vertical-align: top;\n",
       "    }\n",
       "\n",
       "    .dataframe thead th {\n",
       "        text-align: right;\n",
       "    }\n",
       "</style>\n",
       "<table border=\"1\" class=\"dataframe\">\n",
       "  <thead>\n",
       "    <tr style=\"text-align: right;\">\n",
       "      <th></th>\n",
       "      <th>product_id</th>\n",
       "      <th>onsale_web</th>\n",
       "      <th>price</th>\n",
       "      <th>stock_quantity</th>\n",
       "      <th>stock_status</th>\n",
       "      <th>purchase_price</th>\n",
       "    </tr>\n",
       "  </thead>\n",
       "  <tbody>\n",
       "    <tr>\n",
       "      <th>0</th>\n",
       "      <td>3847</td>\n",
       "      <td>1</td>\n",
       "      <td>24.2</td>\n",
       "      <td>16</td>\n",
       "      <td>instock</td>\n",
       "      <td>12.88</td>\n",
       "    </tr>\n",
       "    <tr>\n",
       "      <th>1</th>\n",
       "      <td>3849</td>\n",
       "      <td>1</td>\n",
       "      <td>34.3</td>\n",
       "      <td>10</td>\n",
       "      <td>instock</td>\n",
       "      <td>17.54</td>\n",
       "    </tr>\n",
       "    <tr>\n",
       "      <th>2</th>\n",
       "      <td>3850</td>\n",
       "      <td>1</td>\n",
       "      <td>20.8</td>\n",
       "      <td>0</td>\n",
       "      <td>outofstock</td>\n",
       "      <td>10.64</td>\n",
       "    </tr>\n",
       "    <tr>\n",
       "      <th>3</th>\n",
       "      <td>4032</td>\n",
       "      <td>1</td>\n",
       "      <td>14.1</td>\n",
       "      <td>26</td>\n",
       "      <td>instock</td>\n",
       "      <td>6.92</td>\n",
       "    </tr>\n",
       "    <tr>\n",
       "      <th>4</th>\n",
       "      <td>4039</td>\n",
       "      <td>1</td>\n",
       "      <td>46.0</td>\n",
       "      <td>3</td>\n",
       "      <td>outofstock</td>\n",
       "      <td>23.77</td>\n",
       "    </tr>\n",
       "  </tbody>\n",
       "</table>\n",
       "</div>"
      ],
      "text/plain": [
       "   product_id  onsale_web  price  stock_quantity stock_status  purchase_price\n",
       "0        3847           1   24.2              16      instock           12.88\n",
       "1        3849           1   34.3              10      instock           17.54\n",
       "2        3850           1   20.8               0   outofstock           10.64\n",
       "3        4032           1   14.1              26      instock            6.92\n",
       "4        4039           1   46.0               3   outofstock           23.77"
      ]
     },
     "execution_count": 8,
     "metadata": {},
     "output_type": "execute_result"
    }
   ],
   "source": [
    "#Afficher les 5 premières lignes de la table\n",
    "\n",
    "df_erp.head()"
   ]
  },
  {
   "cell_type": "code",
   "execution_count": 9,
   "id": "db102a4a",
   "metadata": {},
   "outputs": [
    {
     "data": {
      "text/plain": [
       "False"
      ]
     },
     "execution_count": 9,
     "metadata": {},
     "output_type": "execute_result"
    }
   ],
   "source": [
    "#Vérifier si il y a les lignes en doublons dans la colonne product_id\n",
    "df_erp['product_id'].duplicated().any()"
   ]
  },
  {
   "cell_type": "code",
   "execution_count": 10,
   "id": "d443d4ff",
   "metadata": {},
   "outputs": [
    {
     "data": {
      "text/plain": [
       "stock_status\n",
       "instock       733\n",
       "outofstock     92\n",
       "Name: count, dtype: int64"
      ]
     },
     "execution_count": 10,
     "metadata": {},
     "output_type": "execute_result"
    }
   ],
   "source": [
    "#Afficher les valeurs distinctes de la colonne stock_status\n",
    "df_erp['stock_status'].unique()\n",
    "\n",
    "#permet de rajouter le nombre d'occurrence tout en voyant les valeurs distinctes\n",
    "df_erp['stock_status'].value_counts()\n",
    "\n",
    "#À quelle(s) autre(s) colonne(s) sont-elles liées ?\n",
    "# => A la colonne stock_quantity : quand stock quantity = 0 alors stock_status ='outofstock'\n",
    "\n"
   ]
  },
  {
   "cell_type": "code",
   "execution_count": 11,
   "id": "68088943",
   "metadata": {},
   "outputs": [
    {
     "data": {
      "text/html": [
       "<div>\n",
       "<style scoped>\n",
       "    .dataframe tbody tr th:only-of-type {\n",
       "        vertical-align: middle;\n",
       "    }\n",
       "\n",
       "    .dataframe tbody tr th {\n",
       "        vertical-align: top;\n",
       "    }\n",
       "\n",
       "    .dataframe thead th {\n",
       "        text-align: right;\n",
       "    }\n",
       "</style>\n",
       "<table border=\"1\" class=\"dataframe\">\n",
       "  <thead>\n",
       "    <tr style=\"text-align: right;\">\n",
       "      <th></th>\n",
       "      <th>product_id</th>\n",
       "      <th>onsale_web</th>\n",
       "      <th>price</th>\n",
       "      <th>stock_quantity</th>\n",
       "      <th>stock_status</th>\n",
       "      <th>purchase_price</th>\n",
       "      <th>stock_status_2</th>\n",
       "    </tr>\n",
       "  </thead>\n",
       "  <tbody>\n",
       "    <tr>\n",
       "      <th>0</th>\n",
       "      <td>3847</td>\n",
       "      <td>1</td>\n",
       "      <td>24.2</td>\n",
       "      <td>16</td>\n",
       "      <td>instock</td>\n",
       "      <td>12.88</td>\n",
       "      <td>instock</td>\n",
       "    </tr>\n",
       "    <tr>\n",
       "      <th>1</th>\n",
       "      <td>3849</td>\n",
       "      <td>1</td>\n",
       "      <td>34.3</td>\n",
       "      <td>10</td>\n",
       "      <td>instock</td>\n",
       "      <td>17.54</td>\n",
       "      <td>instock</td>\n",
       "    </tr>\n",
       "    <tr>\n",
       "      <th>2</th>\n",
       "      <td>3850</td>\n",
       "      <td>1</td>\n",
       "      <td>20.8</td>\n",
       "      <td>0</td>\n",
       "      <td>outofstock</td>\n",
       "      <td>10.64</td>\n",
       "      <td>outofstock</td>\n",
       "    </tr>\n",
       "    <tr>\n",
       "      <th>3</th>\n",
       "      <td>4032</td>\n",
       "      <td>1</td>\n",
       "      <td>14.1</td>\n",
       "      <td>26</td>\n",
       "      <td>instock</td>\n",
       "      <td>6.92</td>\n",
       "      <td>instock</td>\n",
       "    </tr>\n",
       "    <tr>\n",
       "      <th>4</th>\n",
       "      <td>4039</td>\n",
       "      <td>1</td>\n",
       "      <td>46.0</td>\n",
       "      <td>3</td>\n",
       "      <td>outofstock</td>\n",
       "      <td>23.77</td>\n",
       "      <td>instock</td>\n",
       "    </tr>\n",
       "    <tr>\n",
       "      <th>...</th>\n",
       "      <td>...</td>\n",
       "      <td>...</td>\n",
       "      <td>...</td>\n",
       "      <td>...</td>\n",
       "      <td>...</td>\n",
       "      <td>...</td>\n",
       "      <td>...</td>\n",
       "    </tr>\n",
       "    <tr>\n",
       "      <th>820</th>\n",
       "      <td>7203</td>\n",
       "      <td>0</td>\n",
       "      <td>45.0</td>\n",
       "      <td>30</td>\n",
       "      <td>instock</td>\n",
       "      <td>23.48</td>\n",
       "      <td>instock</td>\n",
       "    </tr>\n",
       "    <tr>\n",
       "      <th>821</th>\n",
       "      <td>7204</td>\n",
       "      <td>0</td>\n",
       "      <td>45.0</td>\n",
       "      <td>9</td>\n",
       "      <td>instock</td>\n",
       "      <td>24.18</td>\n",
       "      <td>instock</td>\n",
       "    </tr>\n",
       "    <tr>\n",
       "      <th>822</th>\n",
       "      <td>7247</td>\n",
       "      <td>1</td>\n",
       "      <td>54.8</td>\n",
       "      <td>6</td>\n",
       "      <td>instock</td>\n",
       "      <td>27.18</td>\n",
       "      <td>instock</td>\n",
       "    </tr>\n",
       "    <tr>\n",
       "      <th>823</th>\n",
       "      <td>7329</td>\n",
       "      <td>0</td>\n",
       "      <td>26.5</td>\n",
       "      <td>14</td>\n",
       "      <td>instock</td>\n",
       "      <td>13.42</td>\n",
       "      <td>instock</td>\n",
       "    </tr>\n",
       "    <tr>\n",
       "      <th>824</th>\n",
       "      <td>7338</td>\n",
       "      <td>1</td>\n",
       "      <td>16.3</td>\n",
       "      <td>40</td>\n",
       "      <td>instock</td>\n",
       "      <td>8.00</td>\n",
       "      <td>instock</td>\n",
       "    </tr>\n",
       "  </tbody>\n",
       "</table>\n",
       "<p>825 rows × 7 columns</p>\n",
       "</div>"
      ],
      "text/plain": [
       "     product_id  onsale_web  price  stock_quantity stock_status  \\\n",
       "0          3847           1   24.2              16      instock   \n",
       "1          3849           1   34.3              10      instock   \n",
       "2          3850           1   20.8               0   outofstock   \n",
       "3          4032           1   14.1              26      instock   \n",
       "4          4039           1   46.0               3   outofstock   \n",
       "..          ...         ...    ...             ...          ...   \n",
       "820        7203           0   45.0              30      instock   \n",
       "821        7204           0   45.0               9      instock   \n",
       "822        7247           1   54.8               6      instock   \n",
       "823        7329           0   26.5              14      instock   \n",
       "824        7338           1   16.3              40      instock   \n",
       "\n",
       "     purchase_price stock_status_2  \n",
       "0             12.88        instock  \n",
       "1             17.54        instock  \n",
       "2             10.64     outofstock  \n",
       "3              6.92        instock  \n",
       "4             23.77        instock  \n",
       "..              ...            ...  \n",
       "820           23.48        instock  \n",
       "821           24.18        instock  \n",
       "822           27.18        instock  \n",
       "823           13.42        instock  \n",
       "824            8.00        instock  \n",
       "\n",
       "[825 rows x 7 columns]"
      ]
     },
     "execution_count": 11,
     "metadata": {},
     "output_type": "execute_result"
    }
   ],
   "source": [
    "#Création d'une colonne \"stock_status_2\n",
    "#La valeur de cette deuxième colonne sera fonction de la valeur dans la colonne \"stock_quantity\"\n",
    "#si la valeur de la colonne \"stock_quantity\" est nulle renseigner \"outofstock\" sinon mettre \"instock\"\n",
    "\n",
    "df_erp['stock_status_2'] = np.where(df_erp['stock_quantity'] == 0, 'outofstock', 'instock')\n",
    "\n",
    "df_erp\n"
   ]
  },
  {
   "cell_type": "code",
   "execution_count": 12,
   "id": "90a1c8ae",
   "metadata": {},
   "outputs": [
    {
     "data": {
      "text/plain": [
       "0       True\n",
       "1       True\n",
       "2       True\n",
       "3       True\n",
       "4      False\n",
       "       ...  \n",
       "820     True\n",
       "821     True\n",
       "822     True\n",
       "823     True\n",
       "824     True\n",
       "Length: 825, dtype: bool"
      ]
     },
     "execution_count": 12,
     "metadata": {},
     "output_type": "execute_result"
    }
   ],
   "source": [
    "#Vérifions que les 2 colonnes sont identiques:\n",
    "#Les 2 colonnes sont strictement identiques si les valeurs de chaque ligne sont strictement identiques 2 à 2\n",
    "#La comparaison de 2 colonnes peut se réaliser simplement avec l'instruction ci-dessous:\n",
    "df_erp['stock_status'] == df_erp['stock_status_2']\n",
    "\n",
    "#Le résultat est l'affichage de True ou False pour chacune des lignes du dataset\n",
    "#C'est un bon début, mais difficile à exploiter"
   ]
  },
  {
   "cell_type": "code",
   "execution_count": 13,
   "id": "ebe3650a",
   "metadata": {},
   "outputs": [
    {
     "data": {
      "text/plain": [
       "821"
      ]
     },
     "execution_count": 13,
     "metadata": {},
     "output_type": "execute_result"
    }
   ],
   "source": [
    "#Mais il est possible de synthétiser ce résultat en effectuant la somme de cette colonne:\n",
    "#True vaut 1 et False 0\n",
    "#Nous devrions obtenir la somme de 824 qui correspond au nombre de lignes dans ce dataset\n",
    "#En Python, quand vous utilisez .sum() sur une série de booléens, les True et False sont automatiquement convertis en 1 et 0\n",
    "(df_erp['stock_status'] == df_erp['stock_status_2']).sum()"
   ]
  },
  {
   "cell_type": "code",
   "execution_count": 14,
   "id": "1ca6060a",
   "metadata": {},
   "outputs": [
    {
     "name": "stdout",
     "output_type": "stream",
     "text": [
      "     product_id  stock_quantity stock_status stock_status_2\n",
      "4          4039               3   outofstock        instock\n",
      "398        4885               0      instock     outofstock\n",
      "449        4973             -10   outofstock        instock\n",
      "573        5700              -1   outofstock        instock\n"
     ]
    }
   ],
   "source": [
    "#Si les colonnes ne sont absolument pas identiques ligne à ligne alors identifier la ligne en écart\n",
    "##Dans ce cas je vous ce lien pour apprendre à réaliser des filtres dans Pandas:\n",
    "##https://bitbucket.org/hrojas/learn-pandas/src/master/\n",
    "##Lesson 3\n",
    "ecart = df_erp[df_erp['stock_status'] != df_erp['stock_status_2']]\n",
    "\n",
    "#ou\n",
    "\n",
    "ecart = df_erp[df_erp['stock_status'] != df_erp['stock_status_2']][['product_id', 'stock_quantity', 'stock_status', 'stock_status_2']]\n",
    "\n",
    "print(ecart)"
   ]
  },
  {
   "cell_type": "code",
   "execution_count": 15,
   "id": "ce1b9704",
   "metadata": {},
   "outputs": [
    {
     "name": "stdout",
     "output_type": "stream",
     "text": [
      "Vérification des stocks modifiés :\n",
      "     product_id  stock_quantity\n",
      "449        4973               0\n",
      "573        5700               0\n"
     ]
    }
   ],
   "source": [
    "#Corriger la ou les données incohérentes\n",
    "\n",
    "#df_erp.loc[df_merge['product_id'] == 4039, 'stock_status'] = 'instock'\n",
    "df_erp.loc[df_erp['product_id'] == 4885, 'stock_status'] = 'outofstock'\n",
    "\n",
    "#Verification en utilisant le même code que plus haut pour afficher les problemes\n",
    "df_erp.loc[df_erp['stock_status'] != df_erp['stock_status_2'], 'stock_status'] = df_erp['stock_status_2']\n",
    "\n",
    "#je dois supprimer les deux lignes en stock négatif?#Non car supprimer des produits peut changer CA\n",
    "(df_erp['stock_status'] == df_erp['stock_status_2']).sum()\n",
    "\n",
    "#PASSAGE A 0 DES DEUX VALEURS NEGATIVES DE STOCKQUANTITY\n",
    "df_erp.loc[df_erp['product_id'] == 4973, 'stock_quantity'] = 0\n",
    "df_erp.loc[df_erp['product_id'] == 5700, 'stock_quantity'] = 0\n",
    "\n",
    "# Vérifier que les modifications ont été appliquées\n",
    "verification = df_erp[df_erp['product_id'].isin([4973, 5700])][['product_id', 'stock_quantity']]\n",
    "print(\"Vérification des stocks modifiés :\")\n",
    "print(verification)"
   ]
  },
  {
   "cell_type": "markdown",
   "id": "08bd4b08",
   "metadata": {},
   "source": [
    "<div style=\"border: 1px solid RGB(51,165,182);\" >\n",
    "<h3 style=\"margin: auto; padding: 20px; color: RGB(51,165,182); \">2.1.1 - Analyse exploratoire de chaque variable du fichier erp.xlsx</h3>\n",
    "</div>"
   ]
  },
  {
   "cell_type": "markdown",
   "id": "3476df40",
   "metadata": {},
   "source": [
    "<div style=\"border: 1px solid RGB(51,165,182);\" >\n",
    "<h3 style=\"margin: auto; padding: 20px; color: RGB(51,165,182); \">2.1.1.1 - Analyse de la variable PRIX</h3>\n",
    "</div>"
   ]
  },
  {
   "cell_type": "code",
   "execution_count": 16,
   "id": "a7fc3384",
   "metadata": {},
   "outputs": [
    {
     "name": "stdout",
     "output_type": "stream",
     "text": [
      "Nombres d'article avec un prix non renseignés: 0\n",
      "Le prix minimum est : -20.0\n",
      "Le prix maximum est : 225.0\n",
      "Articles avec des prix négatifs :\n",
      "     product_id  purchase_price  price\n",
      "151        4233           10.33  -20.0\n",
      "469        5017            4.34   -8.0\n",
      "739        6594            4.61   -9.1\n"
     ]
    }
   ],
   "source": [
    "###############\n",
    "## LES PRIX  ##\n",
    "###############\n",
    "\n",
    "#Vérification des prix: Y a t-il des prix non renseignés, négatif ou nul?\n",
    "prix_problematiques = df_erp[\n",
    "    (df_erp['price'].isna()) |  # Prix non renseignés\n",
    "    (df_erp ['price'] <= 0)      # Prix négatifs ou nuls\n",
    "]\n",
    "#Afficher le ou les prix non renseignés dans la colonne \"price\"\n",
    "print(\"Nombres d'article avec un prix non renseignés: {}\".format(df_erp['price'].isna().sum())) \n",
    "#Afficher le prix minimum de la colonne \"price\"\n",
    "print(\"Le prix minimum est : {}\".format(df_erp['price'].min()))\n",
    "\n",
    "#Afficher le prix maximum de la colonne \"price\"\n",
    "print(\"Le prix maximum est : {}\".format(df_erp['price'].max()))\n",
    "#Affichier les prix inférieurs à 0 (qu'est ce qu'il faut en faire ?)\n",
    "prix_negatifs = df_erp[df_erp['price'] < 0][['product_id', 'purchase_price', 'price']]\n",
    "print(\"Articles avec des prix négatifs :\")\n",
    "print(prix_negatifs)\n",
    "\n",
    "\n",
    "#il faudrait pouvoir demander confirmation du réel prix du produit et au cas échéant le supprimer de notre base de données en conservant tout de même une trace des produits retirés suite à des informations manquantes ou erronées\n",
    "\n"
   ]
  },
  {
   "cell_type": "code",
   "execution_count": 17,
   "id": "4f93800f",
   "metadata": {},
   "outputs": [
    {
     "name": "stdout",
     "output_type": "stream",
     "text": [
      "\n",
      "Prix après correction :\n",
      "     product_id  price\n",
      "151        4233   20.0\n",
      "469        5017    8.0\n",
      "739        6594    9.1\n"
     ]
    }
   ],
   "source": [
    "# Inverser les prix négatifs en utilisant la valeur absolue\n",
    "df_erp.loc[df_erp['product_id'].isin([4233, 5017, 6594]), 'price'] = df_erp.loc[df_erp['product_id'].isin([4233, 5017, 6594]), 'price'].abs()\n",
    "\n",
    "# Vérifier les modifications\n",
    "prix_corriges = df_erp[df_erp['product_id'].isin([4233, 5017, 6594])][['product_id', 'price']]\n",
    "print(\"\\nPrix après correction :\")\n",
    "print(prix_corriges)"
   ]
  },
  {
   "cell_type": "markdown",
   "id": "c5fce58c",
   "metadata": {},
   "source": [
    "<div style=\"border: 1px solid RGB(51,165,182);\" >\n",
    "<h3 style=\"margin: auto; padding: 20px; color: RGB(51,165,182); \">2.1.1.2 - Analyse de la variable STOCK</h3>\n",
    "</div>"
   ]
  },
  {
   "cell_type": "code",
   "execution_count": 18,
   "id": "3d14c4a0",
   "metadata": {},
   "outputs": [
    {
     "name": "stdout",
     "output_type": "stream",
     "text": [
      "La quantité minimum en stock est : 0\n",
      "La quantité maximum en stock est : 145\n",
      "Articles avec des stocks négatifs :\n",
      "Empty DataFrame\n",
      "Columns: [product_id, stock_quantity]\n",
      "Index: []\n"
     ]
    }
   ],
   "source": [
    "#######################\n",
    "### stock_quantity  ###\n",
    "#######################\n",
    "\n",
    "#Vérification de la colonne stock quantity\n",
    "#Afficher la quantité minimum de la colonne \"stock_quantity\"\n",
    "df_erp['stock_quantity'].min()\n",
    "\n",
    "#ou\n",
    "\n",
    "print(\"La quantité minimum en stock est : {}\".format(df_erp['stock_quantity'].min()))\n",
    "\n",
    "#Afficher la quantité maximum de la colonne \"stock_quantity\"\n",
    "df_erp['stock_quantity'].max()\n",
    "\n",
    "#ou \n",
    "\n",
    "print(\"La quantité maximum en stock est : {}\".format(df_erp['stock_quantity'].max()))\n",
    "\n",
    "#Affichier les stocks inférieurs à 0 (qu'est ce qu'il faut en faire ?)\n",
    "stocks_negatifs = df_erp[df_erp['stock_quantity'] < 0][['product_id', 'stock_quantity']]\n",
    "print(\"Articles avec des stocks négatifs :\")\n",
    "print(stocks_negatifs)\n",
    "\n",
    "#vérifier ces stocks afin de savoir si une erreur a été commise en incluant un '-' sinon passer ces stocks à 0 = df_erp.loc[df_erp['stock_quantity'] < 0, 'stock_quantity'] = 0\n",
    "df_erp.loc[df_erp['stock_quantity'] < 0, 'stock_quantity'] = 0"
   ]
  },
  {
   "cell_type": "markdown",
   "id": "20e8c554",
   "metadata": {},
   "source": [
    "<div style=\"border: 1px solid RGB(51,165,182);\" >\n",
    "<h3 style=\"margin: auto; padding: 20px; color: RGB(51,165,182); \">2.1.1.3 - Analyse de la variable ONSALE_WEB</h3>\n",
    "</div>"
   ]
  },
  {
   "cell_type": "code",
   "execution_count": 19,
   "id": "99b936ca",
   "metadata": {},
   "outputs": [
    {
     "name": "stdout",
     "output_type": "stream",
     "text": [
      "Valeurs dans onsale_web et leur fréquence :\n",
      "onsale_web\n",
      "1    716\n",
      "0    109\n",
      "Name: count, dtype: int64\n"
     ]
    }
   ],
   "source": [
    "#Vérification de la colonne onsale_web et des valeurs qu'elle contient? Que signifient-elles?\n",
    "print(\"Valeurs dans onsale_web et leur fréquence :\")\n",
    "print(df_erp['onsale_web'].value_counts())\n",
    "\n",
    "#c'est une colonne de type booléenne où 0 signifie que le produit n'est pas en vente sur le web et 1 signifie qu'il y est"
   ]
  },
  {
   "cell_type": "code",
   "execution_count": 20,
   "id": "5a79444d",
   "metadata": {},
   "outputs": [],
   "source": [
    "#Quelles sont les colonnes à conserver selon vous?\n",
    "#toutes les colonnes sauf stock_status_2 qui est redondante"
   ]
  },
  {
   "cell_type": "code",
   "execution_count": 21,
   "id": "8053aeda",
   "metadata": {},
   "outputs": [],
   "source": [
    "#Supprimer la colonnecomportant le libellé \"stock_status_2\" car elle est redondante \n",
    "#avec la colonne \"stock_status\".\n",
    "\n",
    "df_erp = df_erp.drop('stock_status_2', axis=1)\n"
   ]
  },
  {
   "cell_type": "markdown",
   "id": "eca4fce9",
   "metadata": {},
   "source": [
    "<div style=\"border: 1px solid RGB(51,165,182);\" >\n",
    "<h3 style=\"margin: auto; padding: 20px; color: RGB(51,165,182); \">2.1.1.4 - Analyse de la variable prix d'achat</h3>\n",
    "</div>"
   ]
  },
  {
   "cell_type": "code",
   "execution_count": 22,
   "id": "6b85ba0d",
   "metadata": {},
   "outputs": [
    {
     "name": "stdout",
     "output_type": "stream",
     "text": [
      "\n",
      "Détail des articles sans prix d'achat :\n",
      "Empty DataFrame\n",
      "Columns: [product_id, purchase_price]\n",
      "Index: []\n",
      "Le prix minimum est : 2.74\n",
      "Le prix maximum est : 137.81\n"
     ]
    }
   ],
   "source": [
    "######################\n",
    "##   prix d'achat   ##\n",
    "######################\n",
    "\n",
    "#Vérification de la colonne purchase_price : \n",
    "#Afficher le ou les prix non renseignés dans la colonne \"purchase_price\"\n",
    "prix_achat_manquants = df_erp[df_erp['purchase_price'].isna()][['product_id', 'purchase_price']]\n",
    "print(\"\\nDétail des articles sans prix d'achat :\")\n",
    "print(prix_achat_manquants)\n",
    "#Afficher le prix minimum de la colonne \"purchase_price\"\n",
    "print(\"Le prix minimum est : {}\".format(df_erp['purchase_price'].min()))\n",
    "#Afficher le prix maximum de la colonne \"purchase_price\"\n",
    "print(\"Le prix maximum est : {}\".format(df_erp['purchase_price'].max()))\n"
   ]
  },
  {
   "cell_type": "markdown",
   "id": "a550f996",
   "metadata": {},
   "source": [
    "<div style=\"border: 1px solid RGB(51,165,182);\" >\n",
    "<h3 style=\"margin: auto; padding: 20px; color: RGB(51,165,182); \">2.2 - Analyse exploratoire du fichier web.xlsx</h3>\n",
    "</div>\n",
    " "
   ]
  },
  {
   "cell_type": "code",
   "execution_count": 23,
   "id": "bb7e292c",
   "metadata": {},
   "outputs": [
    {
     "name": "stdout",
     "output_type": "stream",
     "text": [
      "Dimensions du dataset : (1513, 29)\n",
      "Nombre d'observations (lignes) : 1513\n",
      "Nombre de caractéristiques (colonnes) : 29\n"
     ]
    }
   ],
   "source": [
    "#Dimension du dataset\n",
    "print(\"Dimensions du dataset : {}\".format(df_web.shape))\n",
    "#Nombre d'observations\n",
    "\n",
    "print(\"Nombre d'observations (lignes) : {}\".format(len(df_web)))\n",
    "#Nombre de caractéristiques\n",
    "print(\"Nombre de caractéristiques (colonnes) : {}\".format(len(df_web.columns)))"
   ]
  },
  {
   "cell_type": "code",
   "execution_count": 24,
   "id": "0b70a8da",
   "metadata": {},
   "outputs": [
    {
     "name": "stdout",
     "output_type": "stream",
     "text": [
      "<class 'pandas.core.frame.DataFrame'>\n",
      "RangeIndex: 1513 entries, 0 to 1512\n",
      "Data columns (total 29 columns):\n",
      " #   Column                 Non-Null Count  Dtype         \n",
      "---  ------                 --------------  -----         \n",
      " 0   sku                    1428 non-null   object        \n",
      " 1   virtual                1513 non-null   int64         \n",
      " 2   downloadable           1513 non-null   int64         \n",
      " 3   rating_count           1513 non-null   int64         \n",
      " 4   average_rating         1430 non-null   float64       \n",
      " 5   total_sales            1430 non-null   float64       \n",
      " 6   tax_status             716 non-null    object        \n",
      " 7   tax_class              0 non-null      float64       \n",
      " 8   post_author            1430 non-null   float64       \n",
      " 9   post_date              1430 non-null   datetime64[ns]\n",
      " 10  post_date_gmt          1430 non-null   datetime64[ns]\n",
      " 11  post_content           0 non-null      float64       \n",
      " 12  product_type           1429 non-null   object        \n",
      " 13  post_title             1430 non-null   object        \n",
      " 14  post_excerpt           716 non-null    object        \n",
      " 15  post_status            1430 non-null   object        \n",
      " 16  comment_status         1430 non-null   object        \n",
      " 17  ping_status            1430 non-null   object        \n",
      " 18  post_password          0 non-null      float64       \n",
      " 19  post_name              1430 non-null   object        \n",
      " 20  post_modified          1430 non-null   datetime64[ns]\n",
      " 21  post_modified_gmt      1430 non-null   datetime64[ns]\n",
      " 22  post_content_filtered  0 non-null      float64       \n",
      " 23  post_parent            1430 non-null   float64       \n",
      " 24  guid                   1430 non-null   object        \n",
      " 25  menu_order             1430 non-null   float64       \n",
      " 26  post_type              1430 non-null   object        \n",
      " 27  post_mime_type         714 non-null    object        \n",
      " 28  comment_count          1430 non-null   float64       \n",
      "dtypes: datetime64[ns](4), float64(10), int64(3), object(12)\n",
      "memory usage: 342.9+ KB\n"
     ]
    }
   ],
   "source": [
    "#Consulter le nombre de colonnes\n",
    "#La nature des données dans chacune des colonnes\n",
    "#Le nombre de valeurs présentes dans chacune des colonnes\n",
    "\n",
    "df_web.info()\n",
    "\n",
    "#ou # Nombre de colonnes\n",
    "#print(\"Nombre de colonnes :\", len(df_web.columns))\n",
    "\n",
    "# Types de données\n",
    "#print(\"\\nTypes de données :\")\n",
    "#print(df_web.dtypes)\n",
    "\n",
    "# Nombre de valeurs non-nulles par colonne\n",
    "#print(\"\\nNombre de valeurs par colonne :\")\n",
    "#print(df_web.count())"
   ]
  },
  {
   "cell_type": "code",
   "execution_count": 25,
   "id": "b0d2f149",
   "metadata": {},
   "outputs": [],
   "source": [
    "#Selon vous, quelles sont les colonnes à conserver ?\n",
    "#Les colonnes à conserver seraient 'sku', 'total_sales', 'product_type', 'post_title', 'guid' et 'post_type'\n"
   ]
  },
  {
   "cell_type": "code",
   "execution_count": 26,
   "id": "30b2196b",
   "metadata": {},
   "outputs": [
    {
     "data": {
      "text/html": [
       "<div>\n",
       "<style scoped>\n",
       "    .dataframe tbody tr th:only-of-type {\n",
       "        vertical-align: middle;\n",
       "    }\n",
       "\n",
       "    .dataframe tbody tr th {\n",
       "        vertical-align: top;\n",
       "    }\n",
       "\n",
       "    .dataframe thead th {\n",
       "        text-align: right;\n",
       "    }\n",
       "</style>\n",
       "<table border=\"1\" class=\"dataframe\">\n",
       "  <thead>\n",
       "    <tr style=\"text-align: right;\">\n",
       "      <th></th>\n",
       "      <th>sku</th>\n",
       "      <th>total_sales</th>\n",
       "      <th>product_type</th>\n",
       "      <th>post_title</th>\n",
       "      <th>post_type</th>\n",
       "      <th>guid</th>\n",
       "    </tr>\n",
       "  </thead>\n",
       "  <tbody>\n",
       "    <tr>\n",
       "      <th>0</th>\n",
       "      <td>38</td>\n",
       "      <td>10.0</td>\n",
       "      <td>Vin</td>\n",
       "      <td>Emile Boeckel Crémant Brut Blanc de Blancs</td>\n",
       "      <td>attachment</td>\n",
       "      <td>https://www.bottle-neck.fr/wp-content/uploads/...</td>\n",
       "    </tr>\n",
       "    <tr>\n",
       "      <th>1</th>\n",
       "      <td>38</td>\n",
       "      <td>10.0</td>\n",
       "      <td>Vin</td>\n",
       "      <td>Emile Boeckel Crémant Brut Blanc de Blancs</td>\n",
       "      <td>product</td>\n",
       "      <td>https://www.bottle-neck.fr/?post_type=product&amp;...</td>\n",
       "    </tr>\n",
       "    <tr>\n",
       "      <th>2</th>\n",
       "      <td>41</td>\n",
       "      <td>6.0</td>\n",
       "      <td>Vin</td>\n",
       "      <td>Marcel Windholtz Eau de Vie de Marc de Gewurzt...</td>\n",
       "      <td>product</td>\n",
       "      <td>https://www.bottle-neck.fr/?post_type=product&amp;...</td>\n",
       "    </tr>\n",
       "    <tr>\n",
       "      <th>3</th>\n",
       "      <td>41</td>\n",
       "      <td>6.0</td>\n",
       "      <td>Vin</td>\n",
       "      <td>Marcel Windholtz Eau de Vie de Marc de Gewurzt...</td>\n",
       "      <td>attachment</td>\n",
       "      <td>https://www.bottle-neck.fr/wp-content/uploads/...</td>\n",
       "    </tr>\n",
       "    <tr>\n",
       "      <th>4</th>\n",
       "      <td>304</td>\n",
       "      <td>8.0</td>\n",
       "      <td>Champagne</td>\n",
       "      <td>Champagne Gosset Grande Réserve</td>\n",
       "      <td>attachment</td>\n",
       "      <td>https://www.bottle-neck.fr/wp-content/uploads/...</td>\n",
       "    </tr>\n",
       "    <tr>\n",
       "      <th>...</th>\n",
       "      <td>...</td>\n",
       "      <td>...</td>\n",
       "      <td>...</td>\n",
       "      <td>...</td>\n",
       "      <td>...</td>\n",
       "      <td>...</td>\n",
       "    </tr>\n",
       "    <tr>\n",
       "      <th>1508</th>\n",
       "      <td>NaN</td>\n",
       "      <td>NaN</td>\n",
       "      <td>NaN</td>\n",
       "      <td>NaN</td>\n",
       "      <td>NaN</td>\n",
       "      <td>NaN</td>\n",
       "    </tr>\n",
       "    <tr>\n",
       "      <th>1509</th>\n",
       "      <td>NaN</td>\n",
       "      <td>NaN</td>\n",
       "      <td>NaN</td>\n",
       "      <td>NaN</td>\n",
       "      <td>NaN</td>\n",
       "      <td>NaN</td>\n",
       "    </tr>\n",
       "    <tr>\n",
       "      <th>1510</th>\n",
       "      <td>NaN</td>\n",
       "      <td>NaN</td>\n",
       "      <td>NaN</td>\n",
       "      <td>NaN</td>\n",
       "      <td>NaN</td>\n",
       "      <td>NaN</td>\n",
       "    </tr>\n",
       "    <tr>\n",
       "      <th>1511</th>\n",
       "      <td>NaN</td>\n",
       "      <td>NaN</td>\n",
       "      <td>NaN</td>\n",
       "      <td>NaN</td>\n",
       "      <td>NaN</td>\n",
       "      <td>NaN</td>\n",
       "    </tr>\n",
       "    <tr>\n",
       "      <th>1512</th>\n",
       "      <td>NaN</td>\n",
       "      <td>NaN</td>\n",
       "      <td>NaN</td>\n",
       "      <td>NaN</td>\n",
       "      <td>NaN</td>\n",
       "      <td>NaN</td>\n",
       "    </tr>\n",
       "  </tbody>\n",
       "</table>\n",
       "<p>1513 rows × 6 columns</p>\n",
       "</div>"
      ],
      "text/plain": [
       "      sku  total_sales product_type  \\\n",
       "0      38         10.0          Vin   \n",
       "1      38         10.0          Vin   \n",
       "2      41          6.0          Vin   \n",
       "3      41          6.0          Vin   \n",
       "4     304          8.0    Champagne   \n",
       "...   ...          ...          ...   \n",
       "1508  NaN          NaN          NaN   \n",
       "1509  NaN          NaN          NaN   \n",
       "1510  NaN          NaN          NaN   \n",
       "1511  NaN          NaN          NaN   \n",
       "1512  NaN          NaN          NaN   \n",
       "\n",
       "                                             post_title   post_type  \\\n",
       "0            Emile Boeckel Crémant Brut Blanc de Blancs  attachment   \n",
       "1            Emile Boeckel Crémant Brut Blanc de Blancs     product   \n",
       "2     Marcel Windholtz Eau de Vie de Marc de Gewurzt...     product   \n",
       "3     Marcel Windholtz Eau de Vie de Marc de Gewurzt...  attachment   \n",
       "4                       Champagne Gosset Grande Réserve  attachment   \n",
       "...                                                 ...         ...   \n",
       "1508                                                NaN         NaN   \n",
       "1509                                                NaN         NaN   \n",
       "1510                                                NaN         NaN   \n",
       "1511                                                NaN         NaN   \n",
       "1512                                                NaN         NaN   \n",
       "\n",
       "                                                   guid  \n",
       "0     https://www.bottle-neck.fr/wp-content/uploads/...  \n",
       "1     https://www.bottle-neck.fr/?post_type=product&...  \n",
       "2     https://www.bottle-neck.fr/?post_type=product&...  \n",
       "3     https://www.bottle-neck.fr/wp-content/uploads/...  \n",
       "4     https://www.bottle-neck.fr/wp-content/uploads/...  \n",
       "...                                                 ...  \n",
       "1508                                                NaN  \n",
       "1509                                                NaN  \n",
       "1510                                                NaN  \n",
       "1511                                                NaN  \n",
       "1512                                                NaN  \n",
       "\n",
       "[1513 rows x 6 columns]"
      ]
     },
     "execution_count": 26,
     "metadata": {},
     "output_type": "execute_result"
    }
   ],
   "source": [
    "#Si vous avez défini des colonnes à supprimer, effectuer l'opération\n",
    "df_web_clean = df_web[['sku', 'total_sales', 'product_type', 'post_title', 'post_type', 'guid']]\n",
    "df_web_clean"
   ]
  },
  {
   "cell_type": "code",
   "execution_count": 27,
   "id": "1b965d06",
   "metadata": {},
   "outputs": [
    {
     "data": {
      "text/plain": [
       "sku\n",
       "38                     2\n",
       "15779                  2\n",
       "15741                  2\n",
       "15745                  2\n",
       "15746                  2\n",
       "                      ..\n",
       "14865                  2\n",
       "14897                  2\n",
       "14899                  2\n",
       "14905                  2\n",
       "bon-cadeau-25-euros    2\n",
       "Name: count, Length: 714, dtype: int64"
      ]
     },
     "execution_count": 27,
     "metadata": {},
     "output_type": "execute_result"
    }
   ],
   "source": [
    "#Visualisation des valeurs de la colonne sku\n",
    "#Quelles sont les valeurs qui ne semblent pas respecter la régle de codification?\n",
    "df_web_clean['sku'].value_counts()"
   ]
  },
  {
   "cell_type": "code",
   "execution_count": 28,
   "id": "1226dcfd",
   "metadata": {},
   "outputs": [
    {
     "name": "stdout",
     "output_type": "stream",
     "text": [
      "                      sku  total_sales product_type  \\\n",
      "1424              13127-1          4.0          Vin   \n",
      "1425              13127-1          4.0          Vin   \n",
      "1426  bon-cadeau-25-euros          7.0        Autre   \n",
      "1427  bon-cadeau-25-euros          7.0          NaN   \n",
      "1428                  NaN          NaN          NaN   \n",
      "...                   ...          ...          ...   \n",
      "1508                  NaN          NaN          NaN   \n",
      "1509                  NaN          NaN          NaN   \n",
      "1510                  NaN          NaN          NaN   \n",
      "1511                  NaN          NaN          NaN   \n",
      "1512                  NaN          NaN          NaN   \n",
      "\n",
      "                                        post_title   post_type  \\\n",
      "1424  Clos du Mont-Olivet Châteauneuf-du-Pape 2007     product   \n",
      "1425  Clos du Mont-Olivet Châteauneuf-du-Pape 2007  attachment   \n",
      "1426                             Bon cadeau de 25€  attachment   \n",
      "1427                             Bon cadeau de 25€     product   \n",
      "1428                                           NaN         NaN   \n",
      "...                                            ...         ...   \n",
      "1508                                           NaN         NaN   \n",
      "1509                                           NaN         NaN   \n",
      "1510                                           NaN         NaN   \n",
      "1511                                           NaN         NaN   \n",
      "1512                                           NaN         NaN   \n",
      "\n",
      "                                                   guid  \n",
      "1424  https://www.bottle-neck.fr/?post_type=product&...  \n",
      "1425  https://www.bottle-neck.fr/wp-content/uploads/...  \n",
      "1426  https://www.bottle-neck.fr/wp-content/uploads/...  \n",
      "1427  https://www.bottle-neck.fr/?post_type=product&...  \n",
      "1428                                                NaN  \n",
      "...                                                 ...  \n",
      "1508                                                NaN  \n",
      "1509                                                NaN  \n",
      "1510                                                NaN  \n",
      "1511                                                NaN  \n",
      "1512                                                NaN  \n",
      "\n",
      "[89 rows x 6 columns]\n"
     ]
    },
    {
     "name": "stderr",
     "output_type": "stream",
     "text": [
      "<>:2: SyntaxWarning: invalid escape sequence '\\d'\n",
      "<>:2: SyntaxWarning: invalid escape sequence '\\d'\n",
      "C:\\Users\\jorda\\AppData\\Local\\Temp\\ipykernel_11548\\952691223.py:2: SyntaxWarning: invalid escape sequence '\\d'\n",
      "  sku_anormaux = df_web_clean[~df_web_clean['sku'].astype(str).str.match('^\\d+$')] #en partant du principe que la codification est 'seulement des chiffres'.\n"
     ]
    }
   ],
   "source": [
    "#Si vous avez identifié des codes articles ne respectant pas la régle de codification, consultez-les?\n",
    "sku_anormaux = df_web_clean[~df_web_clean['sku'].astype(str).str.match('^\\d+$')] #en partant du principe que la codification est 'seulement des chiffres'. \n",
    "#sku_anormaux = df_web[~df_web['sku'].astype(str).str.isdigit()]\n",
    "print(sku_anormaux)\n",
    "\n",
    "\n",
    "\n"
   ]
  },
  {
   "cell_type": "code",
   "execution_count": 29,
   "id": "eb8d31bf",
   "metadata": {},
   "outputs": [
    {
     "name": "stdout",
     "output_type": "stream",
     "text": [
      "Nombre de lignes sans SKU : 85\n",
      "\n",
      "Détail des lignes sans SKU :\n",
      "      sku post_title\n",
      "1428  NaN        NaN\n",
      "1429  NaN        NaN\n",
      "1430  NaN        NaN\n",
      "1431  NaN        NaN\n",
      "1432  NaN        NaN\n",
      "...   ...        ...\n",
      "1508  NaN        NaN\n",
      "1509  NaN        NaN\n",
      "1510  NaN        NaN\n",
      "1511  NaN        NaN\n",
      "1512  NaN        NaN\n",
      "\n",
      "[85 rows x 2 columns]\n"
     ]
    }
   ],
   "source": [
    "#Identifier les lignes sans code articles\n",
    "lignes_sans_sku = df_web_clean[df_web_clean['sku'].isna()][['sku', 'post_title']]\n",
    "print(\"Nombre de lignes sans SKU : {}\".format(len(lignes_sans_sku)))\n",
    "print(\"\\nDétail des lignes sans SKU :\")\n",
    "print(lignes_sans_sku)"
   ]
  },
  {
   "cell_type": "code",
   "execution_count": 30,
   "id": "967495da",
   "metadata": {},
   "outputs": [],
   "source": [
    "#Pour les codes articles identifiés, réalisé une analyse et définissez l'action à entreprendre\n",
    "#Pour les codes articles non renseignés : les supprimer car un produit sans identifiant ne peux être lié à l'ERP\n",
    "    #df_web = df_web.drop(lignes_sans_sku.index)\n",
    "#Pour les codes articles non numériques : vérifier s'il existe une référence, documentez le souci auquel cas l'exemple se présenterait de nouveau et supprimer ces lignes\n",
    "    #df_web = df_web.drop(sku_anormaux.index)\n"
   ]
  },
  {
   "cell_type": "code",
   "execution_count": 31,
   "id": "27bf30de",
   "metadata": {},
   "outputs": [
    {
     "name": "stdout",
     "output_type": "stream",
     "text": [
      "Nombre de doublons : 712\n",
      "\n",
      "Détail des doublons :\n",
      "        sku  total_sales product_type  \\\n",
      "1        38         10.0          Vin   \n",
      "2        41          6.0          Vin   \n",
      "5       304          8.0    Champagne   \n",
      "6       523          0.0       Cognac   \n",
      "9       531          8.0    Champagne   \n",
      "...     ...          ...          ...   \n",
      "1415  19815          3.0          Vin   \n",
      "1417  19816          3.0          Vin   \n",
      "1418  19820          6.0          Vin   \n",
      "1421  19821          8.0          Vin   \n",
      "1422  19822          1.0          Vin   \n",
      "\n",
      "                                             post_title post_type  \\\n",
      "1            Emile Boeckel Crémant Brut Blanc de Blancs   product   \n",
      "2     Marcel Windholtz Eau de Vie de Marc de Gewurzt...   product   \n",
      "5                       Champagne Gosset Grande Réserve   product   \n",
      "6                          Cognac Normandin Mercier VFC   product   \n",
      "9     Champagne Petit Lebrun &amp; Fils Blanc de Bla...   product   \n",
      "...                                                 ...       ...   \n",
      "1415          Pierre Jean Villa Côte Rôtie Carmina 2017   product   \n",
      "1417  Clos du Mont-Olivet Châteauneuf-du-Pape Cuvée ...   product   \n",
      "1418                         Tempier Bandol Migoua 2017   product   \n",
      "1421                       Tempier Bandol Tourtine 2017   product   \n",
      "1422                      Tempier Bandol Cabassaou 2017   product   \n",
      "\n",
      "                                                   guid  \n",
      "1     https://www.bottle-neck.fr/?post_type=product&...  \n",
      "2     https://www.bottle-neck.fr/?post_type=product&...  \n",
      "5     https://www.bottle-neck.fr/?post_type=product&...  \n",
      "6     https://www.bottle-neck.fr/?post_type=product&...  \n",
      "9     https://www.bottle-neck.fr/?post_type=product&...  \n",
      "...                                                 ...  \n",
      "1415  https://www.bottle-neck.fr/?post_type=product&...  \n",
      "1417  https://www.bottle-neck.fr/?post_type=product&...  \n",
      "1418  https://www.bottle-neck.fr/?post_type=product&...  \n",
      "1421  https://www.bottle-neck.fr/?post_type=product&...  \n",
      "1422  https://www.bottle-neck.fr/?post_type=product&...  \n",
      "\n",
      "[712 rows x 6 columns]\n",
      "Nombre de doublons : 0\n"
     ]
    }
   ],
   "source": [
    "#création d'un dataframe sans les sku non conformes\n",
    "#Si je les supprime avant du coup df_web contient seulement les données conformes non?\n",
    "df_web_super_clean = df_web_clean[df_web_clean['sku'].astype(str).str.isdigit()]\n",
    "\n",
    "#La clé pour chaque ligne est-elle uniques? ou autrement dit, y a-t-il des doublons?\n",
    "df_web_super_clean['sku'].is_unique\n",
    "doublons = df_web_super_clean[df_web_super_clean['sku'].duplicated()][['sku', 'post_title']]\n",
    "print(\"Nombre de doublons : {}\".format(len(doublons)))\n",
    "print(\"\\nDétail des doublons :\")\n",
    "\n",
    "#Le retour est 'False', il y a donc des doublons\n",
    "\n",
    "\n",
    "df_web_super_clean = df_web_super_clean[df_web_super_clean['post_type'] == 'product']\n",
    "\n",
    "print(df_web_super_clean.sort_values(by=['sku']))\n",
    "\n",
    "doublons = df_web_super_clean[df_web_super_clean['sku'].duplicated()][['sku', 'post_title']]\n",
    "print(\"Nombre de doublons : {}\".format(len(doublons)))"
   ]
  },
  {
   "cell_type": "code",
   "execution_count": 32,
   "id": "1b7e2da2",
   "metadata": {},
   "outputs": [
    {
     "name": "stdout",
     "output_type": "stream",
     "text": [
      "        sku  total_sales product_type  \\\n",
      "1        38         10.0          Vin   \n",
      "2        41          6.0          Vin   \n",
      "5       304          8.0    Champagne   \n",
      "6       523          0.0       Cognac   \n",
      "9       531          8.0    Champagne   \n",
      "...     ...          ...          ...   \n",
      "1415  19815          3.0          Vin   \n",
      "1417  19816          3.0          Vin   \n",
      "1418  19820          6.0          Vin   \n",
      "1421  19821          8.0          Vin   \n",
      "1422  19822          1.0          Vin   \n",
      "\n",
      "                                             post_title post_type  \\\n",
      "1            Emile Boeckel Crémant Brut Blanc de Blancs   product   \n",
      "2     Marcel Windholtz Eau de Vie de Marc de Gewurzt...   product   \n",
      "5                       Champagne Gosset Grande Réserve   product   \n",
      "6                          Cognac Normandin Mercier VFC   product   \n",
      "9     Champagne Petit Lebrun &amp; Fils Blanc de Bla...   product   \n",
      "...                                                 ...       ...   \n",
      "1415          Pierre Jean Villa Côte Rôtie Carmina 2017   product   \n",
      "1417  Clos du Mont-Olivet Châteauneuf-du-Pape Cuvée ...   product   \n",
      "1418                         Tempier Bandol Migoua 2017   product   \n",
      "1421                       Tempier Bandol Tourtine 2017   product   \n",
      "1422                      Tempier Bandol Cabassaou 2017   product   \n",
      "\n",
      "                                                   guid  \n",
      "1     https://www.bottle-neck.fr/?post_type=product&...  \n",
      "2     https://www.bottle-neck.fr/?post_type=product&...  \n",
      "5     https://www.bottle-neck.fr/?post_type=product&...  \n",
      "6     https://www.bottle-neck.fr/?post_type=product&...  \n",
      "9     https://www.bottle-neck.fr/?post_type=product&...  \n",
      "...                                                 ...  \n",
      "1415  https://www.bottle-neck.fr/?post_type=product&...  \n",
      "1417  https://www.bottle-neck.fr/?post_type=product&...  \n",
      "1418  https://www.bottle-neck.fr/?post_type=product&...  \n",
      "1421  https://www.bottle-neck.fr/?post_type=product&...  \n",
      "1422  https://www.bottle-neck.fr/?post_type=product&...  \n",
      "\n",
      "[712 rows x 6 columns]\n"
     ]
    }
   ],
   "source": [
    "print(df_web_super_clean.sort_values(by=['sku']))"
   ]
  },
  {
   "cell_type": "code",
   "execution_count": 33,
   "id": "8b81d617",
   "metadata": {},
   "outputs": [
    {
     "name": "stdout",
     "output_type": "stream",
     "text": [
      "<class 'pandas.core.frame.DataFrame'>\n",
      "Index: 89 entries, 1424 to 1512\n",
      "Data columns (total 29 columns):\n",
      " #   Column                 Non-Null Count  Dtype         \n",
      "---  ------                 --------------  -----         \n",
      " 0   sku                    4 non-null      object        \n",
      " 1   virtual                89 non-null     int64         \n",
      " 2   downloadable           89 non-null     int64         \n",
      " 3   rating_count           89 non-null     int64         \n",
      " 4   average_rating         6 non-null      float64       \n",
      " 5   total_sales            6 non-null      float64       \n",
      " 6   tax_status             4 non-null      object        \n",
      " 7   tax_class              0 non-null      float64       \n",
      " 8   post_author            6 non-null      float64       \n",
      " 9   post_date              6 non-null      datetime64[ns]\n",
      " 10  post_date_gmt          6 non-null      datetime64[ns]\n",
      " 11  post_content           0 non-null      float64       \n",
      " 12  product_type           5 non-null      object        \n",
      " 13  post_title             6 non-null      object        \n",
      " 14  post_excerpt           4 non-null      object        \n",
      " 15  post_status            6 non-null      object        \n",
      " 16  comment_status         6 non-null      object        \n",
      " 17  ping_status            6 non-null      object        \n",
      " 18  post_password          0 non-null      float64       \n",
      " 19  post_name              6 non-null      object        \n",
      " 20  post_modified          6 non-null      datetime64[ns]\n",
      " 21  post_modified_gmt      6 non-null      datetime64[ns]\n",
      " 22  post_content_filtered  0 non-null      float64       \n",
      " 23  post_parent            6 non-null      float64       \n",
      " 24  guid                   6 non-null      object        \n",
      " 25  menu_order             6 non-null      float64       \n",
      " 26  post_type              6 non-null      object        \n",
      " 27  post_mime_type         2 non-null      object        \n",
      " 28  comment_count          6 non-null      float64       \n",
      "dtypes: datetime64[ns](4), float64(10), int64(3), object(12)\n",
      "memory usage: 20.9+ KB\n"
     ]
    }
   ],
   "source": [
    "#Les lignes sans code article semble être toutes non renseignés\n",
    "#Pour s'en assurer réaliser les étapes suivantes:\n",
    "#1 - Créer un dataframe avec uniquement les lignes sans code article\n",
    "df_web_sans_sku = df_web[~df_web['sku'].astype(str).str.isdigit()]\n",
    "#2 - utiliser la fonction df.info() sur ce nouveau dataframe pour observer le nombre de valeur reseigner dans chacune des colonnes\n",
    "df_web_sans_sku.info()\n",
    "#3 - Que constatez-vous?\n",
    "#Seuls trois colonnes ' Virtual, downloadable et rating count' sont complètes, les autres colonnes présentes beaucoup de données manquantes. Il serait donc préferable d'exclure ces données du dataframe principale\n"
   ]
  },
  {
   "cell_type": "markdown",
   "id": "dbff6403",
   "metadata": {},
   "source": [
    "<div style=\"border: 1px solid RGB(51,165,182);\" >\n",
    "<h3 style=\"margin: auto; padding: 20px; color: RGB(51,165,182); \">2.3 - Analyse exploratoire du fichier liaison.xlsx</h3>\n",
    "</div>"
   ]
  },
  {
   "cell_type": "code",
   "execution_count": 34,
   "id": "de426b74",
   "metadata": {},
   "outputs": [
    {
     "name": "stdout",
     "output_type": "stream",
     "text": [
      "Dimensions du dataset : (825, 2)\n",
      "Nombre d'observations : 825\n",
      "Nombre de caractéristiques : 2\n"
     ]
    }
   ],
   "source": [
    "#Dimension du dataset\n",
    "print(\"Dimensions du dataset : {}\".format(df_liaison.shape))\n",
    "#Nombre d'observations\n",
    "print(\"Nombre d'observations : {}\".format(len(df_liaison)))\n",
    "#Nombre de caractéristiques\n",
    "print(\"Nombre de caractéristiques : {}\".format(len(df_liaison.columns)))"
   ]
  },
  {
   "cell_type": "code",
   "execution_count": 35,
   "id": "9834ae33",
   "metadata": {},
   "outputs": [
    {
     "name": "stdout",
     "output_type": "stream",
     "text": [
      "<class 'pandas.core.frame.DataFrame'>\n",
      "RangeIndex: 825 entries, 0 to 824\n",
      "Data columns (total 2 columns):\n",
      " #   Column      Non-Null Count  Dtype \n",
      "---  ------      --------------  ----- \n",
      " 0   id_web      734 non-null    object\n",
      " 1   product_id  825 non-null    int64 \n",
      "dtypes: int64(1), object(1)\n",
      "memory usage: 13.0+ KB\n"
     ]
    }
   ],
   "source": [
    "#Consulter le nombre de colonnes\n",
    "#La nature des données dans chacune des colonnes\n",
    "#Le nombre de valeurs présentes dans chacune des colonnes\n",
    "df_liaison.info()"
   ]
  },
  {
   "cell_type": "code",
   "execution_count": 36,
   "id": "2b30d6b2",
   "metadata": {},
   "outputs": [
    {
     "data": {
      "text/plain": [
       "True"
      ]
     },
     "execution_count": 36,
     "metadata": {},
     "output_type": "execute_result"
    }
   ],
   "source": [
    "#Les valeurs de la colonne \"product_id\" sont elles toutes uniques? Oui\n",
    "df_liaison['product_id'].is_unique"
   ]
  },
  {
   "cell_type": "code",
   "execution_count": 37,
   "id": "4d8ca13c",
   "metadata": {},
   "outputs": [
    {
     "data": {
      "text/plain": [
       "False"
      ]
     },
     "execution_count": 37,
     "metadata": {},
     "output_type": "execute_result"
    }
   ],
   "source": [
    "#Les valeurs de la colonne \"id_web\" sont-elles toutes uniques? Non\n",
    "df_liaison['id_web'].is_unique"
   ]
  },
  {
   "cell_type": "code",
   "execution_count": 38,
   "id": "52f7c843",
   "metadata": {},
   "outputs": [
    {
     "name": "stdout",
     "output_type": "stream",
     "text": [
      "id_web        91\n",
      "product_id     0\n",
      "dtype: int64\n"
     ]
    }
   ],
   "source": [
    "#Avons-nous des articles sans correspondances? Oui\n",
    "print(df_liaison.isnull().sum())\n",
    "\n",
    "#lignes_incompletes = df_liaison[df_liaison['product_id'].isnull() | df_liaison['id_web'].isnull()]\n",
    "#print(\"Nombre de lignes avec des valeurs manquantes : {}\".format(len(lignes_incompletes)))\n",
    "#print(\"\\nDétail des lignes incomplètes :\")\n",
    "#print(lignes_incompletes)\n",
    "#91 lignes Nan ."
   ]
  },
  {
   "cell_type": "markdown",
   "id": "1a359137",
   "metadata": {},
   "source": [
    "<div style=\"background-color: RGB(51,165,182);\" >\n",
    "<h2 style=\"margin: auto; padding: 20px; color:#fff; \">Etape 3 - Jonction des fichiers</h2>\n",
    "</div>"
   ]
  },
  {
   "cell_type": "markdown",
   "id": "b7750c10",
   "metadata": {},
   "source": [
    "<div style=\"border: 1px solid RGB(51,165,182);\" >\n",
    "<h3 style=\"margin: auto; padding: 20px; color: RGB(51,165,182); \">Etape 3.1 - Jonction du fichier df_erp et df_liaison</h3>\n",
    "</div>"
   ]
  },
  {
   "cell_type": "code",
   "execution_count": 39,
   "id": "e756ec7d",
   "metadata": {},
   "outputs": [],
   "source": [
    "#Fusion des fichiers df_erp et df_liaison\n",
    "# Fusion de df_erp avec df_liaison\n",
    "df_erp_liaison = df_erp.merge(df_liaison, on='product_id', how='left')"
   ]
  },
  {
   "cell_type": "code",
   "execution_count": 40,
   "id": "b7e1da5e",
   "metadata": {},
   "outputs": [
    {
     "name": "stdout",
     "output_type": "stream",
     "text": [
      "Nombre de lignes df_erp : 825\n",
      "Nombre de lignes df_liaison : 825\n",
      "Nombre de lignes après fusion : 825\n"
     ]
    }
   ],
   "source": [
    "#Y a t-il des lignes ne \"matchant\" entre les 2 fichiers? Toutes les lignes correspondent\n",
    "print(\"Nombre de lignes df_erp : {}\".format(len(df_erp)))\n",
    "print(\"Nombre de lignes df_liaison : {}\".format(len(df_liaison)))\n",
    "print(\"Nombre de lignes après fusion : {}\".format(len(df_erp_liaison)))"
   ]
  },
  {
   "cell_type": "markdown",
   "id": "fe4c51d7",
   "metadata": {},
   "source": [
    "<div style=\"border: 1px solid RGB(51,165,182);\" >\n",
    "<h3 style=\"margin: auto; padding: 20px; color: RGB(51,165,182); \">Etape 3.2 - Jonction du fichier df_merge et df_web</h3>\n",
    "</div>"
   ]
  },
  {
   "cell_type": "code",
   "execution_count": 41,
   "id": "46d9382b",
   "metadata": {},
   "outputs": [],
   "source": [
    "#Fusionnez les datasets df_merge et df_web\n",
    "df_merge = df_erp_liaison.merge(df_web_super_clean, left_on='id_web', right_on='sku', how='left')"
   ]
  },
  {
   "cell_type": "code",
   "execution_count": 42,
   "id": "2021762f",
   "metadata": {},
   "outputs": [
    {
     "name": "stdout",
     "output_type": "stream",
     "text": [
      "Nombre de lignes df_erp_liaison : 825\n",
      "Nombre de lignes df_web : 712\n",
      "Nombre de lignes après fusion finale : 825\n"
     ]
    }
   ],
   "source": [
    "#Avons-nous des lignes sans correspondances?\n",
    "print(\"Nombre de lignes df_erp_liaison : {}\".format(len(df_erp_liaison)))\n",
    "print(\"Nombre de lignes df_web : {}\".format(len(df_web_super_clean)))\n",
    "print(\"Nombre de lignes après fusion finale : {}\".format(len(df_merge)))"
   ]
  },
  {
   "cell_type": "code",
   "execution_count": 43,
   "id": "e435735c",
   "metadata": {},
   "outputs": [
    {
     "name": "stdout",
     "output_type": "stream",
     "text": [
      "Nombre de SKU uniques dans df_web : 712\n",
      "Nombre total de lignes dans df_web : 712\n",
      "Nombre de lignes après nouvelle fusion : 825\n"
     ]
    }
   ],
   "source": [
    "print(\"Nombre de SKU uniques dans df_web : {}\".format(df_web_super_clean['sku'].nunique()))\n",
    "print(\"Nombre total de lignes dans df_web : {}\".format(len(df_web_super_clean)))\n",
    "# Gardons une seule ligne par SKU (la plus récente par exemple) = > mauvaise méthode, du moins qui pousse à l'erreur\n",
    "#df_web_clean = df_web.drop_duplicates(subset='sku', keep='first') => méthode peut pertinente\n",
    "\n",
    "\n",
    "# Nouvelle fusion\n",
    "df_merge = df_erp_liaison.merge(df_web_super_clean, left_on='id_web', right_on='sku', how='left')\n",
    "\n",
    "# Vérifions\n",
    "print(\"Nombre de lignes après nouvelle fusion : {}\".format(len(df_merge)))"
   ]
  },
  {
   "cell_type": "markdown",
   "id": "13d81fd6",
   "metadata": {},
   "source": [
    "<div style=\"background-color: RGB(51,165,182);\" >\n",
    "<h2 style=\"margin: auto; padding: 20px; color:#fff; \">Etape 4 - Analyse univarié des prix</h2>\n",
    "</div>"
   ]
  },
  {
   "cell_type": "markdown",
   "id": "9c8d0615",
   "metadata": {},
   "source": [
    "<div style=\"border: 1px solid RGB(51,165,182);\" >\n",
    "<h3 style=\"margin: auto; padding: 20px; color: RGB(51,165,182); \">Etape 4.1 - Exploration par la visualisation de données</h3>\n",
    "</div>"
   ]
  },
  {
   "cell_type": "code",
   "execution_count": 44,
   "id": "3be61f06",
   "metadata": {},
   "outputs": [
    {
     "data": {
      "application/vnd.plotly.v1+json": {
       "config": {
        "plotlyServerURL": "https://plot.ly"
       },
       "data": [
        {
         "alignmentgroup": "True",
         "hovertemplate": "price=%{y}<extra></extra>",
         "legendgroup": "",
         "marker": {
          "color": "#636efa"
         },
         "name": "",
         "notched": false,
         "offsetgroup": "",
         "orientation": "v",
         "showlegend": false,
         "type": "box",
         "x0": " ",
         "xaxis": "x",
         "y": [
          24.2,
          34.3,
          20.8,
          14.1,
          46,
          34.3,
          32.7,
          31.2,
          60,
          42.6,
          80,
          18.3,
          22.8,
          19.3,
          21.8,
          7.7,
          33.7,
          44.3,
          71.6,
          86.1,
          12.7,
          8.7,
          8.7,
          8.7,
          11.9,
          11.9,
          14.5,
          14.4,
          19.5,
          20.8,
          22,
          16.6,
          60,
          23.4,
          33.2,
          32,
          77.8,
          12.7,
          14.7,
          14.05,
          22.9,
          44,
          37,
          39,
          17,
          23.2,
          19,
          16.4,
          14.4,
          73,
          47,
          13.7,
          12.6,
          22.8,
          12.8,
          22.1,
          12.8,
          15.8,
          15.8,
          16.3,
          16.3,
          9.7,
          6.8,
          12.6,
          35,
          31.7,
          100,
          23,
          88.4,
          29.8,
          25.7,
          77.4,
          39,
          53,
          49,
          29.5,
          33,
          37.5,
          69,
          59,
          13.7,
          19.2,
          29,
          9.8,
          14.5,
          20.35,
          12,
          18.5,
          9.3,
          9.3,
          11.6,
          14.3,
          10.8,
          7.6,
          12,
          20.5,
          14.3,
          18.2,
          9,
          7.8,
          5.7,
          5.7,
          5.7,
          13.5,
          13.5,
          11.5,
          24,
          24,
          11.9,
          16.7,
          21.4,
          16.6,
          13.3,
          9.5,
          12.1,
          9.3,
          17.8,
          13.5,
          10.8,
          14.1,
          27.2,
          9.4,
          5.8,
          5.8,
          38,
          38,
          9.9,
          11.3,
          23,
          6.7,
          7.6,
          73.5,
          79.8,
          48.5,
          39.8,
          58.8,
          26.5,
          13.4,
          17.1,
          16.7,
          11.6,
          12.8,
          8.9,
          9.7,
          17.2,
          16.9,
          12.6,
          29.9,
          9.6,
          11.1,
          11.1,
          20,
          17.1,
          28,
          28,
          8.9,
          8.6,
          13.5,
          8.9,
          15.3,
          14.8,
          19.5,
          14.1,
          59.6,
          26.9,
          24.4,
          31.7,
          32.1,
          12.2,
          9.9,
          15.8,
          15.8,
          17.8,
          9.6,
          19,
          15.2,
          10.2,
          15.5,
          16.6,
          9.2,
          12.9,
          14.9,
          17.6,
          24.8,
          21.5,
          10.8,
          18.9,
          11.6,
          27,
          41,
          69.8,
          38.6,
          26.7,
          22.8,
          19,
          23.2,
          39.1,
          44,
          17.5,
          30,
          8.1,
          10.7,
          10.9,
          49,
          35.5,
          83,
          59,
          79.5,
          225,
          79.5,
          12.65,
          51.6,
          39,
          77,
          85.6,
          49.5,
          49.5,
          49.5,
          57,
          59.8,
          27.5,
          62,
          59,
          59,
          59,
          44,
          62.5,
          176,
          108.5,
          68.1,
          157,
          104,
          28.1,
          21.7,
          30.5,
          28.5,
          21.5,
          67.2,
          49,
          40,
          109.6,
          32.3,
          144,
          43.9,
          61.6,
          41.8,
          36.9,
          26.5,
          16.1,
          31.5,
          31.5,
          49,
          32.2,
          50.1,
          13.4,
          11.8,
          13.1,
          26.2,
          20.6,
          16.9,
          19,
          24,
          57,
          67.5,
          30.6,
          59,
          11.9,
          16.5,
          52.4,
          52.9,
          58.3,
          39.6,
          52.4,
          62.4,
          76.8,
          50,
          52.4,
          41,
          62.4,
          50,
          21.5,
          28.5,
          24.3,
          16.5,
          25.3,
          49,
          36.2,
          33.4,
          40.2,
          43,
          43,
          48.8,
          23.6,
          20.8,
          16.4,
          14.4,
          21,
          12.3,
          20.2,
          17,
          21.9,
          17.8,
          19.8,
          19,
          10.7,
          12.9,
          9.5,
          29.8,
          13.2,
          6.3,
          7.1,
          9.1,
          9.1,
          18.1,
          14,
          30.1,
          12.8,
          12.8,
          12,
          18.5,
          34.5,
          20.5,
          23.8,
          19.8,
          18.2,
          31.6,
          16.8,
          22.8,
          32.6,
          44,
          55.4,
          15.8,
          18.4,
          13.3,
          11.1,
          18.6,
          23.4,
          18.2,
          12.5,
          15.9,
          20.2,
          13.7,
          29,
          23.4,
          12.7,
          26,
          29.5,
          8.6,
          14.3,
          22,
          16.8,
          15.3,
          13.5,
          7.4,
          9.7,
          12.4,
          13.8,
          14.5,
          11.9,
          16.4,
          27.9,
          12,
          7.4,
          26.5,
          24.3,
          16.9,
          6.8,
          13.9,
          7.8,
          13.7,
          9.8,
          29.5,
          28.5,
          10.1,
          12.1,
          12.3,
          11.1,
          11.1,
          13.6,
          21,
          18.7,
          41.6,
          12,
          78,
          12.7,
          14.9,
          6.5,
          8.7,
          8.5,
          9.9,
          8.2,
          8.3,
          9.8,
          9.9,
          17.2,
          9.3,
          14.6,
          22.8,
          18.7,
          28.4,
          27.9,
          25.3,
          17,
          27.9,
          20.1,
          27.9,
          21.2,
          20.8,
          41,
          46,
          102.3,
          137,
          22.9,
          53.2,
          25.9,
          17.3,
          23,
          25.9,
          28,
          25.9,
          25.9,
          37.2,
          24.4,
          24.4,
          13.8,
          21.5,
          7,
          12.8,
          23.2,
          7.9,
          6.5,
          7.9,
          16.7,
          17.5,
          27.8,
          25.7,
          18.4,
          22.2,
          11.1,
          9.9,
          12.5,
          12.9,
          20.5,
          25,
          11.3,
          7,
          12.1,
          7.1,
          49.5,
          10,
          23,
          23.7,
          16.45,
          16.3,
          18.5,
          26.5,
          78,
          78,
          78,
          27.3,
          217.5,
          64.9,
          48.7,
          59.4,
          48.7,
          105,
          105,
          55.6,
          9.3,
          8,
          15.4,
          19.8,
          10,
          17.1,
          45,
          112,
          86.8,
          62.1,
          22.5,
          7.5,
          52.6,
          45,
          67,
          59.9,
          59.9,
          65,
          84.7,
          43.3,
          15.2,
          19,
          11.1,
          18,
          22.8,
          19.5,
          28.8,
          16.1,
          24.2,
          35.3,
          10.7,
          12.7,
          17.1,
          24,
          39,
          13.2,
          23.6,
          15.5,
          16.3,
          16.2,
          7.2,
          54.8,
          42,
          19.8,
          10.2,
          10.4,
          11.5,
          17.9,
          21.6,
          33.4,
          49.5,
          43.5,
          43.5,
          26.5,
          13.8,
          10.1,
          18.2,
          12.9,
          38.6,
          48.4,
          60.4,
          38.6,
          12,
          61.6,
          65.9,
          15.2,
          24.6,
          48.8,
          34.3,
          36.3,
          57.7,
          38,
          27.9,
          47,
          58,
          58,
          30.8,
          92,
          27.5,
          19.9,
          22.5,
          34.7,
          59.6,
          83.7,
          30.5,
          38.6,
          18,
          63.4,
          124.8,
          19.2,
          19.2,
          56.4,
          38.4,
          27.8,
          71.3,
          71.3,
          25,
          10.3,
          28,
          44.6,
          13,
          12.7,
          6.5,
          17.5,
          29.9,
          44.5,
          29.4,
          16.9,
          19.8,
          10.3,
          10.8,
          31.7,
          25,
          57.6,
          13.7,
          7.1,
          14.9,
          11,
          14.6,
          10.7,
          73.3,
          42.1,
          57,
          24.5,
          10.1,
          42.2,
          13.1,
          19.5,
          12.9,
          35.6,
          175,
          35.6,
          33.6,
          34.4,
          38.4,
          29.7,
          32.8,
          5.7,
          5.8,
          5.8,
          21.7,
          23,
          12.5,
          17.2,
          40.2,
          32.3,
          24,
          23.8,
          17.1,
          25,
          29.2,
          17.4,
          27.3,
          34.2,
          17.9,
          24,
          16.6,
          16.9,
          57.6,
          63.5,
          56,
          63.5,
          41.2,
          55,
          57,
          19.3,
          19,
          191.3,
          26.6,
          15.4,
          24.7,
          28.1,
          18.25,
          35.1,
          27.3,
          18.8,
          43.9,
          19.8,
          17.7,
          57,
          36,
          36,
          93,
          122,
          114,
          48.5,
          49.5,
          14.1,
          59.9,
          46,
          74.5,
          42.5,
          47.5,
          18.8,
          27.3,
          17.2,
          39,
          8.7,
          15.4,
          12.7,
          30,
          13.5,
          16.3,
          56.3,
          71.5,
          69,
          17.9,
          48.5,
          71.7,
          8.5,
          10.9,
          21.8,
          38.5,
          9.3,
          13.6,
          24.5,
          12.6,
          13.4,
          29.8,
          12.9,
          36.9,
          40.7,
          33.2,
          34.8,
          74.8,
          62.4,
          46,
          39.2,
          14.2,
          135,
          10.6,
          10.6,
          5.2,
          46,
          105.6,
          116.4,
          31,
          20.2,
          25.2,
          25.2,
          115,
          121,
          99,
          115,
          121,
          23.5,
          26.4,
          26.7,
          20.4,
          20.4,
          40.2,
          9,
          45.9,
          10.4,
          78,
          40.5,
          92,
          27.9,
          28.5,
          22.4,
          28.4,
          72,
          29,
          29.2,
          44,
          68.3,
          41.8,
          40,
          13.5,
          19,
          24.4,
          9.1,
          32.8,
          15.4,
          9.9,
          13.5,
          51,
          35.2,
          42.2,
          33.2,
          41.8,
          32.2,
          37.7,
          47.2,
          52.7,
          22.4,
          50.4,
          35.6,
          27.7,
          48.5,
          15.4,
          46.5,
          46.5,
          28,
          28,
          24,
          18,
          40,
          40,
          40,
          40,
          46.5,
          42,
          21.8,
          30,
          26,
          30,
          20,
          31,
          27,
          31,
          21,
          31,
          27,
          31,
          21,
          50.5,
          49.9,
          19,
          8.4,
          40,
          40,
          47,
          45,
          27.5,
          69,
          45,
          45,
          30,
          26,
          30,
          20,
          45,
          45,
          45,
          45,
          45,
          31,
          21,
          27,
          31,
          31,
          45,
          45,
          45,
          31,
          27,
          31,
          21,
          31,
          31,
          31,
          45,
          45,
          54.8,
          26.5,
          16.3
         ],
         "y0": " ",
         "yaxis": "y"
        }
       ],
       "layout": {
        "boxmode": "group",
        "legend": {
         "tracegroupgap": 0
        },
        "template": {
         "data": {
          "bar": [
           {
            "error_x": {
             "color": "#2a3f5f"
            },
            "error_y": {
             "color": "#2a3f5f"
            },
            "marker": {
             "line": {
              "color": "#E5ECF6",
              "width": 0.5
             },
             "pattern": {
              "fillmode": "overlay",
              "size": 10,
              "solidity": 0.2
             }
            },
            "type": "bar"
           }
          ],
          "barpolar": [
           {
            "marker": {
             "line": {
              "color": "#E5ECF6",
              "width": 0.5
             },
             "pattern": {
              "fillmode": "overlay",
              "size": 10,
              "solidity": 0.2
             }
            },
            "type": "barpolar"
           }
          ],
          "carpet": [
           {
            "aaxis": {
             "endlinecolor": "#2a3f5f",
             "gridcolor": "white",
             "linecolor": "white",
             "minorgridcolor": "white",
             "startlinecolor": "#2a3f5f"
            },
            "baxis": {
             "endlinecolor": "#2a3f5f",
             "gridcolor": "white",
             "linecolor": "white",
             "minorgridcolor": "white",
             "startlinecolor": "#2a3f5f"
            },
            "type": "carpet"
           }
          ],
          "choropleth": [
           {
            "colorbar": {
             "outlinewidth": 0,
             "ticks": ""
            },
            "type": "choropleth"
           }
          ],
          "contour": [
           {
            "colorbar": {
             "outlinewidth": 0,
             "ticks": ""
            },
            "colorscale": [
             [
              0,
              "#0d0887"
             ],
             [
              0.1111111111111111,
              "#46039f"
             ],
             [
              0.2222222222222222,
              "#7201a8"
             ],
             [
              0.3333333333333333,
              "#9c179e"
             ],
             [
              0.4444444444444444,
              "#bd3786"
             ],
             [
              0.5555555555555556,
              "#d8576b"
             ],
             [
              0.6666666666666666,
              "#ed7953"
             ],
             [
              0.7777777777777778,
              "#fb9f3a"
             ],
             [
              0.8888888888888888,
              "#fdca26"
             ],
             [
              1,
              "#f0f921"
             ]
            ],
            "type": "contour"
           }
          ],
          "contourcarpet": [
           {
            "colorbar": {
             "outlinewidth": 0,
             "ticks": ""
            },
            "type": "contourcarpet"
           }
          ],
          "heatmap": [
           {
            "colorbar": {
             "outlinewidth": 0,
             "ticks": ""
            },
            "colorscale": [
             [
              0,
              "#0d0887"
             ],
             [
              0.1111111111111111,
              "#46039f"
             ],
             [
              0.2222222222222222,
              "#7201a8"
             ],
             [
              0.3333333333333333,
              "#9c179e"
             ],
             [
              0.4444444444444444,
              "#bd3786"
             ],
             [
              0.5555555555555556,
              "#d8576b"
             ],
             [
              0.6666666666666666,
              "#ed7953"
             ],
             [
              0.7777777777777778,
              "#fb9f3a"
             ],
             [
              0.8888888888888888,
              "#fdca26"
             ],
             [
              1,
              "#f0f921"
             ]
            ],
            "type": "heatmap"
           }
          ],
          "heatmapgl": [
           {
            "colorbar": {
             "outlinewidth": 0,
             "ticks": ""
            },
            "colorscale": [
             [
              0,
              "#0d0887"
             ],
             [
              0.1111111111111111,
              "#46039f"
             ],
             [
              0.2222222222222222,
              "#7201a8"
             ],
             [
              0.3333333333333333,
              "#9c179e"
             ],
             [
              0.4444444444444444,
              "#bd3786"
             ],
             [
              0.5555555555555556,
              "#d8576b"
             ],
             [
              0.6666666666666666,
              "#ed7953"
             ],
             [
              0.7777777777777778,
              "#fb9f3a"
             ],
             [
              0.8888888888888888,
              "#fdca26"
             ],
             [
              1,
              "#f0f921"
             ]
            ],
            "type": "heatmapgl"
           }
          ],
          "histogram": [
           {
            "marker": {
             "pattern": {
              "fillmode": "overlay",
              "size": 10,
              "solidity": 0.2
             }
            },
            "type": "histogram"
           }
          ],
          "histogram2d": [
           {
            "colorbar": {
             "outlinewidth": 0,
             "ticks": ""
            },
            "colorscale": [
             [
              0,
              "#0d0887"
             ],
             [
              0.1111111111111111,
              "#46039f"
             ],
             [
              0.2222222222222222,
              "#7201a8"
             ],
             [
              0.3333333333333333,
              "#9c179e"
             ],
             [
              0.4444444444444444,
              "#bd3786"
             ],
             [
              0.5555555555555556,
              "#d8576b"
             ],
             [
              0.6666666666666666,
              "#ed7953"
             ],
             [
              0.7777777777777778,
              "#fb9f3a"
             ],
             [
              0.8888888888888888,
              "#fdca26"
             ],
             [
              1,
              "#f0f921"
             ]
            ],
            "type": "histogram2d"
           }
          ],
          "histogram2dcontour": [
           {
            "colorbar": {
             "outlinewidth": 0,
             "ticks": ""
            },
            "colorscale": [
             [
              0,
              "#0d0887"
             ],
             [
              0.1111111111111111,
              "#46039f"
             ],
             [
              0.2222222222222222,
              "#7201a8"
             ],
             [
              0.3333333333333333,
              "#9c179e"
             ],
             [
              0.4444444444444444,
              "#bd3786"
             ],
             [
              0.5555555555555556,
              "#d8576b"
             ],
             [
              0.6666666666666666,
              "#ed7953"
             ],
             [
              0.7777777777777778,
              "#fb9f3a"
             ],
             [
              0.8888888888888888,
              "#fdca26"
             ],
             [
              1,
              "#f0f921"
             ]
            ],
            "type": "histogram2dcontour"
           }
          ],
          "mesh3d": [
           {
            "colorbar": {
             "outlinewidth": 0,
             "ticks": ""
            },
            "type": "mesh3d"
           }
          ],
          "parcoords": [
           {
            "line": {
             "colorbar": {
              "outlinewidth": 0,
              "ticks": ""
             }
            },
            "type": "parcoords"
           }
          ],
          "pie": [
           {
            "automargin": true,
            "type": "pie"
           }
          ],
          "scatter": [
           {
            "fillpattern": {
             "fillmode": "overlay",
             "size": 10,
             "solidity": 0.2
            },
            "type": "scatter"
           }
          ],
          "scatter3d": [
           {
            "line": {
             "colorbar": {
              "outlinewidth": 0,
              "ticks": ""
             }
            },
            "marker": {
             "colorbar": {
              "outlinewidth": 0,
              "ticks": ""
             }
            },
            "type": "scatter3d"
           }
          ],
          "scattercarpet": [
           {
            "marker": {
             "colorbar": {
              "outlinewidth": 0,
              "ticks": ""
             }
            },
            "type": "scattercarpet"
           }
          ],
          "scattergeo": [
           {
            "marker": {
             "colorbar": {
              "outlinewidth": 0,
              "ticks": ""
             }
            },
            "type": "scattergeo"
           }
          ],
          "scattergl": [
           {
            "marker": {
             "colorbar": {
              "outlinewidth": 0,
              "ticks": ""
             }
            },
            "type": "scattergl"
           }
          ],
          "scattermapbox": [
           {
            "marker": {
             "colorbar": {
              "outlinewidth": 0,
              "ticks": ""
             }
            },
            "type": "scattermapbox"
           }
          ],
          "scatterpolar": [
           {
            "marker": {
             "colorbar": {
              "outlinewidth": 0,
              "ticks": ""
             }
            },
            "type": "scatterpolar"
           }
          ],
          "scatterpolargl": [
           {
            "marker": {
             "colorbar": {
              "outlinewidth": 0,
              "ticks": ""
             }
            },
            "type": "scatterpolargl"
           }
          ],
          "scatterternary": [
           {
            "marker": {
             "colorbar": {
              "outlinewidth": 0,
              "ticks": ""
             }
            },
            "type": "scatterternary"
           }
          ],
          "surface": [
           {
            "colorbar": {
             "outlinewidth": 0,
             "ticks": ""
            },
            "colorscale": [
             [
              0,
              "#0d0887"
             ],
             [
              0.1111111111111111,
              "#46039f"
             ],
             [
              0.2222222222222222,
              "#7201a8"
             ],
             [
              0.3333333333333333,
              "#9c179e"
             ],
             [
              0.4444444444444444,
              "#bd3786"
             ],
             [
              0.5555555555555556,
              "#d8576b"
             ],
             [
              0.6666666666666666,
              "#ed7953"
             ],
             [
              0.7777777777777778,
              "#fb9f3a"
             ],
             [
              0.8888888888888888,
              "#fdca26"
             ],
             [
              1,
              "#f0f921"
             ]
            ],
            "type": "surface"
           }
          ],
          "table": [
           {
            "cells": {
             "fill": {
              "color": "#EBF0F8"
             },
             "line": {
              "color": "white"
             }
            },
            "header": {
             "fill": {
              "color": "#C8D4E3"
             },
             "line": {
              "color": "white"
             }
            },
            "type": "table"
           }
          ]
         },
         "layout": {
          "annotationdefaults": {
           "arrowcolor": "#2a3f5f",
           "arrowhead": 0,
           "arrowwidth": 1
          },
          "autotypenumbers": "strict",
          "coloraxis": {
           "colorbar": {
            "outlinewidth": 0,
            "ticks": ""
           }
          },
          "colorscale": {
           "diverging": [
            [
             0,
             "#8e0152"
            ],
            [
             0.1,
             "#c51b7d"
            ],
            [
             0.2,
             "#de77ae"
            ],
            [
             0.3,
             "#f1b6da"
            ],
            [
             0.4,
             "#fde0ef"
            ],
            [
             0.5,
             "#f7f7f7"
            ],
            [
             0.6,
             "#e6f5d0"
            ],
            [
             0.7,
             "#b8e186"
            ],
            [
             0.8,
             "#7fbc41"
            ],
            [
             0.9,
             "#4d9221"
            ],
            [
             1,
             "#276419"
            ]
           ],
           "sequential": [
            [
             0,
             "#0d0887"
            ],
            [
             0.1111111111111111,
             "#46039f"
            ],
            [
             0.2222222222222222,
             "#7201a8"
            ],
            [
             0.3333333333333333,
             "#9c179e"
            ],
            [
             0.4444444444444444,
             "#bd3786"
            ],
            [
             0.5555555555555556,
             "#d8576b"
            ],
            [
             0.6666666666666666,
             "#ed7953"
            ],
            [
             0.7777777777777778,
             "#fb9f3a"
            ],
            [
             0.8888888888888888,
             "#fdca26"
            ],
            [
             1,
             "#f0f921"
            ]
           ],
           "sequentialminus": [
            [
             0,
             "#0d0887"
            ],
            [
             0.1111111111111111,
             "#46039f"
            ],
            [
             0.2222222222222222,
             "#7201a8"
            ],
            [
             0.3333333333333333,
             "#9c179e"
            ],
            [
             0.4444444444444444,
             "#bd3786"
            ],
            [
             0.5555555555555556,
             "#d8576b"
            ],
            [
             0.6666666666666666,
             "#ed7953"
            ],
            [
             0.7777777777777778,
             "#fb9f3a"
            ],
            [
             0.8888888888888888,
             "#fdca26"
            ],
            [
             1,
             "#f0f921"
            ]
           ]
          },
          "colorway": [
           "#636efa",
           "#EF553B",
           "#00cc96",
           "#ab63fa",
           "#FFA15A",
           "#19d3f3",
           "#FF6692",
           "#B6E880",
           "#FF97FF",
           "#FECB52"
          ],
          "font": {
           "color": "#2a3f5f"
          },
          "geo": {
           "bgcolor": "white",
           "lakecolor": "white",
           "landcolor": "#E5ECF6",
           "showlakes": true,
           "showland": true,
           "subunitcolor": "white"
          },
          "hoverlabel": {
           "align": "left"
          },
          "hovermode": "closest",
          "mapbox": {
           "style": "light"
          },
          "paper_bgcolor": "white",
          "plot_bgcolor": "#E5ECF6",
          "polar": {
           "angularaxis": {
            "gridcolor": "white",
            "linecolor": "white",
            "ticks": ""
           },
           "bgcolor": "#E5ECF6",
           "radialaxis": {
            "gridcolor": "white",
            "linecolor": "white",
            "ticks": ""
           }
          },
          "scene": {
           "xaxis": {
            "backgroundcolor": "#E5ECF6",
            "gridcolor": "white",
            "gridwidth": 2,
            "linecolor": "white",
            "showbackground": true,
            "ticks": "",
            "zerolinecolor": "white"
           },
           "yaxis": {
            "backgroundcolor": "#E5ECF6",
            "gridcolor": "white",
            "gridwidth": 2,
            "linecolor": "white",
            "showbackground": true,
            "ticks": "",
            "zerolinecolor": "white"
           },
           "zaxis": {
            "backgroundcolor": "#E5ECF6",
            "gridcolor": "white",
            "gridwidth": 2,
            "linecolor": "white",
            "showbackground": true,
            "ticks": "",
            "zerolinecolor": "white"
           }
          },
          "shapedefaults": {
           "line": {
            "color": "#2a3f5f"
           }
          },
          "ternary": {
           "aaxis": {
            "gridcolor": "white",
            "linecolor": "white",
            "ticks": ""
           },
           "baxis": {
            "gridcolor": "white",
            "linecolor": "white",
            "ticks": ""
           },
           "bgcolor": "#E5ECF6",
           "caxis": {
            "gridcolor": "white",
            "linecolor": "white",
            "ticks": ""
           }
          },
          "title": {
           "x": 0.05
          },
          "xaxis": {
           "automargin": true,
           "gridcolor": "white",
           "linecolor": "white",
           "ticks": "",
           "title": {
            "standoff": 15
           },
           "zerolinecolor": "white",
           "zerolinewidth": 2
          },
          "yaxis": {
           "automargin": true,
           "gridcolor": "white",
           "linecolor": "white",
           "ticks": "",
           "title": {
            "standoff": 15
           },
           "zerolinecolor": "white",
           "zerolinewidth": 2
          }
         }
        },
        "title": {
         "text": "Répartition des prix"
        },
        "xaxis": {
         "anchor": "y",
         "domain": [
          0,
          1
         ]
        },
        "yaxis": {
         "anchor": "x",
         "domain": [
          0,
          1
         ],
         "title": {
          "text": "price"
         }
        }
       }
      }
     },
     "metadata": {},
     "output_type": "display_data"
    }
   ],
   "source": [
    "#Création d'une Boite à moustache de la répartition des prix grâce à Pandas\n",
    "fig = px.box(df_merge, y='price', title='Répartition des prix')\n",
    "\n",
    "fig\n",
    "\n",
    "#un peu aplatie.."
   ]
  },
  {
   "cell_type": "code",
   "execution_count": 45,
   "id": "cbfe6346",
   "metadata": {},
   "outputs": [
    {
     "data": {
      "application/vnd.plotly.v1+json": {
       "config": {
        "plotlyServerURL": "https://plot.ly"
       },
       "data": [
        {
         "alignmentgroup": "True",
         "hovertemplate": "price=%{y}<extra></extra>",
         "legendgroup": "",
         "marker": {
          "color": "#636efa"
         },
         "name": "",
         "notched": false,
         "offsetgroup": "",
         "orientation": "v",
         "showlegend": false,
         "type": "box",
         "x0": " ",
         "xaxis": "x",
         "y": [
          24.2,
          34.3,
          20.8,
          14.1,
          46,
          34.3,
          32.7,
          31.2,
          60,
          42.6,
          80,
          18.3,
          22.8,
          19.3,
          21.8,
          7.7,
          33.7,
          44.3,
          71.6,
          86.1,
          12.7,
          8.7,
          8.7,
          8.7,
          11.9,
          11.9,
          14.5,
          14.4,
          19.5,
          20.8,
          22,
          16.6,
          60,
          23.4,
          33.2,
          32,
          77.8,
          12.7,
          14.7,
          14.05,
          22.9,
          44,
          37,
          39,
          17,
          23.2,
          19,
          16.4,
          14.4,
          73,
          47,
          13.7,
          12.6,
          22.8,
          12.8,
          22.1,
          12.8,
          15.8,
          15.8,
          16.3,
          16.3,
          9.7,
          6.8,
          12.6,
          35,
          31.7,
          100,
          23,
          88.4,
          29.8,
          25.7,
          77.4,
          39,
          53,
          49,
          29.5,
          33,
          37.5,
          69,
          59,
          13.7,
          19.2,
          29,
          9.8,
          14.5,
          20.35,
          12,
          18.5,
          9.3,
          9.3,
          11.6,
          14.3,
          10.8,
          7.6,
          12,
          20.5,
          14.3,
          18.2,
          9,
          7.8,
          5.7,
          5.7,
          5.7,
          13.5,
          13.5,
          11.5,
          24,
          24,
          11.9,
          16.7,
          21.4,
          16.6,
          13.3,
          9.5,
          12.1,
          9.3,
          17.8,
          13.5,
          10.8,
          14.1,
          27.2,
          9.4,
          5.8,
          5.8,
          38,
          38,
          9.9,
          11.3,
          23,
          6.7,
          7.6,
          73.5,
          79.8,
          48.5,
          39.8,
          58.8,
          26.5,
          13.4,
          17.1,
          16.7,
          11.6,
          12.8,
          8.9,
          9.7,
          17.2,
          16.9,
          12.6,
          29.9,
          9.6,
          11.1,
          11.1,
          20,
          17.1,
          28,
          28,
          8.9,
          8.6,
          13.5,
          8.9,
          15.3,
          14.8,
          19.5,
          14.1,
          59.6,
          26.9,
          24.4,
          31.7,
          32.1,
          12.2,
          9.9,
          15.8,
          15.8,
          17.8,
          9.6,
          19,
          15.2,
          10.2,
          15.5,
          16.6,
          9.2,
          12.9,
          14.9,
          17.6,
          24.8,
          21.5,
          10.8,
          18.9,
          11.6,
          27,
          41,
          69.8,
          38.6,
          26.7,
          22.8,
          19,
          23.2,
          39.1,
          44,
          17.5,
          30,
          8.1,
          10.7,
          10.9,
          49,
          35.5,
          83,
          59,
          79.5,
          225,
          79.5,
          12.65,
          51.6,
          39,
          77,
          85.6,
          49.5,
          49.5,
          49.5,
          57,
          59.8,
          27.5,
          62,
          59,
          59,
          59,
          44,
          62.5,
          176,
          108.5,
          68.1,
          157,
          104,
          28.1,
          21.7,
          30.5,
          28.5,
          21.5,
          67.2,
          49,
          40,
          109.6,
          32.3,
          144,
          43.9,
          61.6,
          41.8,
          36.9,
          26.5,
          16.1,
          31.5,
          31.5,
          49,
          32.2,
          50.1,
          13.4,
          11.8,
          13.1,
          26.2,
          20.6,
          16.9,
          19,
          24,
          57,
          67.5,
          30.6,
          59,
          11.9,
          16.5,
          52.4,
          52.9,
          58.3,
          39.6,
          52.4,
          62.4,
          76.8,
          50,
          52.4,
          41,
          62.4,
          50,
          21.5,
          28.5,
          24.3,
          16.5,
          25.3,
          49,
          36.2,
          33.4,
          40.2,
          43,
          43,
          48.8,
          23.6,
          20.8,
          16.4,
          14.4,
          21,
          12.3,
          20.2,
          17,
          21.9,
          17.8,
          19.8,
          19,
          10.7,
          12.9,
          9.5,
          29.8,
          13.2,
          6.3,
          7.1,
          9.1,
          9.1,
          18.1,
          14,
          30.1,
          12.8,
          12.8,
          12,
          18.5,
          34.5,
          20.5,
          23.8,
          19.8,
          18.2,
          31.6,
          16.8,
          22.8,
          32.6,
          44,
          55.4,
          15.8,
          18.4,
          13.3,
          11.1,
          18.6,
          23.4,
          18.2,
          12.5,
          15.9,
          20.2,
          13.7,
          29,
          23.4,
          12.7,
          26,
          29.5,
          8.6,
          14.3,
          22,
          16.8,
          15.3,
          13.5,
          7.4,
          9.7,
          12.4,
          13.8,
          14.5,
          11.9,
          16.4,
          27.9,
          12,
          7.4,
          26.5,
          24.3,
          16.9,
          6.8,
          13.9,
          7.8,
          13.7,
          9.8,
          29.5,
          28.5,
          10.1,
          12.1,
          12.3,
          11.1,
          11.1,
          13.6,
          21,
          18.7,
          41.6,
          12,
          78,
          12.7,
          14.9,
          6.5,
          8.7,
          8.5,
          9.9,
          8.2,
          8.3,
          9.8,
          9.9,
          17.2,
          9.3,
          14.6,
          22.8,
          18.7,
          28.4,
          27.9,
          25.3,
          17,
          27.9,
          20.1,
          27.9,
          21.2,
          20.8,
          41,
          46,
          102.3,
          137,
          22.9,
          53.2,
          25.9,
          17.3,
          23,
          25.9,
          28,
          25.9,
          25.9,
          37.2,
          24.4,
          24.4,
          13.8,
          21.5,
          7,
          12.8,
          23.2,
          7.9,
          6.5,
          7.9,
          16.7,
          17.5,
          27.8,
          25.7,
          18.4,
          22.2,
          11.1,
          9.9,
          12.5,
          12.9,
          20.5,
          25,
          11.3,
          7,
          12.1,
          7.1,
          49.5,
          10,
          23,
          23.7,
          16.45,
          16.3,
          18.5,
          26.5,
          78,
          78,
          78,
          27.3,
          217.5,
          64.9,
          48.7,
          59.4,
          48.7,
          105,
          105,
          55.6,
          9.3,
          8,
          15.4,
          19.8,
          10,
          17.1,
          45,
          112,
          86.8,
          62.1,
          22.5,
          7.5,
          52.6,
          45,
          67,
          59.9,
          59.9,
          65,
          84.7,
          43.3,
          15.2,
          19,
          11.1,
          18,
          22.8,
          19.5,
          28.8,
          16.1,
          24.2,
          35.3,
          10.7,
          12.7,
          17.1,
          24,
          39,
          13.2,
          23.6,
          15.5,
          16.3,
          16.2,
          7.2,
          54.8,
          42,
          19.8,
          10.2,
          10.4,
          11.5,
          17.9,
          21.6,
          33.4,
          49.5,
          43.5,
          43.5,
          26.5,
          13.8,
          10.1,
          18.2,
          12.9,
          38.6,
          48.4,
          60.4,
          38.6,
          12,
          61.6,
          65.9,
          15.2,
          24.6,
          48.8,
          34.3,
          36.3,
          57.7,
          38,
          27.9,
          47,
          58,
          58,
          30.8,
          92,
          27.5,
          19.9,
          22.5,
          34.7,
          59.6,
          83.7,
          30.5,
          38.6,
          18,
          63.4,
          124.8,
          19.2,
          19.2,
          56.4,
          38.4,
          27.8,
          71.3,
          71.3,
          25,
          10.3,
          28,
          44.6,
          13,
          12.7,
          6.5,
          17.5,
          29.9,
          44.5,
          29.4,
          16.9,
          19.8,
          10.3,
          10.8,
          31.7,
          25,
          57.6,
          13.7,
          7.1,
          14.9,
          11,
          14.6,
          10.7,
          73.3,
          42.1,
          57,
          24.5,
          10.1,
          42.2,
          13.1,
          19.5,
          12.9,
          35.6,
          175,
          35.6,
          33.6,
          34.4,
          38.4,
          29.7,
          32.8,
          5.7,
          5.8,
          5.8,
          21.7,
          23,
          12.5,
          17.2,
          40.2,
          32.3,
          24,
          23.8,
          17.1,
          25,
          29.2,
          17.4,
          27.3,
          34.2,
          17.9,
          24,
          16.6,
          16.9,
          57.6,
          63.5,
          56,
          63.5,
          41.2,
          55,
          57,
          19.3,
          19,
          191.3,
          26.6,
          15.4,
          24.7,
          28.1,
          18.25,
          35.1,
          27.3,
          18.8,
          43.9,
          19.8,
          17.7,
          57,
          36,
          36,
          93,
          122,
          114,
          48.5,
          49.5,
          14.1,
          59.9,
          46,
          74.5,
          42.5,
          47.5,
          18.8,
          27.3,
          17.2,
          39,
          8.7,
          15.4,
          12.7,
          30,
          13.5,
          16.3,
          56.3,
          71.5,
          69,
          17.9,
          48.5,
          71.7,
          8.5,
          10.9,
          21.8,
          38.5,
          9.3,
          13.6,
          24.5,
          12.6,
          13.4,
          29.8,
          12.9,
          36.9,
          40.7,
          33.2,
          34.8,
          74.8,
          62.4,
          46,
          39.2,
          14.2,
          135,
          10.6,
          10.6,
          5.2,
          46,
          105.6,
          116.4,
          31,
          20.2,
          25.2,
          25.2,
          115,
          121,
          99,
          115,
          121,
          23.5,
          26.4,
          26.7,
          20.4,
          20.4,
          40.2,
          9,
          45.9,
          10.4,
          78,
          40.5,
          92,
          27.9,
          28.5,
          22.4,
          28.4,
          72,
          29,
          29.2,
          44,
          68.3,
          41.8,
          40,
          13.5,
          19,
          24.4,
          9.1,
          32.8,
          15.4,
          9.9,
          13.5,
          51,
          35.2,
          42.2,
          33.2,
          41.8,
          32.2,
          37.7,
          47.2,
          52.7,
          22.4,
          50.4,
          35.6,
          27.7,
          48.5,
          15.4,
          46.5,
          46.5,
          28,
          28,
          24,
          18,
          40,
          40,
          40,
          40,
          46.5,
          42,
          21.8,
          30,
          26,
          30,
          20,
          31,
          27,
          31,
          21,
          31,
          27,
          31,
          21,
          50.5,
          49.9,
          19,
          8.4,
          40,
          40,
          47,
          45,
          27.5,
          69,
          45,
          45,
          30,
          26,
          30,
          20,
          45,
          45,
          45,
          45,
          45,
          31,
          21,
          27,
          31,
          31,
          45,
          45,
          45,
          31,
          27,
          31,
          21,
          31,
          31,
          31,
          45,
          45,
          54.8,
          26.5,
          16.3
         ],
         "y0": " ",
         "yaxis": "y"
        }
       ],
       "layout": {
        "boxmode": "group",
        "legend": {
         "tracegroupgap": 0
        },
        "template": {
         "data": {
          "bar": [
           {
            "error_x": {
             "color": "#2a3f5f"
            },
            "error_y": {
             "color": "#2a3f5f"
            },
            "marker": {
             "line": {
              "color": "white",
              "width": 0.5
             },
             "pattern": {
              "fillmode": "overlay",
              "size": 10,
              "solidity": 0.2
             }
            },
            "type": "bar"
           }
          ],
          "barpolar": [
           {
            "marker": {
             "line": {
              "color": "white",
              "width": 0.5
             },
             "pattern": {
              "fillmode": "overlay",
              "size": 10,
              "solidity": 0.2
             }
            },
            "type": "barpolar"
           }
          ],
          "carpet": [
           {
            "aaxis": {
             "endlinecolor": "#2a3f5f",
             "gridcolor": "#C8D4E3",
             "linecolor": "#C8D4E3",
             "minorgridcolor": "#C8D4E3",
             "startlinecolor": "#2a3f5f"
            },
            "baxis": {
             "endlinecolor": "#2a3f5f",
             "gridcolor": "#C8D4E3",
             "linecolor": "#C8D4E3",
             "minorgridcolor": "#C8D4E3",
             "startlinecolor": "#2a3f5f"
            },
            "type": "carpet"
           }
          ],
          "choropleth": [
           {
            "colorbar": {
             "outlinewidth": 0,
             "ticks": ""
            },
            "type": "choropleth"
           }
          ],
          "contour": [
           {
            "colorbar": {
             "outlinewidth": 0,
             "ticks": ""
            },
            "colorscale": [
             [
              0,
              "#0d0887"
             ],
             [
              0.1111111111111111,
              "#46039f"
             ],
             [
              0.2222222222222222,
              "#7201a8"
             ],
             [
              0.3333333333333333,
              "#9c179e"
             ],
             [
              0.4444444444444444,
              "#bd3786"
             ],
             [
              0.5555555555555556,
              "#d8576b"
             ],
             [
              0.6666666666666666,
              "#ed7953"
             ],
             [
              0.7777777777777778,
              "#fb9f3a"
             ],
             [
              0.8888888888888888,
              "#fdca26"
             ],
             [
              1,
              "#f0f921"
             ]
            ],
            "type": "contour"
           }
          ],
          "contourcarpet": [
           {
            "colorbar": {
             "outlinewidth": 0,
             "ticks": ""
            },
            "type": "contourcarpet"
           }
          ],
          "heatmap": [
           {
            "colorbar": {
             "outlinewidth": 0,
             "ticks": ""
            },
            "colorscale": [
             [
              0,
              "#0d0887"
             ],
             [
              0.1111111111111111,
              "#46039f"
             ],
             [
              0.2222222222222222,
              "#7201a8"
             ],
             [
              0.3333333333333333,
              "#9c179e"
             ],
             [
              0.4444444444444444,
              "#bd3786"
             ],
             [
              0.5555555555555556,
              "#d8576b"
             ],
             [
              0.6666666666666666,
              "#ed7953"
             ],
             [
              0.7777777777777778,
              "#fb9f3a"
             ],
             [
              0.8888888888888888,
              "#fdca26"
             ],
             [
              1,
              "#f0f921"
             ]
            ],
            "type": "heatmap"
           }
          ],
          "heatmapgl": [
           {
            "colorbar": {
             "outlinewidth": 0,
             "ticks": ""
            },
            "colorscale": [
             [
              0,
              "#0d0887"
             ],
             [
              0.1111111111111111,
              "#46039f"
             ],
             [
              0.2222222222222222,
              "#7201a8"
             ],
             [
              0.3333333333333333,
              "#9c179e"
             ],
             [
              0.4444444444444444,
              "#bd3786"
             ],
             [
              0.5555555555555556,
              "#d8576b"
             ],
             [
              0.6666666666666666,
              "#ed7953"
             ],
             [
              0.7777777777777778,
              "#fb9f3a"
             ],
             [
              0.8888888888888888,
              "#fdca26"
             ],
             [
              1,
              "#f0f921"
             ]
            ],
            "type": "heatmapgl"
           }
          ],
          "histogram": [
           {
            "marker": {
             "pattern": {
              "fillmode": "overlay",
              "size": 10,
              "solidity": 0.2
             }
            },
            "type": "histogram"
           }
          ],
          "histogram2d": [
           {
            "colorbar": {
             "outlinewidth": 0,
             "ticks": ""
            },
            "colorscale": [
             [
              0,
              "#0d0887"
             ],
             [
              0.1111111111111111,
              "#46039f"
             ],
             [
              0.2222222222222222,
              "#7201a8"
             ],
             [
              0.3333333333333333,
              "#9c179e"
             ],
             [
              0.4444444444444444,
              "#bd3786"
             ],
             [
              0.5555555555555556,
              "#d8576b"
             ],
             [
              0.6666666666666666,
              "#ed7953"
             ],
             [
              0.7777777777777778,
              "#fb9f3a"
             ],
             [
              0.8888888888888888,
              "#fdca26"
             ],
             [
              1,
              "#f0f921"
             ]
            ],
            "type": "histogram2d"
           }
          ],
          "histogram2dcontour": [
           {
            "colorbar": {
             "outlinewidth": 0,
             "ticks": ""
            },
            "colorscale": [
             [
              0,
              "#0d0887"
             ],
             [
              0.1111111111111111,
              "#46039f"
             ],
             [
              0.2222222222222222,
              "#7201a8"
             ],
             [
              0.3333333333333333,
              "#9c179e"
             ],
             [
              0.4444444444444444,
              "#bd3786"
             ],
             [
              0.5555555555555556,
              "#d8576b"
             ],
             [
              0.6666666666666666,
              "#ed7953"
             ],
             [
              0.7777777777777778,
              "#fb9f3a"
             ],
             [
              0.8888888888888888,
              "#fdca26"
             ],
             [
              1,
              "#f0f921"
             ]
            ],
            "type": "histogram2dcontour"
           }
          ],
          "mesh3d": [
           {
            "colorbar": {
             "outlinewidth": 0,
             "ticks": ""
            },
            "type": "mesh3d"
           }
          ],
          "parcoords": [
           {
            "line": {
             "colorbar": {
              "outlinewidth": 0,
              "ticks": ""
             }
            },
            "type": "parcoords"
           }
          ],
          "pie": [
           {
            "automargin": true,
            "type": "pie"
           }
          ],
          "scatter": [
           {
            "fillpattern": {
             "fillmode": "overlay",
             "size": 10,
             "solidity": 0.2
            },
            "type": "scatter"
           }
          ],
          "scatter3d": [
           {
            "line": {
             "colorbar": {
              "outlinewidth": 0,
              "ticks": ""
             }
            },
            "marker": {
             "colorbar": {
              "outlinewidth": 0,
              "ticks": ""
             }
            },
            "type": "scatter3d"
           }
          ],
          "scattercarpet": [
           {
            "marker": {
             "colorbar": {
              "outlinewidth": 0,
              "ticks": ""
             }
            },
            "type": "scattercarpet"
           }
          ],
          "scattergeo": [
           {
            "marker": {
             "colorbar": {
              "outlinewidth": 0,
              "ticks": ""
             }
            },
            "type": "scattergeo"
           }
          ],
          "scattergl": [
           {
            "marker": {
             "colorbar": {
              "outlinewidth": 0,
              "ticks": ""
             }
            },
            "type": "scattergl"
           }
          ],
          "scattermapbox": [
           {
            "marker": {
             "colorbar": {
              "outlinewidth": 0,
              "ticks": ""
             }
            },
            "type": "scattermapbox"
           }
          ],
          "scatterpolar": [
           {
            "marker": {
             "colorbar": {
              "outlinewidth": 0,
              "ticks": ""
             }
            },
            "type": "scatterpolar"
           }
          ],
          "scatterpolargl": [
           {
            "marker": {
             "colorbar": {
              "outlinewidth": 0,
              "ticks": ""
             }
            },
            "type": "scatterpolargl"
           }
          ],
          "scatterternary": [
           {
            "marker": {
             "colorbar": {
              "outlinewidth": 0,
              "ticks": ""
             }
            },
            "type": "scatterternary"
           }
          ],
          "surface": [
           {
            "colorbar": {
             "outlinewidth": 0,
             "ticks": ""
            },
            "colorscale": [
             [
              0,
              "#0d0887"
             ],
             [
              0.1111111111111111,
              "#46039f"
             ],
             [
              0.2222222222222222,
              "#7201a8"
             ],
             [
              0.3333333333333333,
              "#9c179e"
             ],
             [
              0.4444444444444444,
              "#bd3786"
             ],
             [
              0.5555555555555556,
              "#d8576b"
             ],
             [
              0.6666666666666666,
              "#ed7953"
             ],
             [
              0.7777777777777778,
              "#fb9f3a"
             ],
             [
              0.8888888888888888,
              "#fdca26"
             ],
             [
              1,
              "#f0f921"
             ]
            ],
            "type": "surface"
           }
          ],
          "table": [
           {
            "cells": {
             "fill": {
              "color": "#EBF0F8"
             },
             "line": {
              "color": "white"
             }
            },
            "header": {
             "fill": {
              "color": "#C8D4E3"
             },
             "line": {
              "color": "white"
             }
            },
            "type": "table"
           }
          ]
         },
         "layout": {
          "annotationdefaults": {
           "arrowcolor": "#2a3f5f",
           "arrowhead": 0,
           "arrowwidth": 1
          },
          "autotypenumbers": "strict",
          "coloraxis": {
           "colorbar": {
            "outlinewidth": 0,
            "ticks": ""
           }
          },
          "colorscale": {
           "diverging": [
            [
             0,
             "#8e0152"
            ],
            [
             0.1,
             "#c51b7d"
            ],
            [
             0.2,
             "#de77ae"
            ],
            [
             0.3,
             "#f1b6da"
            ],
            [
             0.4,
             "#fde0ef"
            ],
            [
             0.5,
             "#f7f7f7"
            ],
            [
             0.6,
             "#e6f5d0"
            ],
            [
             0.7,
             "#b8e186"
            ],
            [
             0.8,
             "#7fbc41"
            ],
            [
             0.9,
             "#4d9221"
            ],
            [
             1,
             "#276419"
            ]
           ],
           "sequential": [
            [
             0,
             "#0d0887"
            ],
            [
             0.1111111111111111,
             "#46039f"
            ],
            [
             0.2222222222222222,
             "#7201a8"
            ],
            [
             0.3333333333333333,
             "#9c179e"
            ],
            [
             0.4444444444444444,
             "#bd3786"
            ],
            [
             0.5555555555555556,
             "#d8576b"
            ],
            [
             0.6666666666666666,
             "#ed7953"
            ],
            [
             0.7777777777777778,
             "#fb9f3a"
            ],
            [
             0.8888888888888888,
             "#fdca26"
            ],
            [
             1,
             "#f0f921"
            ]
           ],
           "sequentialminus": [
            [
             0,
             "#0d0887"
            ],
            [
             0.1111111111111111,
             "#46039f"
            ],
            [
             0.2222222222222222,
             "#7201a8"
            ],
            [
             0.3333333333333333,
             "#9c179e"
            ],
            [
             0.4444444444444444,
             "#bd3786"
            ],
            [
             0.5555555555555556,
             "#d8576b"
            ],
            [
             0.6666666666666666,
             "#ed7953"
            ],
            [
             0.7777777777777778,
             "#fb9f3a"
            ],
            [
             0.8888888888888888,
             "#fdca26"
            ],
            [
             1,
             "#f0f921"
            ]
           ]
          },
          "colorway": [
           "#636efa",
           "#EF553B",
           "#00cc96",
           "#ab63fa",
           "#FFA15A",
           "#19d3f3",
           "#FF6692",
           "#B6E880",
           "#FF97FF",
           "#FECB52"
          ],
          "font": {
           "color": "#2a3f5f"
          },
          "geo": {
           "bgcolor": "white",
           "lakecolor": "white",
           "landcolor": "white",
           "showlakes": true,
           "showland": true,
           "subunitcolor": "#C8D4E3"
          },
          "hoverlabel": {
           "align": "left"
          },
          "hovermode": "closest",
          "mapbox": {
           "style": "light"
          },
          "paper_bgcolor": "white",
          "plot_bgcolor": "white",
          "polar": {
           "angularaxis": {
            "gridcolor": "#EBF0F8",
            "linecolor": "#EBF0F8",
            "ticks": ""
           },
           "bgcolor": "white",
           "radialaxis": {
            "gridcolor": "#EBF0F8",
            "linecolor": "#EBF0F8",
            "ticks": ""
           }
          },
          "scene": {
           "xaxis": {
            "backgroundcolor": "white",
            "gridcolor": "#DFE8F3",
            "gridwidth": 2,
            "linecolor": "#EBF0F8",
            "showbackground": true,
            "ticks": "",
            "zerolinecolor": "#EBF0F8"
           },
           "yaxis": {
            "backgroundcolor": "white",
            "gridcolor": "#DFE8F3",
            "gridwidth": 2,
            "linecolor": "#EBF0F8",
            "showbackground": true,
            "ticks": "",
            "zerolinecolor": "#EBF0F8"
           },
           "zaxis": {
            "backgroundcolor": "white",
            "gridcolor": "#DFE8F3",
            "gridwidth": 2,
            "linecolor": "#EBF0F8",
            "showbackground": true,
            "ticks": "",
            "zerolinecolor": "#EBF0F8"
           }
          },
          "shapedefaults": {
           "line": {
            "color": "#2a3f5f"
           }
          },
          "ternary": {
           "aaxis": {
            "gridcolor": "#DFE8F3",
            "linecolor": "#A2B1C6",
            "ticks": ""
           },
           "baxis": {
            "gridcolor": "#DFE8F3",
            "linecolor": "#A2B1C6",
            "ticks": ""
           },
           "bgcolor": "white",
           "caxis": {
            "gridcolor": "#DFE8F3",
            "linecolor": "#A2B1C6",
            "ticks": ""
           }
          },
          "title": {
           "x": 0.05
          },
          "xaxis": {
           "automargin": true,
           "gridcolor": "#EBF0F8",
           "linecolor": "#EBF0F8",
           "ticks": "",
           "title": {
            "standoff": 15
           },
           "zerolinecolor": "#EBF0F8",
           "zerolinewidth": 2
          },
          "yaxis": {
           "automargin": true,
           "gridcolor": "#EBF0F8",
           "linecolor": "#EBF0F8",
           "ticks": "",
           "title": {
            "standoff": 15
           },
           "zerolinecolor": "#EBF0F8",
           "zerolinewidth": 2
          }
         }
        },
        "title": {
         "text": "Répartition des prix",
         "x": 0.5,
         "xanchor": "center",
         "y": 0.95,
         "yanchor": "top"
        },
        "xaxis": {
         "anchor": "y",
         "domain": [
          0,
          1
         ]
        },
        "yaxis": {
         "anchor": "x",
         "domain": [
          0,
          1
         ],
         "title": {
          "text": "Prix (€)"
         }
        }
       }
      }
     },
     "metadata": {},
     "output_type": "display_data"
    }
   ],
   "source": [
    "#Autre méthode avec plotly express\n",
    "fig = px.box(df_merge, y='price', title='Répartition des prix')\n",
    "\n",
    "# Amélioration de la mise en page\n",
    "fig.update_layout(\n",
    "    title={\n",
    "        'text': 'Répartition des prix',\n",
    "        'y': 0.95,  # Position verticale du titre\n",
    "        'x': 0.5,   # Position horizontale du titre (0.5 = centré)\n",
    "        'xanchor': 'center',  # Point d'ancrage horizontal\n",
    "        'yanchor': 'top'      # Point d'ancrage vertical\n",
    "    },\n",
    "    yaxis_title=\"Prix (€)\",  # Titre de l'axe y\n",
    "    template=\"plotly_white\"  # Utilisation d'un thème plus propre\n",
    ")\n",
    "\n",
    "# Affichage du graphique\n",
    "fig.show()"
   ]
  },
  {
   "cell_type": "markdown",
   "id": "79e2f2eb",
   "metadata": {},
   "source": [
    "<div style=\"border: 1px solid RGB(51,165,182);\" >\n",
    "<h3 style=\"margin: auto; padding: 20px; color: RGB(51,165,182); \">Etape 4.2 - Exploration par l'utisation de méthodes statistique</h3>\n",
    "</div>"
   ]
  },
  {
   "cell_type": "markdown",
   "id": "0735c3b2",
   "metadata": {},
   "source": [
    "<div style=\"border: 1px solid RGB(51,165,182);\" >\n",
    "<h3 style=\"margin: auto; padding: 20px; color: RGB(51,165,182); \">Etape 4.2.1 - Identification par le Z-index</h3>\n",
    "</div>"
   ]
  },
  {
   "cell_type": "code",
   "execution_count": 46,
   "id": "1950ef8d",
   "metadata": {},
   "outputs": [
    {
     "name": "stdout",
     "output_type": "stream",
     "text": [
      "Moyenne des prix : 32.28\n",
      "Écart-type des prix : 26.60\n"
     ]
    },
    {
     "data": {
      "text/plain": [
       "0     -0.303634\n",
       "1      0.076020\n",
       "2     -0.431438\n",
       "3     -0.683288\n",
       "4      0.515816\n",
       "         ...   \n",
       "820    0.478227\n",
       "821    0.478227\n",
       "822    0.846604\n",
       "823   -0.217178\n",
       "824   -0.600591\n",
       "Name: z_score, Length: 825, dtype: float64"
      ]
     },
     "execution_count": 46,
     "metadata": {},
     "output_type": "execute_result"
    }
   ],
   "source": [
    "#Calculer la moyenne du prix\n",
    "\n",
    "moyenne_prix = df_merge['price'].mean()\n",
    "print(\"Moyenne des prix : {:.2f}\".format(moyenne_prix))\n",
    "\n",
    "#Calculer l'écart-type du prix\n",
    "\n",
    "ecart_type_prix = df_merge['price'].std()\n",
    "print(\"Écart-type des prix : {:.2f}\".format(ecart_type_prix))\n",
    "\n",
    "#Calculer le Z-score\n",
    "# Création d'une nouvelle colonne avec le Z-score\n",
    "df_merge['z_score'] = (df_merge['price'] - moyenne_prix) / ecart_type_prix\n",
    "df_merge['z_score']"
   ]
  },
  {
   "cell_type": "code",
   "execution_count": 47,
   "id": "9c2f435f",
   "metadata": {},
   "outputs": [
    {
     "name": "stdout",
     "output_type": "stream",
     "text": [
      "Seuil de prix pour un Z-score de 3 : 112.09\n"
     ]
    }
   ],
   "source": [
    "#Quel est le seuil prix dont z-score est supérieur à 3?\n",
    "moyenne = df_merge['price'].mean()\n",
    "ecart_type = df_merge['price'].std()\n",
    "seuil_prix = moyenne + (3 * ecart_type)\n",
    "\n",
    "print(\"Seuil de prix pour un Z-score de 3 : {:.2f}\".format(seuil_prix))"
   ]
  },
  {
   "cell_type": "markdown",
   "id": "750f54f3",
   "metadata": {},
   "source": [
    "<div style=\"border: 1px solid RGB(51,165,182);\" >\n",
    "<h3 style=\"margin: auto; padding: 20px; color: RGB(51,165,182); \">Etape 4.2.2 - Identification par l'interval interquartile</h3>\n",
    "</div>"
   ]
  },
  {
   "cell_type": "code",
   "execution_count": 48,
   "id": "6c0db8c0",
   "metadata": {},
   "outputs": [
    {
     "name": "stdout",
     "output_type": "stream",
     "text": [
      "count    825.000000\n",
      "mean      32.277636\n",
      "std       26.603196\n",
      "min        5.200000\n",
      "25%       14.500000\n",
      "50%       24.300000\n",
      "75%       42.000000\n",
      "max      225.000000\n",
      "Name: price, dtype: float64\n"
     ]
    }
   ],
   "source": [
    "#Utilisation de la fonction describe de Pandas pour l'etude des mesures de dispersions\n",
    "#count : nombre total de valeurs\n",
    "#mean : moyenne\n",
    "#std : écart-type\n",
    "#min : valeur minimale\n",
    "#25% : premier quartile (Q1)\n",
    "#50% : médiane\n",
    "#75% : troisième quartile (Q3)\n",
    "#max : valeur maximale\n",
    "print(df_merge['price'].describe())"
   ]
  },
  {
   "cell_type": "code",
   "execution_count": 49,
   "id": "a458ca14",
   "metadata": {},
   "outputs": [
    {
     "name": "stdout",
     "output_type": "stream",
     "text": [
      "Seuils pour les outliers :\n",
      "Seuil bas : -26.75\n",
      "Seuil haut : 83.25\n",
      "\n",
      "Nombre d'outliers : 36\n"
     ]
    }
   ],
   "source": [
    "#Définissez un seuil pour les articles \"outliers\" en prix\n",
    "#On utilise 'Ecart interquartile plutot que le Z-score\n",
    "#L'IQR est onc plus adapté quand :\n",
    "    #Les données contiennent des valeurs extrêmes\n",
    "    #La distribution n'est pas normale\n",
    "    #On veut une détection plus fiable des outliers\n",
    "\n",
    "# Calculer Q1, Q3 et IQR\n",
    "Q1 = df_merge['price'].quantile(0.25)\n",
    "Q3 = df_merge['price'].quantile(0.75)\n",
    "IQR = Q3 - Q1\n",
    "\n",
    "# Calculer les seuils\n",
    "seuil_bas = Q1 - (1.5 * IQR)\n",
    "seuil_haut = Q3 + (1.5 * IQR)\n",
    "\n",
    "print(\"Seuils pour les outliers :\")\n",
    "print(\"Seuil bas : {:.2f}\".format(seuil_bas))\n",
    "print(\"Seuil haut : {:.2f}\".format(seuil_haut))\n",
    "\n",
    "# Identifier les outliers\n",
    "outliers = df_merge[(df_merge['price'] < seuil_bas) | (df_merge['price'] > seuil_haut)]\n",
    "print(\"\\nNombre d'outliers : {}\".format(len(outliers)))"
   ]
  },
  {
   "cell_type": "code",
   "execution_count": 50,
   "id": "7d05cde7",
   "metadata": {},
   "outputs": [
    {
     "name": "stdout",
     "output_type": "stream",
     "text": [
      "Analyse des outliers :\n",
      "Nombre d'articles outliers : 36\n",
      "Nombre total d'articles : 825\n",
      "Proportion d'outliers : 4.36%\n",
      "\n",
      "Détail des articles outliers :\n",
      "                                            post_title  price\n",
      "208     Champagne Egly-Ouriet Grand Cru Millésimé 2008  225.0\n",
      "460     David Duband Charmes-Chambertin Grand Cru 2014  217.5\n",
      "635  Coteaux Champenois Egly-Ouriet Ambonnay Rouge ...  191.3\n",
      "227                               Cognac Frapin VIP XO  176.0\n",
      "598                Camille Giroud Clos de Vougeot 2016  175.0\n",
      "230  Cognac Frapin Château de Fontpinot 1989 20 Ans...  157.0\n",
      "242                                                NaN  144.0\n",
      "411  Domaine Des Croix Corton Charlemagne Grand Cru...  137.0\n",
      "697             Champagne Gosset Célébris Vintage 2007  135.0\n",
      "556  Domaine Weinbach Gewurztraminer Grand Cru Furs...  124.8\n",
      "651  Wemyss Malts Single Cask Scotch Whisky Choc 'n...  122.0\n",
      "712  Domaine des Comtes Lafon Volnay 1er Cru Champa...  121.0\n",
      "709  Domaine des Comtes Lafon Volnay 1er Cru Santen...  121.0\n",
      "703  Domaine Clerget Echezeaux Grand Cru En Orveaux...  116.4\n",
      "711  Domaine des Comtes Lafon Volnay 1er Cru Champa...  115.0\n",
      "708  Domaine des Comtes Lafon Volnay 1er Cru Santen...  115.0\n",
      "652  Wemyss Malts Single Cask Scotch Whisky Chai Ca...  114.0\n",
      "475  Champagne Agrapart &amp; Fils L'Avizoise Extra...  112.0\n",
      "240  Château de Meursault Puligny-Montrachet 1er Cr...  109.6\n",
      "228              Cognac Frapin Château de Fontpinot XO  108.5\n",
      "702  David Duband Chambolle-Musigny 1er Cru Les Sen...  105.6\n",
      "466  Domaine des Comtes Lafon Volnay 1er Cru Santen...  105.0\n",
      "465  Domaine des Comtes Lafon Volnay 1er Cru Santen...  105.0\n",
      "231                          Cognac Frapin Cigar Blend  104.0\n",
      "410  Domaine Des Croix Corton Grand Cru Les Grèves ...  102.3\n",
      "66   Zind-Humbrecht Riesling Grand Cru Rangen De Th...  100.0\n",
      "710  Domaine des Comtes Lafon Volnay 1er Cru Champa...   99.0\n",
      "650  Wemyss Malts Single Cask Scotch Whisky Chocola...   93.0\n",
      "545                      Tempier Bandol Cabassaou 2017   92.0\n",
      "724                                                NaN   92.0\n",
      "68   Zind-Humbrecht Pinot Gris Grand Cru Rangen De ...   88.4\n",
      "476  Champagne Agrapart &amp; Fils Minéral Extra Br...   86.8\n",
      "19                                                 NaN   86.1\n",
      "214  Champagne Larmandier-Bernier Grand Cru Les Che...   85.6\n",
      "486                                                NaN   84.7\n",
      "551  Lucien Boillot Puligny-Montrachet 1er Cru Les ...   83.7\n"
     ]
    }
   ],
   "source": [
    "#Définissez le nombre d'articles et la proportion de l'ensemble du catalogue \"outliers\"\n",
    "# Calculer le nombre d'outliers\n",
    "nombre_outliers = len(outliers)\n",
    "nombre_total = len(df_merge)\n",
    "proportion = (nombre_outliers / nombre_total) * 100\n",
    "\n",
    "print(\"Analyse des outliers :\")\n",
    "print(\"Nombre d'articles outliers : {}\".format(nombre_outliers))\n",
    "print(\"Nombre total d'articles : {}\".format(nombre_total))\n",
    "print(\"Proportion d'outliers : {:.2f}%\".format(proportion))\n",
    "\n",
    "# Détail des outliers\n",
    "print(\"\\nDétail des articles outliers :\")\n",
    "print(outliers[['post_title', 'price']].sort_values(by='price', ascending=False))"
   ]
  },
  {
   "cell_type": "code",
   "execution_count": 51,
   "id": "06138432",
   "metadata": {},
   "outputs": [
    {
     "name": "stdout",
     "output_type": "stream",
     "text": [
      "Détail des outliers :\n",
      "                                            post_title  price product_type  \\\n",
      "208     Champagne Egly-Ouriet Grand Cru Millésimé 2008  225.0    Champagne   \n",
      "460     David Duband Charmes-Chambertin Grand Cru 2014  217.5          Vin   \n",
      "635  Coteaux Champenois Egly-Ouriet Ambonnay Rouge ...  191.3    Champagne   \n",
      "227                               Cognac Frapin VIP XO  176.0       Cognac   \n",
      "598                Camille Giroud Clos de Vougeot 2016  175.0          Vin   \n",
      "230  Cognac Frapin Château de Fontpinot 1989 20 Ans...  157.0       Cognac   \n",
      "242                                                NaN  144.0          NaN   \n",
      "411  Domaine Des Croix Corton Charlemagne Grand Cru...  137.0          Vin   \n",
      "697             Champagne Gosset Célébris Vintage 2007  135.0    Champagne   \n",
      "556  Domaine Weinbach Gewurztraminer Grand Cru Furs...  124.8          Vin   \n",
      "651  Wemyss Malts Single Cask Scotch Whisky Choc 'n...  122.0       Whisky   \n",
      "712  Domaine des Comtes Lafon Volnay 1er Cru Champa...  121.0          Vin   \n",
      "709  Domaine des Comtes Lafon Volnay 1er Cru Santen...  121.0          Vin   \n",
      "703  Domaine Clerget Echezeaux Grand Cru En Orveaux...  116.4          Vin   \n",
      "711  Domaine des Comtes Lafon Volnay 1er Cru Champa...  115.0          Vin   \n",
      "708  Domaine des Comtes Lafon Volnay 1er Cru Santen...  115.0          Vin   \n",
      "652  Wemyss Malts Single Cask Scotch Whisky Chai Ca...  114.0       Whisky   \n",
      "475  Champagne Agrapart &amp; Fils L'Avizoise Extra...  112.0    Champagne   \n",
      "240  Château de Meursault Puligny-Montrachet 1er Cr...  109.6          Vin   \n",
      "228              Cognac Frapin Château de Fontpinot XO  108.5       Cognac   \n",
      "702  David Duband Chambolle-Musigny 1er Cru Les Sen...  105.6          Vin   \n",
      "466  Domaine des Comtes Lafon Volnay 1er Cru Santen...  105.0          Vin   \n",
      "465  Domaine des Comtes Lafon Volnay 1er Cru Santen...  105.0          Vin   \n",
      "231                          Cognac Frapin Cigar Blend  104.0       Cognac   \n",
      "410  Domaine Des Croix Corton Grand Cru Les Grèves ...  102.3          Vin   \n",
      "66   Zind-Humbrecht Riesling Grand Cru Rangen De Th...  100.0          Vin   \n",
      "710  Domaine des Comtes Lafon Volnay 1er Cru Champa...   99.0          Vin   \n",
      "650  Wemyss Malts Single Cask Scotch Whisky Chocola...   93.0       Whisky   \n",
      "545                      Tempier Bandol Cabassaou 2017   92.0          Vin   \n",
      "724                                                NaN   92.0          NaN   \n",
      "68   Zind-Humbrecht Pinot Gris Grand Cru Rangen De ...   88.4          Vin   \n",
      "476  Champagne Agrapart &amp; Fils Minéral Extra Br...   86.8    Champagne   \n",
      "19                                                 NaN   86.1          NaN   \n",
      "214  Champagne Larmandier-Bernier Grand Cru Les Che...   85.6    Champagne   \n",
      "486                                                NaN   84.7          NaN   \n",
      "551  Lucien Boillot Puligny-Montrachet 1er Cru Les ...   83.7          Vin   \n",
      "\n",
      "     total_sales  \n",
      "208         11.0  \n",
      "460          2.0  \n",
      "635          6.0  \n",
      "227          3.0  \n",
      "598          4.0  \n",
      "230          4.0  \n",
      "242          NaN  \n",
      "411          3.0  \n",
      "697          5.0  \n",
      "556          1.0  \n",
      "651          3.0  \n",
      "712          2.0  \n",
      "709          3.0  \n",
      "703          5.0  \n",
      "711          4.0  \n",
      "708          7.0  \n",
      "652          3.0  \n",
      "475          6.0  \n",
      "240          1.0  \n",
      "228          4.0  \n",
      "702          6.0  \n",
      "466          7.0  \n",
      "465          3.0  \n",
      "231          5.0  \n",
      "410          2.0  \n",
      "66           1.0  \n",
      "710          6.0  \n",
      "650          1.0  \n",
      "545          1.0  \n",
      "724          NaN  \n",
      "68           5.0  \n",
      "476          9.0  \n",
      "19           NaN  \n",
      "214          7.0  \n",
      "486          NaN  \n",
      "551          2.0  \n",
      "\n",
      "Analyse des marges des outliers :\n",
      "                                            post_title  price  purchase_price  \\\n",
      "650  Wemyss Malts Single Cask Scotch Whisky Chocola...   93.0           40.49   \n",
      "19                                                 NaN   86.1           37.88   \n",
      "230  Cognac Frapin Château de Fontpinot 1989 20 Ans...  157.0           69.08   \n",
      "651  Wemyss Malts Single Cask Scotch Whisky Choc 'n...  122.0           54.24   \n",
      "227                               Cognac Frapin VIP XO  176.0           78.25   \n",
      "231                          Cognac Frapin Cigar Blend  104.0           46.71   \n",
      "652  Wemyss Malts Single Cask Scotch Whisky Chai Ca...  114.0           52.25   \n",
      "228              Cognac Frapin Château de Fontpinot XO  108.5           52.22   \n",
      "551  Lucien Boillot Puligny-Montrachet 1er Cru Les ...   83.7           41.08   \n",
      "711  Domaine des Comtes Lafon Volnay 1er Cru Champa...  115.0           56.45   \n",
      "240  Château de Meursault Puligny-Montrachet 1er Cr...  109.6           53.80   \n",
      "411  Domaine Des Croix Corton Charlemagne Grand Cru...  137.0           67.95   \n",
      "712  Domaine des Comtes Lafon Volnay 1er Cru Champa...  121.0           60.02   \n",
      "68   Zind-Humbrecht Pinot Gris Grand Cru Rangen De ...   88.4           44.30   \n",
      "545                      Tempier Bandol Cabassaou 2017   92.0           46.11   \n",
      "710  Domaine des Comtes Lafon Volnay 1er Cru Champa...   99.0           49.62   \n",
      "410  Domaine Des Croix Corton Grand Cru Les Grèves ...  102.3           51.80   \n",
      "598                Camille Giroud Clos de Vougeot 2016  175.0           90.42   \n",
      "708  Domaine des Comtes Lafon Volnay 1er Cru Santen...  115.0           59.42   \n",
      "709  Domaine des Comtes Lafon Volnay 1er Cru Santen...  121.0           63.14   \n",
      "66   Zind-Humbrecht Riesling Grand Cru Rangen De Th...  100.0           52.70   \n",
      "556  Domaine Weinbach Gewurztraminer Grand Cru Furs...  124.8           66.41   \n",
      "465  Domaine des Comtes Lafon Volnay 1er Cru Santen...  105.0           55.88   \n",
      "466  Domaine des Comtes Lafon Volnay 1er Cru Santen...  105.0           56.42   \n",
      "460     David Duband Charmes-Chambertin Grand Cru 2014  217.5          116.87   \n",
      "702  David Duband Chambolle-Musigny 1er Cru Les Sen...  105.6           57.29   \n",
      "703  Domaine Clerget Echezeaux Grand Cru En Orveaux...  116.4           63.15   \n",
      "486                                                NaN   84.7           47.43   \n",
      "476  Champagne Agrapart &amp; Fils Minéral Extra Br...   86.8           50.13   \n",
      "697             Champagne Gosset Célébris Vintage 2007  135.0           80.33   \n",
      "214  Champagne Larmandier-Bernier Grand Cru Les Che...   85.6           51.93   \n",
      "242                                                NaN  144.0           87.36   \n",
      "635  Coteaux Champenois Egly-Ouriet Ambonnay Rouge ...  191.3          116.06   \n",
      "208     Champagne Egly-Ouriet Grand Cru Millésimé 2008  225.0          137.81   \n",
      "475  Champagne Agrapart &amp; Fils L'Avizoise Extra...  112.0           68.60   \n",
      "724                                                NaN   92.0           99.00   \n",
      "\n",
      "         marge  \n",
      "650  56.462366  \n",
      "19   56.004646  \n",
      "230  56.000000  \n",
      "651  55.540984  \n",
      "227  55.539773  \n",
      "231  55.086538  \n",
      "652  54.166667  \n",
      "228  51.870968  \n",
      "551  50.919952  \n",
      "711  50.913043  \n",
      "240  50.912409  \n",
      "411  50.401460  \n",
      "712  50.396694  \n",
      "68   49.886878  \n",
      "545  49.880435  \n",
      "710  49.878788  \n",
      "410  49.364614  \n",
      "598  48.331429  \n",
      "708  48.330435  \n",
      "709  47.818182  \n",
      "66   47.300000  \n",
      "556  46.786859  \n",
      "465  46.780952  \n",
      "466  46.266667  \n",
      "460  46.266667  \n",
      "702  45.748106  \n",
      "703  45.747423  \n",
      "486  44.002361  \n",
      "476  42.246544  \n",
      "697  40.496296  \n",
      "214  39.334112  \n",
      "242  39.333333  \n",
      "635  39.330894  \n",
      "208  38.751111  \n",
      "475  38.750000  \n",
      "724  -7.608696  \n",
      "\n",
      "Analyse des ventes des outliers :\n",
      "                                            post_title  price  total_sales\n",
      "208     Champagne Egly-Ouriet Grand Cru Millésimé 2008  225.0         11.0\n",
      "476  Champagne Agrapart &amp; Fils Minéral Extra Br...   86.8          9.0\n",
      "466  Domaine des Comtes Lafon Volnay 1er Cru Santen...  105.0          7.0\n",
      "708  Domaine des Comtes Lafon Volnay 1er Cru Santen...  115.0          7.0\n",
      "214  Champagne Larmandier-Bernier Grand Cru Les Che...   85.6          7.0\n",
      "702  David Duband Chambolle-Musigny 1er Cru Les Sen...  105.6          6.0\n",
      "635  Coteaux Champenois Egly-Ouriet Ambonnay Rouge ...  191.3          6.0\n",
      "710  Domaine des Comtes Lafon Volnay 1er Cru Champa...   99.0          6.0\n",
      "475  Champagne Agrapart &amp; Fils L'Avizoise Extra...  112.0          6.0\n",
      "697             Champagne Gosset Célébris Vintage 2007  135.0          5.0\n",
      "68   Zind-Humbrecht Pinot Gris Grand Cru Rangen De ...   88.4          5.0\n",
      "703  Domaine Clerget Echezeaux Grand Cru En Orveaux...  116.4          5.0\n",
      "231                          Cognac Frapin Cigar Blend  104.0          5.0\n",
      "711  Domaine des Comtes Lafon Volnay 1er Cru Champa...  115.0          4.0\n",
      "598                Camille Giroud Clos de Vougeot 2016  175.0          4.0\n",
      "230  Cognac Frapin Château de Fontpinot 1989 20 Ans...  157.0          4.0\n",
      "228              Cognac Frapin Château de Fontpinot XO  108.5          4.0\n",
      "465  Domaine des Comtes Lafon Volnay 1er Cru Santen...  105.0          3.0\n",
      "411  Domaine Des Croix Corton Charlemagne Grand Cru...  137.0          3.0\n",
      "709  Domaine des Comtes Lafon Volnay 1er Cru Santen...  121.0          3.0\n",
      "651  Wemyss Malts Single Cask Scotch Whisky Choc 'n...  122.0          3.0\n",
      "652  Wemyss Malts Single Cask Scotch Whisky Chai Ca...  114.0          3.0\n",
      "227                               Cognac Frapin VIP XO  176.0          3.0\n",
      "460     David Duband Charmes-Chambertin Grand Cru 2014  217.5          2.0\n",
      "410  Domaine Des Croix Corton Grand Cru Les Grèves ...  102.3          2.0\n",
      "551  Lucien Boillot Puligny-Montrachet 1er Cru Les ...   83.7          2.0\n",
      "712  Domaine des Comtes Lafon Volnay 1er Cru Champa...  121.0          2.0\n",
      "66   Zind-Humbrecht Riesling Grand Cru Rangen De Th...  100.0          1.0\n",
      "650  Wemyss Malts Single Cask Scotch Whisky Chocola...   93.0          1.0\n",
      "556  Domaine Weinbach Gewurztraminer Grand Cru Furs...  124.8          1.0\n",
      "240  Château de Meursault Puligny-Montrachet 1er Cr...  109.6          1.0\n",
      "545                      Tempier Bandol Cabassaou 2017   92.0          1.0\n",
      "19                                                 NaN   86.1          NaN\n",
      "242                                                NaN  144.0          NaN\n",
      "486                                                NaN   84.7          NaN\n",
      "724                                                NaN   92.0          NaN\n"
     ]
    },
    {
     "name": "stderr",
     "output_type": "stream",
     "text": [
      "C:\\Users\\jorda\\AppData\\Local\\Temp\\ipykernel_11548\\2111452608.py:12: SettingWithCopyWarning:\n",
      "\n",
      "\n",
      "A value is trying to be set on a copy of a slice from a DataFrame.\n",
      "Try using .loc[row_indexer,col_indexer] = value instead\n",
      "\n",
      "See the caveats in the documentation: https://pandas.pydata.org/pandas-docs/stable/user_guide/indexing.html#returning-a-view-versus-a-copy\n",
      "\n"
     ]
    }
   ],
   "source": [
    "#Selon vous, ces outliers sont-ils justifiés ? Comment le démontrer si cela est possible ?\n",
    "#Il faudrait vérifier la nature des produits concernés : peut être qu'un prix trop elevé peut être justifié par un produit de luxe plutôt rare par exemple\n",
    "# Examinons en détail les outliers avec plus d'informations\n",
    "outliers_details = outliers[['post_title', 'price', 'product_type', 'total_sales']].sort_values(by='price', ascending=False)\n",
    "print(\"Détail des outliers :\")\n",
    "print(outliers_details)\n",
    "\n",
    "\n",
    "#Plus plus = penser copier coller google\n",
    "#comparer avec les cout d''achats et vérifier si la marge réalisée est cohérente\n",
    "# Calculons les marges des outliers\n",
    "outliers['marge'] = (outliers['price'] - outliers['purchase_price']) / outliers['price'] * 100\n",
    "print(\"\\nAnalyse des marges des outliers :\")\n",
    "print(outliers[['post_title', 'price', 'purchase_price', 'marge']].sort_values(by='marge', ascending=False))\n",
    "\n",
    "\n",
    "#vérifier les ventes : si les produits sont vendus alors c'est que, malgré ces valeurs étonnantes, le produit est accepté sur le marché\n",
    "# Analysons si ces produits se vendent\n",
    "print(\"\\nAnalyse des ventes des outliers :\")\n",
    "print(outliers[['post_title', 'price', 'total_sales']].sort_values(by='total_sales', ascending=False))\n",
    "\n",
    "\n"
   ]
  },
  {
   "cell_type": "markdown",
   "id": "640da2c8",
   "metadata": {},
   "source": [
    "<div style=\"background-color: RGB(51,165,182);\" >\n",
    "<h2 style=\"margin: auto; padding: 20px; color:#fff; \">Etape 5 - Analyse univarié du CA, des quantités vendues, des stocks et de la marge ainsi qu'une analyse multivarié  </h2>\n",
    "</div>"
   ]
  },
  {
   "cell_type": "markdown",
   "id": "5871c808",
   "metadata": {},
   "source": [
    "<div style=\"border: 1px solid RGB(51,165,182);\" >\n",
    "<h3 style=\"margin: auto; padding: 20px; color: RGB(51,165,182); \">Etape 5.1 - Analyse des ventes en CA</h3>\n",
    "</div>"
   ]
  },
  {
   "cell_type": "code",
   "execution_count": 52,
   "id": "da0d5834",
   "metadata": {},
   "outputs": [
    {
     "name": "stdout",
     "output_type": "stream",
     "text": [
      "Le chiffre d'affaires total est de : 143285.90 euros\n"
     ]
    }
   ],
   "source": [
    "##############################\n",
    "# Calculer le CA su site web #\n",
    "##############################\n",
    "\n",
    "#Créez une colonne calculant le CA par article\n",
    "\n",
    "df_merge['ca_par_article'] = df_merge['price'] * df_merge['total_sales']\n",
    "\n",
    "#Calculez la somme de la colonne \"ca_par_article\"\n",
    "print(\"Le chiffre d'affaires total est de : {:.2f} euros\".format(df_merge['ca_par_article'].sum()))\n",
    "\n",
    "#Ce résultat correspond au chiffre d'affaire du site web\n"
   ]
  },
  {
   "cell_type": "code",
   "execution_count": 53,
   "id": "4040ced7",
   "metadata": {},
   "outputs": [
    {
     "name": "stdout",
     "output_type": "stream",
     "text": [
      "                                           post_title  ca_par_article\n",
      "0      Champagne Egly-Ouriet Grand Cru Millésimé 2008          2475.0\n",
      "1   Coteaux Champenois Egly-Ouriet Ambonnay Rouge ...          1147.8\n",
      "2           Champagne Egly-Ouriet Grand Cru Brut Rosé          1113.0\n",
      "3               Agnès Levet Côte Rôtie Améthyste 2017           824.0\n",
      "4   Domaine des Comtes Lafon Volnay 1er Cru Santen...           805.0\n",
      "5   Champagne Agrapart &amp; Fils Minéral Extra Br...           781.2\n",
      "6   Domaine des Comtes Lafon Volnay 1er Cru Santen...           735.0\n",
      "7                 Camille Giroud Clos de Vougeot 2016           700.0\n",
      "8              Champagne Gosset Célébris Vintage 2007           675.0\n",
      "9   Champagne Agrapart &amp; Fils L'Avizoise Extra...           672.0\n",
      "10  David Duband Chambolle-Musigny 1er Cru Les Sen...           633.6\n",
      "11  Cognac Frapin Château de Fontpinot 1989 20 Ans...           628.0\n",
      "12  Bernard Baudry Chinon Rouge La Croix Boissée 2017           627.0\n",
      "13  Champagne Larmandier-Bernier Grand Cru Vieille...           616.0\n",
      "14  Champagne Larmandier-Bernier Grand Cru Les Che...           599.2\n",
      "15  Domaine des Comtes Lafon Volnay 1er Cru Champa...           594.0\n",
      "16  Domaine Clerget Echezeaux Grand Cru En Orveaux...           582.0\n",
      "17    Champagne Egly-Ouriet Grand Cru Extra Brut V.P.           556.5\n",
      "18  Château de Meursault Beaune-Grèves Les Trois J...           537.6\n",
      "19                               Cognac Frapin VIP XO           528.0\n"
     ]
    }
   ],
   "source": [
    "###############################\n",
    "# Palmares des articles en CA #\n",
    "###############################\n",
    "\n",
    "#Effectuer le tri dans l'ordre décroissant du CA du dataset df_merge\n",
    "df_merge = df_merge.sort_values(by='ca_par_article', ascending=False)\n",
    "#Réinitialiser l'index du dataset par un reset_index\n",
    "df_merge = df_merge.reset_index(drop=True)\n",
    "#Afficher les 20 premier articles en CA\n",
    "print(df_merge[['post_title', 'ca_par_article']].head(20))\n"
   ]
  },
  {
   "cell_type": "code",
   "execution_count": 54,
   "id": "d7e5e87b",
   "metadata": {},
   "outputs": [
    {
     "name": "stdout",
     "output_type": "stream",
     "text": [
      "Nombre d'articles représentant 80% du CA : 432\n",
      "Soit 52.36% des articles\n"
     ]
    }
   ],
   "source": [
    "#############################\n",
    "# Calculer le 20 / 80 en CA #\n",
    "#############################\n",
    "\n",
    "#Créer une colonne calculant la part du CA de la ligne dans le dataset\n",
    "\n",
    "df_merge['part_ca'] = (df_merge['ca_par_article'] / df_merge['ca_par_article'].sum()) * 100\n",
    "\n",
    "#Créer une colonne réalisant la somme cumulative de la colonne précedemment créée\n",
    "\n",
    "df_merge['cumul_part_ca'] = df_merge['part_ca'].cumsum()\n",
    "\n",
    "#Grâce au deux colonnes créées précedemment, calculer le nombre d'articles représentant 80% du CA\n",
    "nb_articles_80 = len(df_merge[df_merge['cumul_part_ca'] <= 80])\n",
    "\n",
    "\n",
    "#Afficher la proportion que représentent ce groupe d'articles dans le catalogue entier du site web\n",
    "pourcentage_articles = (nb_articles_80 / len(df_merge)) * 100\n",
    "print(\"Nombre d'articles représentant 80% du CA : {}\".format(nb_articles_80))\n",
    "print(\"Soit {:.2f}% des articles\".format(pourcentage_articles))"
   ]
  },
  {
   "cell_type": "markdown",
   "id": "8de7af87",
   "metadata": {},
   "source": [
    "<div style=\"border: 1px solid RGB(51,165,182);\" >\n",
    "<h3 style=\"margin: auto; padding: 20px; color: RGB(51,165,182); \">Etape 5.2 - Analyse des ventes en Quantités</h3>\n",
    "</div>"
   ]
  },
  {
   "cell_type": "code",
   "execution_count": 55,
   "id": "ab222e08",
   "metadata": {},
   "outputs": [
    {
     "name": "stdout",
     "output_type": "stream",
     "text": [
      "                                           post_title  total_sales\n",
      "0   Château De La Selve IGP Coteaux de l'Ardèche M...         36.0\n",
      "1   Mas Laval IGP Pays d'Hérault Les Pampres Blanc...         27.0\n",
      "2               I Fabbri Chianti Classico Lamole 2017         24.0\n",
      "3   Bernard Baudry Chinon Rouge La Croix Boissée 2017         22.0\n",
      "4            François Baur Pinot Noir Schlittweg 2017         22.0\n",
      "5               Agnès Levet Côte Rôtie Améthyste 2017         20.0\n",
      "6   Moulin de Gassac IGP Pays d'Hérault Guilhem Bl...         20.0\n",
      "7   Xavier Frissant Touraine Amboise Chenin Les Pi...         18.0\n",
      "8                Decelle-Villa Chorey-Lès-Beaune 2016         17.0\n",
      "9                Château Tour Haut-Caussan Médoc 2015         17.0\n",
      "10                       Maurel Pays d'Oc Merlot 2018         17.0\n",
      "11        Emile Boeckel Sylvaner Vieilles Vignes 2019         16.0\n",
      "12           Maurel Pays d'Oc Cabernet-Sauvignon 2017         16.0\n",
      "13  Château Ollieux Romanis Corbières Rosé Classiq...         16.0\n",
      "14  Mourgues du Grès Costières de Nîmes Galets Ros...         16.0\n",
      "15    Philippe Nusswitz IGP Cévènnes Rosé O Pale 2019         16.0\n",
      "16  Château de La Liquière Languedoc Blanc Les Ama...         16.0\n",
      "17                Triennes IGP Méditerranée Rosé 2019         16.0\n",
      "18  Parcé Frères Côtes du Roussillon Villages Homm...         15.0\n",
      "19   Philippe Nusswitz Duché d'Uzès Orénia Rouge 2017         15.0\n"
     ]
    },
    {
     "data": {
      "application/vnd.plotly.v1+json": {
       "config": {
        "plotlyServerURL": "https://plot.ly"
       },
       "data": [
        {
         "alignmentgroup": "True",
         "hovertemplate": "post_title=%{x}<br>total_sales=%{y}<extra></extra>",
         "legendgroup": "",
         "marker": {
          "color": "#636efa",
          "pattern": {
           "shape": ""
          }
         },
         "name": "",
         "offsetgroup": "",
         "orientation": "v",
         "showlegend": false,
         "textposition": "auto",
         "type": "bar",
         "x": [
          "Château De La Selve IGP Coteaux de l'Ardèche Maguelonne Rosé 2019",
          "Mas Laval IGP Pays d'Hérault Les Pampres Blancs 2018",
          "I Fabbri Chianti Classico Lamole 2017",
          "Bernard Baudry Chinon Rouge La Croix Boissée 2017",
          "François Baur Pinot Noir Schlittweg 2017",
          "Agnès Levet Côte Rôtie Améthyste 2017",
          "Moulin de Gassac IGP Pays d'Hérault Guilhem Blanc 2017",
          "Xavier Frissant Touraine Amboise Chenin Les Pierres 2018",
          "Decelle-Villa Chorey-Lès-Beaune 2016",
          "Château Tour Haut-Caussan Médoc 2015",
          "Maurel Pays d'Oc Merlot 2018",
          "Emile Boeckel Sylvaner Vieilles Vignes 2019",
          "Maurel Pays d'Oc Cabernet-Sauvignon 2017",
          "Château Ollieux Romanis Corbières Rosé Classique 2019",
          "Mourgues du Grès Costières de Nîmes Galets Rosés 2019",
          "Philippe Nusswitz IGP Cévènnes Rosé O Pale 2019",
          "Château de La Liquière Languedoc Blanc Les Amandiers 2019",
          "Triennes IGP Méditerranée Rosé 2019",
          "Parcé Frères Côtes du Roussillon Villages Hommage à Fernand 2017",
          "Philippe Nusswitz Duché d'Uzès Orénia Rouge 2017"
         ],
         "xaxis": "x",
         "y": [
          36,
          27,
          24,
          22,
          22,
          20,
          20,
          18,
          17,
          17,
          17,
          16,
          16,
          16,
          16,
          16,
          16,
          16,
          15,
          15
         ],
         "yaxis": "y"
        }
       ],
       "layout": {
        "barmode": "relative",
        "legend": {
         "tracegroupgap": 0
        },
        "template": {
         "data": {
          "bar": [
           {
            "error_x": {
             "color": "#2a3f5f"
            },
            "error_y": {
             "color": "#2a3f5f"
            },
            "marker": {
             "line": {
              "color": "#E5ECF6",
              "width": 0.5
             },
             "pattern": {
              "fillmode": "overlay",
              "size": 10,
              "solidity": 0.2
             }
            },
            "type": "bar"
           }
          ],
          "barpolar": [
           {
            "marker": {
             "line": {
              "color": "#E5ECF6",
              "width": 0.5
             },
             "pattern": {
              "fillmode": "overlay",
              "size": 10,
              "solidity": 0.2
             }
            },
            "type": "barpolar"
           }
          ],
          "carpet": [
           {
            "aaxis": {
             "endlinecolor": "#2a3f5f",
             "gridcolor": "white",
             "linecolor": "white",
             "minorgridcolor": "white",
             "startlinecolor": "#2a3f5f"
            },
            "baxis": {
             "endlinecolor": "#2a3f5f",
             "gridcolor": "white",
             "linecolor": "white",
             "minorgridcolor": "white",
             "startlinecolor": "#2a3f5f"
            },
            "type": "carpet"
           }
          ],
          "choropleth": [
           {
            "colorbar": {
             "outlinewidth": 0,
             "ticks": ""
            },
            "type": "choropleth"
           }
          ],
          "contour": [
           {
            "colorbar": {
             "outlinewidth": 0,
             "ticks": ""
            },
            "colorscale": [
             [
              0,
              "#0d0887"
             ],
             [
              0.1111111111111111,
              "#46039f"
             ],
             [
              0.2222222222222222,
              "#7201a8"
             ],
             [
              0.3333333333333333,
              "#9c179e"
             ],
             [
              0.4444444444444444,
              "#bd3786"
             ],
             [
              0.5555555555555556,
              "#d8576b"
             ],
             [
              0.6666666666666666,
              "#ed7953"
             ],
             [
              0.7777777777777778,
              "#fb9f3a"
             ],
             [
              0.8888888888888888,
              "#fdca26"
             ],
             [
              1,
              "#f0f921"
             ]
            ],
            "type": "contour"
           }
          ],
          "contourcarpet": [
           {
            "colorbar": {
             "outlinewidth": 0,
             "ticks": ""
            },
            "type": "contourcarpet"
           }
          ],
          "heatmap": [
           {
            "colorbar": {
             "outlinewidth": 0,
             "ticks": ""
            },
            "colorscale": [
             [
              0,
              "#0d0887"
             ],
             [
              0.1111111111111111,
              "#46039f"
             ],
             [
              0.2222222222222222,
              "#7201a8"
             ],
             [
              0.3333333333333333,
              "#9c179e"
             ],
             [
              0.4444444444444444,
              "#bd3786"
             ],
             [
              0.5555555555555556,
              "#d8576b"
             ],
             [
              0.6666666666666666,
              "#ed7953"
             ],
             [
              0.7777777777777778,
              "#fb9f3a"
             ],
             [
              0.8888888888888888,
              "#fdca26"
             ],
             [
              1,
              "#f0f921"
             ]
            ],
            "type": "heatmap"
           }
          ],
          "heatmapgl": [
           {
            "colorbar": {
             "outlinewidth": 0,
             "ticks": ""
            },
            "colorscale": [
             [
              0,
              "#0d0887"
             ],
             [
              0.1111111111111111,
              "#46039f"
             ],
             [
              0.2222222222222222,
              "#7201a8"
             ],
             [
              0.3333333333333333,
              "#9c179e"
             ],
             [
              0.4444444444444444,
              "#bd3786"
             ],
             [
              0.5555555555555556,
              "#d8576b"
             ],
             [
              0.6666666666666666,
              "#ed7953"
             ],
             [
              0.7777777777777778,
              "#fb9f3a"
             ],
             [
              0.8888888888888888,
              "#fdca26"
             ],
             [
              1,
              "#f0f921"
             ]
            ],
            "type": "heatmapgl"
           }
          ],
          "histogram": [
           {
            "marker": {
             "pattern": {
              "fillmode": "overlay",
              "size": 10,
              "solidity": 0.2
             }
            },
            "type": "histogram"
           }
          ],
          "histogram2d": [
           {
            "colorbar": {
             "outlinewidth": 0,
             "ticks": ""
            },
            "colorscale": [
             [
              0,
              "#0d0887"
             ],
             [
              0.1111111111111111,
              "#46039f"
             ],
             [
              0.2222222222222222,
              "#7201a8"
             ],
             [
              0.3333333333333333,
              "#9c179e"
             ],
             [
              0.4444444444444444,
              "#bd3786"
             ],
             [
              0.5555555555555556,
              "#d8576b"
             ],
             [
              0.6666666666666666,
              "#ed7953"
             ],
             [
              0.7777777777777778,
              "#fb9f3a"
             ],
             [
              0.8888888888888888,
              "#fdca26"
             ],
             [
              1,
              "#f0f921"
             ]
            ],
            "type": "histogram2d"
           }
          ],
          "histogram2dcontour": [
           {
            "colorbar": {
             "outlinewidth": 0,
             "ticks": ""
            },
            "colorscale": [
             [
              0,
              "#0d0887"
             ],
             [
              0.1111111111111111,
              "#46039f"
             ],
             [
              0.2222222222222222,
              "#7201a8"
             ],
             [
              0.3333333333333333,
              "#9c179e"
             ],
             [
              0.4444444444444444,
              "#bd3786"
             ],
             [
              0.5555555555555556,
              "#d8576b"
             ],
             [
              0.6666666666666666,
              "#ed7953"
             ],
             [
              0.7777777777777778,
              "#fb9f3a"
             ],
             [
              0.8888888888888888,
              "#fdca26"
             ],
             [
              1,
              "#f0f921"
             ]
            ],
            "type": "histogram2dcontour"
           }
          ],
          "mesh3d": [
           {
            "colorbar": {
             "outlinewidth": 0,
             "ticks": ""
            },
            "type": "mesh3d"
           }
          ],
          "parcoords": [
           {
            "line": {
             "colorbar": {
              "outlinewidth": 0,
              "ticks": ""
             }
            },
            "type": "parcoords"
           }
          ],
          "pie": [
           {
            "automargin": true,
            "type": "pie"
           }
          ],
          "scatter": [
           {
            "fillpattern": {
             "fillmode": "overlay",
             "size": 10,
             "solidity": 0.2
            },
            "type": "scatter"
           }
          ],
          "scatter3d": [
           {
            "line": {
             "colorbar": {
              "outlinewidth": 0,
              "ticks": ""
             }
            },
            "marker": {
             "colorbar": {
              "outlinewidth": 0,
              "ticks": ""
             }
            },
            "type": "scatter3d"
           }
          ],
          "scattercarpet": [
           {
            "marker": {
             "colorbar": {
              "outlinewidth": 0,
              "ticks": ""
             }
            },
            "type": "scattercarpet"
           }
          ],
          "scattergeo": [
           {
            "marker": {
             "colorbar": {
              "outlinewidth": 0,
              "ticks": ""
             }
            },
            "type": "scattergeo"
           }
          ],
          "scattergl": [
           {
            "marker": {
             "colorbar": {
              "outlinewidth": 0,
              "ticks": ""
             }
            },
            "type": "scattergl"
           }
          ],
          "scattermapbox": [
           {
            "marker": {
             "colorbar": {
              "outlinewidth": 0,
              "ticks": ""
             }
            },
            "type": "scattermapbox"
           }
          ],
          "scatterpolar": [
           {
            "marker": {
             "colorbar": {
              "outlinewidth": 0,
              "ticks": ""
             }
            },
            "type": "scatterpolar"
           }
          ],
          "scatterpolargl": [
           {
            "marker": {
             "colorbar": {
              "outlinewidth": 0,
              "ticks": ""
             }
            },
            "type": "scatterpolargl"
           }
          ],
          "scatterternary": [
           {
            "marker": {
             "colorbar": {
              "outlinewidth": 0,
              "ticks": ""
             }
            },
            "type": "scatterternary"
           }
          ],
          "surface": [
           {
            "colorbar": {
             "outlinewidth": 0,
             "ticks": ""
            },
            "colorscale": [
             [
              0,
              "#0d0887"
             ],
             [
              0.1111111111111111,
              "#46039f"
             ],
             [
              0.2222222222222222,
              "#7201a8"
             ],
             [
              0.3333333333333333,
              "#9c179e"
             ],
             [
              0.4444444444444444,
              "#bd3786"
             ],
             [
              0.5555555555555556,
              "#d8576b"
             ],
             [
              0.6666666666666666,
              "#ed7953"
             ],
             [
              0.7777777777777778,
              "#fb9f3a"
             ],
             [
              0.8888888888888888,
              "#fdca26"
             ],
             [
              1,
              "#f0f921"
             ]
            ],
            "type": "surface"
           }
          ],
          "table": [
           {
            "cells": {
             "fill": {
              "color": "#EBF0F8"
             },
             "line": {
              "color": "white"
             }
            },
            "header": {
             "fill": {
              "color": "#C8D4E3"
             },
             "line": {
              "color": "white"
             }
            },
            "type": "table"
           }
          ]
         },
         "layout": {
          "annotationdefaults": {
           "arrowcolor": "#2a3f5f",
           "arrowhead": 0,
           "arrowwidth": 1
          },
          "autotypenumbers": "strict",
          "coloraxis": {
           "colorbar": {
            "outlinewidth": 0,
            "ticks": ""
           }
          },
          "colorscale": {
           "diverging": [
            [
             0,
             "#8e0152"
            ],
            [
             0.1,
             "#c51b7d"
            ],
            [
             0.2,
             "#de77ae"
            ],
            [
             0.3,
             "#f1b6da"
            ],
            [
             0.4,
             "#fde0ef"
            ],
            [
             0.5,
             "#f7f7f7"
            ],
            [
             0.6,
             "#e6f5d0"
            ],
            [
             0.7,
             "#b8e186"
            ],
            [
             0.8,
             "#7fbc41"
            ],
            [
             0.9,
             "#4d9221"
            ],
            [
             1,
             "#276419"
            ]
           ],
           "sequential": [
            [
             0,
             "#0d0887"
            ],
            [
             0.1111111111111111,
             "#46039f"
            ],
            [
             0.2222222222222222,
             "#7201a8"
            ],
            [
             0.3333333333333333,
             "#9c179e"
            ],
            [
             0.4444444444444444,
             "#bd3786"
            ],
            [
             0.5555555555555556,
             "#d8576b"
            ],
            [
             0.6666666666666666,
             "#ed7953"
            ],
            [
             0.7777777777777778,
             "#fb9f3a"
            ],
            [
             0.8888888888888888,
             "#fdca26"
            ],
            [
             1,
             "#f0f921"
            ]
           ],
           "sequentialminus": [
            [
             0,
             "#0d0887"
            ],
            [
             0.1111111111111111,
             "#46039f"
            ],
            [
             0.2222222222222222,
             "#7201a8"
            ],
            [
             0.3333333333333333,
             "#9c179e"
            ],
            [
             0.4444444444444444,
             "#bd3786"
            ],
            [
             0.5555555555555556,
             "#d8576b"
            ],
            [
             0.6666666666666666,
             "#ed7953"
            ],
            [
             0.7777777777777778,
             "#fb9f3a"
            ],
            [
             0.8888888888888888,
             "#fdca26"
            ],
            [
             1,
             "#f0f921"
            ]
           ]
          },
          "colorway": [
           "#636efa",
           "#EF553B",
           "#00cc96",
           "#ab63fa",
           "#FFA15A",
           "#19d3f3",
           "#FF6692",
           "#B6E880",
           "#FF97FF",
           "#FECB52"
          ],
          "font": {
           "color": "#2a3f5f"
          },
          "geo": {
           "bgcolor": "white",
           "lakecolor": "white",
           "landcolor": "#E5ECF6",
           "showlakes": true,
           "showland": true,
           "subunitcolor": "white"
          },
          "hoverlabel": {
           "align": "left"
          },
          "hovermode": "closest",
          "mapbox": {
           "style": "light"
          },
          "paper_bgcolor": "white",
          "plot_bgcolor": "#E5ECF6",
          "polar": {
           "angularaxis": {
            "gridcolor": "white",
            "linecolor": "white",
            "ticks": ""
           },
           "bgcolor": "#E5ECF6",
           "radialaxis": {
            "gridcolor": "white",
            "linecolor": "white",
            "ticks": ""
           }
          },
          "scene": {
           "xaxis": {
            "backgroundcolor": "#E5ECF6",
            "gridcolor": "white",
            "gridwidth": 2,
            "linecolor": "white",
            "showbackground": true,
            "ticks": "",
            "zerolinecolor": "white"
           },
           "yaxis": {
            "backgroundcolor": "#E5ECF6",
            "gridcolor": "white",
            "gridwidth": 2,
            "linecolor": "white",
            "showbackground": true,
            "ticks": "",
            "zerolinecolor": "white"
           },
           "zaxis": {
            "backgroundcolor": "#E5ECF6",
            "gridcolor": "white",
            "gridwidth": 2,
            "linecolor": "white",
            "showbackground": true,
            "ticks": "",
            "zerolinecolor": "white"
           }
          },
          "shapedefaults": {
           "line": {
            "color": "#2a3f5f"
           }
          },
          "ternary": {
           "aaxis": {
            "gridcolor": "white",
            "linecolor": "white",
            "ticks": ""
           },
           "baxis": {
            "gridcolor": "white",
            "linecolor": "white",
            "ticks": ""
           },
           "bgcolor": "#E5ECF6",
           "caxis": {
            "gridcolor": "white",
            "linecolor": "white",
            "ticks": ""
           }
          },
          "title": {
           "x": 0.05
          },
          "xaxis": {
           "automargin": true,
           "gridcolor": "white",
           "linecolor": "white",
           "ticks": "",
           "title": {
            "standoff": 15
           },
           "zerolinecolor": "white",
           "zerolinewidth": 2
          },
          "yaxis": {
           "automargin": true,
           "gridcolor": "white",
           "linecolor": "white",
           "ticks": "",
           "title": {
            "standoff": 15
           },
           "zerolinecolor": "white",
           "zerolinewidth": 2
          }
         }
        },
        "title": {
         "text": "Top 20 des articles les plus vendus en quantité"
        },
        "xaxis": {
         "anchor": "y",
         "domain": [
          0,
          1
         ],
         "tickangle": 45,
         "title": {
          "text": "Articles"
         }
        },
        "yaxis": {
         "anchor": "x",
         "domain": [
          0,
          1
         ],
         "title": {
          "text": "Quantités vendues"
         }
        }
       }
      }
     },
     "metadata": {},
     "output_type": "display_data"
    }
   ],
   "source": [
    "#####################################\n",
    "# Palmares des articles en quantité #\n",
    "#####################################\n",
    "\n",
    "#Effectuer le tri dans l'ordre décroissant de quantités vendues du dataset df_merge\n",
    "\n",
    "df_merge = df_merge.sort_values(by='total_sales', ascending=False)\n",
    "\n",
    "#Réinitialiser l'index du dataset par un reset_index\n",
    "\n",
    "df_merge = df_merge.reset_index(drop=True)\n",
    "\n",
    "#Afficher les 20 premier articles en quantité\n",
    "\n",
    "print(df_merge[['post_title', 'total_sales']].head(20))\n",
    "\n",
    "#Graphique en barre des 20 premiers articles avec plotly express\n",
    "\n",
    "df_top20 = df_merge.head(20)\n",
    "fig = px.bar(df_top20, \n",
    "            x='post_title',  # noms des produits en x\n",
    "            y='total_sales', # quantités vendues en y\n",
    "            title='Top 20 des articles les plus vendus en quantité')\n",
    "\n",
    "fig.update_layout(\n",
    "   xaxis_title=\"Articles\",\n",
    "   yaxis_title=\"Quantités vendues\",\n",
    "   xaxis={'tickangle': 45}  # Rotation des labels pour meilleure lisibilité\n",
    ")\n",
    "\n",
    "fig.show()"
   ]
  },
  {
   "cell_type": "code",
   "execution_count": 56,
   "id": "2aad021e",
   "metadata": {},
   "outputs": [
    {
     "name": "stdout",
     "output_type": "stream",
     "text": [
      "Proportion d'articles représentant 80% du CA : 52.24242424242425\n"
     ]
    }
   ],
   "source": [
    "#############################\n",
    "# Calculer le 20 / 80 en CA # Deux fois qu'on fait ça non? Mais j'ai deux résultats qui diffère un peu\n",
    "#############################\n",
    "\n",
    "#Créer une colonne calculant la part en quantité de la ligne dans le dataset\n",
    "\n",
    "df_merge['part_qte'] = (df_merge['total_sales'] / df_merge['total_sales'].sum()) * 100\n",
    "\n",
    "#Créer une colonne réalisant la somme cumulative de la colonne précedemment créée\n",
    " \n",
    "df_merge['cumul_part_qte'] = df_merge['part_qte'].cumsum()\n",
    "\n",
    "#Grâce au deux colonnes créées précedemment, calculer le nombre d'articles représentant 80% des ventes en quantité\n",
    "\n",
    "nb_articles_80_qte = len(df_merge[df_merge['cumul_part_qte'] <= 80])\n",
    "\n",
    "#Afficher la proportion que représentent ce groupe d'articles dans le catalogue entier du site web\n",
    "\n",
    "pourcentage_articles_qte = (nb_articles_80_qte / len(df_merge)) * 100\n",
    "print(\"Proportion d'articles représentant 80% du CA : {}\".format(pourcentage_articles_qte))"
   ]
  },
  {
   "cell_type": "markdown",
   "id": "077789b1",
   "metadata": {},
   "source": [
    "<div style=\"border: 1px solid RGB(51,165,182);\" >\n",
    "<h3 style=\"margin: auto; padding: 20px; color: RGB(51,165,182); \">Etape 5.3 - Analyse des stocks</h3>\n",
    "</div>"
   ]
  },
  {
   "cell_type": "code",
   "execution_count": 57,
   "id": "14e45472",
   "metadata": {},
   "outputs": [
    {
     "data": {
      "application/vnd.plotly.v1+json": {
       "config": {
        "plotlyServerURL": "https://plot.ly"
       },
       "data": [
        {
         "alignmentgroup": "True",
         "hovertemplate": "post_title=%{x}<br>stock_quantity=%{y}<extra></extra>",
         "legendgroup": "",
         "marker": {
          "color": "#636efa",
          "pattern": {
           "shape": ""
          }
         },
         "name": "",
         "offsetgroup": "",
         "orientation": "v",
         "showlegend": false,
         "textposition": "auto",
         "type": "bar",
         "x": [
          "Champagne Mailly Grand Cru Les Echansons 2007",
          "Champagne Egly-Ouriet Grand Cru Extra Brut V.P.",
          "Champagne Gosset Grand Blanc de Blancs",
          "Champagne Gosset Célébris Vintage 2007",
          "Champagne Agrapart &amp; Fils L'Avizoise Extra Brut Blanc de Blancs Grand Cru 2012",
          "Champagne Egly-Ouriet Grand Cru Brut Rosé",
          "Champagne Gosset Grand Millésime 2006",
          "Huiles d'Olive Extra Vierge Planeta 3x 10cl",
          "Champagne Egly-Ouriet Grand Cru Brut Tradition",
          "Champagne Mailly Grand Cru Intemporelle 2010",
          "Champagne Gosset Grande Réserve",
          "Château De La Selve IGP Coteaux de l'Ardèche Maguelonne Rosé 2019",
          "Champagne Larmandier-Bernier Latitude",
          "Champagne Larmandier-Bernier Grand Cru Les Chemins d'Avize 2011",
          "Champagne Agrapart &amp; Fils Les 7 Crus Brut Blanc de Blancs",
          "Champagne Mailly Grand Cru Intemporelle Rosé 2009",
          "Champagne Agrapart &amp; Fils Minéral Extra Brut Blanc de Blancs Grand Cru 2012",
          "Champagne Mailly Grand Cru Extra Brut Millésimé 2012",
          "Champagne Larmandier-Bernier Terre de Vertus Premier Cru 2011",
          "Coteaux Champenois Egly-Ouriet Ambonnay Rouge 2016"
         ],
         "xaxis": "x",
         "y": [
          145,
          145,
          142,
          138,
          136,
          127,
          125,
          125,
          125,
          123,
          123,
          121,
          115,
          112,
          103,
          101,
          101,
          100,
          100,
          98
         ],
         "yaxis": "y"
        }
       ],
       "layout": {
        "barmode": "relative",
        "legend": {
         "tracegroupgap": 0
        },
        "template": {
         "data": {
          "bar": [
           {
            "error_x": {
             "color": "#2a3f5f"
            },
            "error_y": {
             "color": "#2a3f5f"
            },
            "marker": {
             "line": {
              "color": "#E5ECF6",
              "width": 0.5
             },
             "pattern": {
              "fillmode": "overlay",
              "size": 10,
              "solidity": 0.2
             }
            },
            "type": "bar"
           }
          ],
          "barpolar": [
           {
            "marker": {
             "line": {
              "color": "#E5ECF6",
              "width": 0.5
             },
             "pattern": {
              "fillmode": "overlay",
              "size": 10,
              "solidity": 0.2
             }
            },
            "type": "barpolar"
           }
          ],
          "carpet": [
           {
            "aaxis": {
             "endlinecolor": "#2a3f5f",
             "gridcolor": "white",
             "linecolor": "white",
             "minorgridcolor": "white",
             "startlinecolor": "#2a3f5f"
            },
            "baxis": {
             "endlinecolor": "#2a3f5f",
             "gridcolor": "white",
             "linecolor": "white",
             "minorgridcolor": "white",
             "startlinecolor": "#2a3f5f"
            },
            "type": "carpet"
           }
          ],
          "choropleth": [
           {
            "colorbar": {
             "outlinewidth": 0,
             "ticks": ""
            },
            "type": "choropleth"
           }
          ],
          "contour": [
           {
            "colorbar": {
             "outlinewidth": 0,
             "ticks": ""
            },
            "colorscale": [
             [
              0,
              "#0d0887"
             ],
             [
              0.1111111111111111,
              "#46039f"
             ],
             [
              0.2222222222222222,
              "#7201a8"
             ],
             [
              0.3333333333333333,
              "#9c179e"
             ],
             [
              0.4444444444444444,
              "#bd3786"
             ],
             [
              0.5555555555555556,
              "#d8576b"
             ],
             [
              0.6666666666666666,
              "#ed7953"
             ],
             [
              0.7777777777777778,
              "#fb9f3a"
             ],
             [
              0.8888888888888888,
              "#fdca26"
             ],
             [
              1,
              "#f0f921"
             ]
            ],
            "type": "contour"
           }
          ],
          "contourcarpet": [
           {
            "colorbar": {
             "outlinewidth": 0,
             "ticks": ""
            },
            "type": "contourcarpet"
           }
          ],
          "heatmap": [
           {
            "colorbar": {
             "outlinewidth": 0,
             "ticks": ""
            },
            "colorscale": [
             [
              0,
              "#0d0887"
             ],
             [
              0.1111111111111111,
              "#46039f"
             ],
             [
              0.2222222222222222,
              "#7201a8"
             ],
             [
              0.3333333333333333,
              "#9c179e"
             ],
             [
              0.4444444444444444,
              "#bd3786"
             ],
             [
              0.5555555555555556,
              "#d8576b"
             ],
             [
              0.6666666666666666,
              "#ed7953"
             ],
             [
              0.7777777777777778,
              "#fb9f3a"
             ],
             [
              0.8888888888888888,
              "#fdca26"
             ],
             [
              1,
              "#f0f921"
             ]
            ],
            "type": "heatmap"
           }
          ],
          "heatmapgl": [
           {
            "colorbar": {
             "outlinewidth": 0,
             "ticks": ""
            },
            "colorscale": [
             [
              0,
              "#0d0887"
             ],
             [
              0.1111111111111111,
              "#46039f"
             ],
             [
              0.2222222222222222,
              "#7201a8"
             ],
             [
              0.3333333333333333,
              "#9c179e"
             ],
             [
              0.4444444444444444,
              "#bd3786"
             ],
             [
              0.5555555555555556,
              "#d8576b"
             ],
             [
              0.6666666666666666,
              "#ed7953"
             ],
             [
              0.7777777777777778,
              "#fb9f3a"
             ],
             [
              0.8888888888888888,
              "#fdca26"
             ],
             [
              1,
              "#f0f921"
             ]
            ],
            "type": "heatmapgl"
           }
          ],
          "histogram": [
           {
            "marker": {
             "pattern": {
              "fillmode": "overlay",
              "size": 10,
              "solidity": 0.2
             }
            },
            "type": "histogram"
           }
          ],
          "histogram2d": [
           {
            "colorbar": {
             "outlinewidth": 0,
             "ticks": ""
            },
            "colorscale": [
             [
              0,
              "#0d0887"
             ],
             [
              0.1111111111111111,
              "#46039f"
             ],
             [
              0.2222222222222222,
              "#7201a8"
             ],
             [
              0.3333333333333333,
              "#9c179e"
             ],
             [
              0.4444444444444444,
              "#bd3786"
             ],
             [
              0.5555555555555556,
              "#d8576b"
             ],
             [
              0.6666666666666666,
              "#ed7953"
             ],
             [
              0.7777777777777778,
              "#fb9f3a"
             ],
             [
              0.8888888888888888,
              "#fdca26"
             ],
             [
              1,
              "#f0f921"
             ]
            ],
            "type": "histogram2d"
           }
          ],
          "histogram2dcontour": [
           {
            "colorbar": {
             "outlinewidth": 0,
             "ticks": ""
            },
            "colorscale": [
             [
              0,
              "#0d0887"
             ],
             [
              0.1111111111111111,
              "#46039f"
             ],
             [
              0.2222222222222222,
              "#7201a8"
             ],
             [
              0.3333333333333333,
              "#9c179e"
             ],
             [
              0.4444444444444444,
              "#bd3786"
             ],
             [
              0.5555555555555556,
              "#d8576b"
             ],
             [
              0.6666666666666666,
              "#ed7953"
             ],
             [
              0.7777777777777778,
              "#fb9f3a"
             ],
             [
              0.8888888888888888,
              "#fdca26"
             ],
             [
              1,
              "#f0f921"
             ]
            ],
            "type": "histogram2dcontour"
           }
          ],
          "mesh3d": [
           {
            "colorbar": {
             "outlinewidth": 0,
             "ticks": ""
            },
            "type": "mesh3d"
           }
          ],
          "parcoords": [
           {
            "line": {
             "colorbar": {
              "outlinewidth": 0,
              "ticks": ""
             }
            },
            "type": "parcoords"
           }
          ],
          "pie": [
           {
            "automargin": true,
            "type": "pie"
           }
          ],
          "scatter": [
           {
            "fillpattern": {
             "fillmode": "overlay",
             "size": 10,
             "solidity": 0.2
            },
            "type": "scatter"
           }
          ],
          "scatter3d": [
           {
            "line": {
             "colorbar": {
              "outlinewidth": 0,
              "ticks": ""
             }
            },
            "marker": {
             "colorbar": {
              "outlinewidth": 0,
              "ticks": ""
             }
            },
            "type": "scatter3d"
           }
          ],
          "scattercarpet": [
           {
            "marker": {
             "colorbar": {
              "outlinewidth": 0,
              "ticks": ""
             }
            },
            "type": "scattercarpet"
           }
          ],
          "scattergeo": [
           {
            "marker": {
             "colorbar": {
              "outlinewidth": 0,
              "ticks": ""
             }
            },
            "type": "scattergeo"
           }
          ],
          "scattergl": [
           {
            "marker": {
             "colorbar": {
              "outlinewidth": 0,
              "ticks": ""
             }
            },
            "type": "scattergl"
           }
          ],
          "scattermapbox": [
           {
            "marker": {
             "colorbar": {
              "outlinewidth": 0,
              "ticks": ""
             }
            },
            "type": "scattermapbox"
           }
          ],
          "scatterpolar": [
           {
            "marker": {
             "colorbar": {
              "outlinewidth": 0,
              "ticks": ""
             }
            },
            "type": "scatterpolar"
           }
          ],
          "scatterpolargl": [
           {
            "marker": {
             "colorbar": {
              "outlinewidth": 0,
              "ticks": ""
             }
            },
            "type": "scatterpolargl"
           }
          ],
          "scatterternary": [
           {
            "marker": {
             "colorbar": {
              "outlinewidth": 0,
              "ticks": ""
             }
            },
            "type": "scatterternary"
           }
          ],
          "surface": [
           {
            "colorbar": {
             "outlinewidth": 0,
             "ticks": ""
            },
            "colorscale": [
             [
              0,
              "#0d0887"
             ],
             [
              0.1111111111111111,
              "#46039f"
             ],
             [
              0.2222222222222222,
              "#7201a8"
             ],
             [
              0.3333333333333333,
              "#9c179e"
             ],
             [
              0.4444444444444444,
              "#bd3786"
             ],
             [
              0.5555555555555556,
              "#d8576b"
             ],
             [
              0.6666666666666666,
              "#ed7953"
             ],
             [
              0.7777777777777778,
              "#fb9f3a"
             ],
             [
              0.8888888888888888,
              "#fdca26"
             ],
             [
              1,
              "#f0f921"
             ]
            ],
            "type": "surface"
           }
          ],
          "table": [
           {
            "cells": {
             "fill": {
              "color": "#EBF0F8"
             },
             "line": {
              "color": "white"
             }
            },
            "header": {
             "fill": {
              "color": "#C8D4E3"
             },
             "line": {
              "color": "white"
             }
            },
            "type": "table"
           }
          ]
         },
         "layout": {
          "annotationdefaults": {
           "arrowcolor": "#2a3f5f",
           "arrowhead": 0,
           "arrowwidth": 1
          },
          "autotypenumbers": "strict",
          "coloraxis": {
           "colorbar": {
            "outlinewidth": 0,
            "ticks": ""
           }
          },
          "colorscale": {
           "diverging": [
            [
             0,
             "#8e0152"
            ],
            [
             0.1,
             "#c51b7d"
            ],
            [
             0.2,
             "#de77ae"
            ],
            [
             0.3,
             "#f1b6da"
            ],
            [
             0.4,
             "#fde0ef"
            ],
            [
             0.5,
             "#f7f7f7"
            ],
            [
             0.6,
             "#e6f5d0"
            ],
            [
             0.7,
             "#b8e186"
            ],
            [
             0.8,
             "#7fbc41"
            ],
            [
             0.9,
             "#4d9221"
            ],
            [
             1,
             "#276419"
            ]
           ],
           "sequential": [
            [
             0,
             "#0d0887"
            ],
            [
             0.1111111111111111,
             "#46039f"
            ],
            [
             0.2222222222222222,
             "#7201a8"
            ],
            [
             0.3333333333333333,
             "#9c179e"
            ],
            [
             0.4444444444444444,
             "#bd3786"
            ],
            [
             0.5555555555555556,
             "#d8576b"
            ],
            [
             0.6666666666666666,
             "#ed7953"
            ],
            [
             0.7777777777777778,
             "#fb9f3a"
            ],
            [
             0.8888888888888888,
             "#fdca26"
            ],
            [
             1,
             "#f0f921"
            ]
           ],
           "sequentialminus": [
            [
             0,
             "#0d0887"
            ],
            [
             0.1111111111111111,
             "#46039f"
            ],
            [
             0.2222222222222222,
             "#7201a8"
            ],
            [
             0.3333333333333333,
             "#9c179e"
            ],
            [
             0.4444444444444444,
             "#bd3786"
            ],
            [
             0.5555555555555556,
             "#d8576b"
            ],
            [
             0.6666666666666666,
             "#ed7953"
            ],
            [
             0.7777777777777778,
             "#fb9f3a"
            ],
            [
             0.8888888888888888,
             "#fdca26"
            ],
            [
             1,
             "#f0f921"
            ]
           ]
          },
          "colorway": [
           "#636efa",
           "#EF553B",
           "#00cc96",
           "#ab63fa",
           "#FFA15A",
           "#19d3f3",
           "#FF6692",
           "#B6E880",
           "#FF97FF",
           "#FECB52"
          ],
          "font": {
           "color": "#2a3f5f"
          },
          "geo": {
           "bgcolor": "white",
           "lakecolor": "white",
           "landcolor": "#E5ECF6",
           "showlakes": true,
           "showland": true,
           "subunitcolor": "white"
          },
          "hoverlabel": {
           "align": "left"
          },
          "hovermode": "closest",
          "mapbox": {
           "style": "light"
          },
          "paper_bgcolor": "white",
          "plot_bgcolor": "#E5ECF6",
          "polar": {
           "angularaxis": {
            "gridcolor": "white",
            "linecolor": "white",
            "ticks": ""
           },
           "bgcolor": "#E5ECF6",
           "radialaxis": {
            "gridcolor": "white",
            "linecolor": "white",
            "ticks": ""
           }
          },
          "scene": {
           "xaxis": {
            "backgroundcolor": "#E5ECF6",
            "gridcolor": "white",
            "gridwidth": 2,
            "linecolor": "white",
            "showbackground": true,
            "ticks": "",
            "zerolinecolor": "white"
           },
           "yaxis": {
            "backgroundcolor": "#E5ECF6",
            "gridcolor": "white",
            "gridwidth": 2,
            "linecolor": "white",
            "showbackground": true,
            "ticks": "",
            "zerolinecolor": "white"
           },
           "zaxis": {
            "backgroundcolor": "#E5ECF6",
            "gridcolor": "white",
            "gridwidth": 2,
            "linecolor": "white",
            "showbackground": true,
            "ticks": "",
            "zerolinecolor": "white"
           }
          },
          "shapedefaults": {
           "line": {
            "color": "#2a3f5f"
           }
          },
          "ternary": {
           "aaxis": {
            "gridcolor": "white",
            "linecolor": "white",
            "ticks": ""
           },
           "baxis": {
            "gridcolor": "white",
            "linecolor": "white",
            "ticks": ""
           },
           "bgcolor": "#E5ECF6",
           "caxis": {
            "gridcolor": "white",
            "linecolor": "white",
            "ticks": ""
           }
          },
          "title": {
           "x": 0.05
          },
          "xaxis": {
           "automargin": true,
           "gridcolor": "white",
           "linecolor": "white",
           "ticks": "",
           "title": {
            "standoff": 15
           },
           "zerolinecolor": "white",
           "zerolinewidth": 2
          },
          "yaxis": {
           "automargin": true,
           "gridcolor": "white",
           "linecolor": "white",
           "ticks": "",
           "title": {
            "standoff": 15
           },
           "zerolinecolor": "white",
           "zerolinewidth": 2
          }
         }
        },
        "title": {
         "text": "Flop 20 des produits avec le plus de stock",
         "x": 0.5,
         "xanchor": "center",
         "y": 0.95,
         "yanchor": "top"
        },
        "xaxis": {
         "anchor": "y",
         "domain": [
          0,
          1
         ],
         "tickangle": 45,
         "title": {
          "text": "Produits"
         }
        },
        "yaxis": {
         "anchor": "x",
         "domain": [
          0,
          1
         ],
         "title": {
          "text": "Quantité de stock"
         }
        }
       }
      }
     },
     "metadata": {},
     "output_type": "display_data"
    }
   ],
   "source": [
    "######################################\n",
    "# Calcule le nombre de mois de stock #\n",
    "######################################\n",
    "\n",
    "# Création de la colonne Rotation de stock\n",
    "df_merge['rotation_stock'] = np.where(\n",
    "    df_merge['total_sales'] == 0,\n",
    "    np.inf,\n",
    "     df_merge['stock_quantity']/df_merge['total_sales']\n",
    ")\n",
    "\n",
    "# Remplacement des \"inf\" par 0\n",
    "df_merge['rotation_stock'] = df_merge['rotation_stock'].replace([np.inf], 0)\n",
    "\n",
    "# Sélection des 20 produits avec le plus de stock\n",
    "df_flop20 = df_merge.sort_values(by='stock_quantity', ascending=False).head(20)\n",
    "\n",
    "# Tri des produits sélectionnés par mois de stock (du plus grand au plus petit)\n",
    "df_flop20 = df_flop20.sort_values(by='stock_quantity', ascending=False)\n",
    "\n",
    "# Création du graphique\n",
    "fig = px.bar(df_flop20, \n",
    "            x='post_title',\n",
    "            y='stock_quantity',\n",
    "            title='Flop 20 des produits avec le plus de stock')\n",
    "\n",
    "fig.update_layout(\n",
    "   xaxis_title=\"Produits\",\n",
    "   yaxis_title=\"Quantité de stock\",\n",
    "   xaxis={'tickangle': 45},  # Rotation des labels pour meilleure lisibilité\n",
    "   title={\n",
    "        'text': 'Flop 20 des produits avec le plus de stock',\n",
    "        'y': 0.95,\n",
    "        'x': 0.5,\n",
    "        'xanchor': 'center',\n",
    "        'yanchor': 'top'\n",
    "   }\n",
    ")\n",
    "\n",
    "# Afficher le graphique\n",
    "fig.show()"
   ]
  },
  {
   "cell_type": "code",
   "execution_count": null,
   "id": "759d1fdb",
   "metadata": {},
   "outputs": [],
   "source": []
  },
  {
   "cell_type": "code",
   "execution_count": 58,
   "id": "0cd6696c",
   "metadata": {},
   "outputs": [
    {
     "name": "stdout",
     "output_type": "stream",
     "text": [
      "Valeur totale des stocks : 532119.10 euros\n"
     ]
    }
   ],
   "source": [
    "####################################\n",
    "# Valorisation des stocks en euros #\n",
    "####################################\n",
    "\n",
    "#Création de la colonne Valorisation des stocks en euros\n",
    "\n",
    "df_merge['Valorisation_stock_euros'] = df_merge['stock_quantity'] * df_merge['price']\n",
    "\n",
    "#Calculer la somme de la colonne \"Valorisation_stock_euros\"\n",
    "\n",
    "print(\"Valeur totale des stocks : {:.2f} euros\".format(df_merge['Valorisation_stock_euros'].sum()))"
   ]
  },
  {
   "cell_type": "code",
   "execution_count": 59,
   "id": "4a3dd99d",
   "metadata": {},
   "outputs": [
    {
     "name": "stdout",
     "output_type": "stream",
     "text": [
      "Nombre total d'unités en stock : 17822\n"
     ]
    }
   ],
   "source": [
    "##############################################\n",
    "# Valorisation du nombre de produit en stock #\n",
    "##############################################\n",
    "\n",
    "#Calculer la somme de la colonne stock quantity\n",
    "\n",
    "print(\"Nombre total d'unités en stock : {}\".format(df_merge['stock_quantity'].sum()))"
   ]
  },
  {
   "cell_type": "code",
   "execution_count": 60,
   "id": "bbbb9af7",
   "metadata": {},
   "outputs": [
    {
     "name": "stdout",
     "output_type": "stream",
     "text": [
      "Nombre de mois de stock restants : 3.10 mois\n"
     ]
    }
   ],
   "source": [
    "# Calcul du stock total\n",
    "stock_total = df_merge['stock_quantity'].sum()\n",
    "\n",
    "# Calcul des ventes totales\n",
    "ventes_totales = df_merge['total_sales'].sum()\n",
    "\n",
    "# Calcul des mois de stock restants avec gestion des ventes nulles\n",
    "if ventes_totales > 0:\n",
    "    mois_stock_restant = stock_total / ventes_totales\n",
    "    print(\"Nombre de mois de stock restants : {:.2f} mois\".format(mois_stock_restant)) #prendre la médiane de la rotation par produit\n",
    "else:\n",
    "    print(\"Nombre de mois de stock restants : indeterminé (aucune vente sur la période)\")\n",
    "\n",
    " \n",
    "\n",
    "\n",
    "#Utilisation d'une liste pour obtenir rotation par produit\n",
    "\n",
    "mois_stock = []\n",
    "\n",
    "for i in range(len(df_merge)):\n",
    "    if df_merge['total_sales'].iloc[i] > 0:\n",
    "        mois_stock.append(df_merge['stock_quantity'].iloc[i] / df_merge['total_sales'].iloc[i])\n",
    "    else:\n",
    "        mois_stock.append(float('inf'))  # ou une autre valeur pour représenter l'infini\n",
    "\n",
    "df_merge['mois_stock_restant'] = mois_stock\n"
   ]
  },
  {
   "cell_type": "code",
   "execution_count": null,
   "id": "42e85bee",
   "metadata": {},
   "outputs": [
    {
     "data": {
      "application/vnd.plotly.v1+json": {
       "config": {
        "plotlyServerURL": "https://plot.ly"
       },
       "data": [
        {
         "alignmentgroup": "True",
         "hovertemplate": "mois_stock_viz=%{y}<extra></extra>",
         "legendgroup": "",
         "marker": {
          "color": "#636efa"
         },
         "name": "",
         "notched": false,
         "offsetgroup": "",
         "orientation": "v",
         "showlegend": false,
         "type": "box",
         "x0": " ",
         "xaxis": "x",
         "y": [
          3.361111111111111,
          2.740740740740741,
          2.5833333333333335,
          2.0454545454545454,
          0,
          1.7,
          3.4,
          2.6666666666666665,
          3.411764705882353,
          2.764705882352941,
          2.588235294117647,
          2.8125,
          3.1875,
          3.375,
          2.125,
          2.0625,
          3.1875,
          0,
          2.8,
          2.4,
          3.3333333333333335,
          3.4,
          2.6666666666666665,
          3.2,
          2.3333333333333335,
          2,
          2.933333333333333,
          0,
          2.8666666666666667,
          3.466666666666667,
          3.2666666666666666,
          2.6666666666666665,
          3.4,
          3.2,
          2.8,
          2.857142857142857,
          3.2142857142857144,
          2.642857142857143,
          2.0714285714285716,
          2.857142857142857,
          2.0714285714285716,
          2.142857142857143,
          3.2857142857142856,
          2.7142857142857144,
          3.5,
          9.071428571428571,
          3.2142857142857144,
          0,
          2.357142857142857,
          3.357142857142857,
          2.076923076923077,
          2.3846153846153846,
          2.4615384615384617,
          2.3846153846153846,
          3.3076923076923075,
          2,
          2.076923076923077,
          2.230769230769231,
          2.1538461538461537,
          2.3846153846153846,
          3.1538461538461537,
          3,
          2.769230769230769,
          3.076923076923077,
          2.4615384615384617,
          2.4615384615384617,
          3,
          3.230769230769231,
          3.4615384615384617,
          2.3846153846153846,
          2.076923076923077,
          3.230769230769231,
          3.3076923076923075,
          3.076923076923077,
          2.923076923076923,
          3.3846153846153846,
          2,
          2.6923076923076925,
          2.6153846153846154,
          3,
          2.6923076923076925,
          3.3076923076923075,
          2.769230769230769,
          3,
          2.4615384615384617,
          3,
          2.3846153846153846,
          2.6923076923076925,
          2.1538461538461537,
          3.1538461538461537,
          3.4615384615384617,
          2,
          3.3076923076923075,
          3.25,
          2.0833333333333335,
          3.5,
          2.25,
          2.6666666666666665,
          2,
          3.5,
          1.8333333333333333,
          2.5,
          2.5833333333333335,
          3.25,
          2.5,
          3,
          2.0833333333333335,
          3.5,
          3.5,
          2.5,
          2.1666666666666665,
          2.5833333333333335,
          3.5,
          3.4166666666666665,
          3.0833333333333335,
          2.3333333333333335,
          2.4166666666666665,
          2.9166666666666665,
          2.4166666666666665,
          2.9166666666666665,
          2.75,
          2.6666666666666665,
          2.8333333333333335,
          2.5833333333333335,
          2.3333333333333335,
          3.0833333333333335,
          2.6666666666666665,
          2.1666666666666665,
          2.9166666666666665,
          2.6666666666666665,
          2.1666666666666665,
          3,
          2.8333333333333335,
          3.1666666666666665,
          2.75,
          2.5,
          3.4166666666666665,
          3.1666666666666665,
          3.3333333333333335,
          2.5,
          3,
          3.1666666666666665,
          3.4545454545454546,
          2.1818181818181817,
          2.1818181818181817,
          2.090909090909091,
          2.5454545454545454,
          3.1818181818181817,
          2.909090909090909,
          2.5454545454545454,
          3.272727272727273,
          3.4545454545454546,
          3.4545454545454546,
          2.8181818181818183,
          3.1818181818181817,
          2.090909090909091,
          3.090909090909091,
          2.8181818181818183,
          2.6363636363636362,
          2.909090909090909,
          3.272727272727273,
          2.727272727272727,
          2.727272727272727,
          2.3636363636363638,
          3.4545454545454546,
          2.1818181818181817,
          2.909090909090909,
          3.1818181818181817,
          2.090909090909091,
          3,
          2.090909090909091,
          3.4545454545454546,
          2.6363636363636362,
          2.909090909090909,
          2.6363636363636362,
          2.3636363636363638,
          2.1818181818181817,
          3,
          3,
          2.1818181818181817,
          2.6363636363636362,
          2.5454545454545454,
          2.090909090909091,
          2.5454545454545454,
          0,
          3.4545454545454546,
          2.5454545454545454,
          3.090909090909091,
          2.4545454545454546,
          2.6363636363636362,
          3.1818181818181817,
          2.090909090909091,
          2.5454545454545454,
          2.8,
          2.3,
          2.7,
          3.2,
          2.7,
          2.1,
          2.3,
          2.5,
          2.3,
          3.4,
          2.2,
          2.2,
          0,
          2.9,
          2.4,
          3.3,
          2.5,
          3.1,
          12.5,
          2.9,
          2.6,
          3.4,
          2.2,
          3.2,
          0,
          3.5,
          3.2,
          3.4,
          2.2,
          2.4,
          1.9,
          3.4,
          3.2,
          3.3,
          1.4,
          1.9,
          0.7,
          2.4,
          1.1,
          2.4,
          3.2,
          2.1,
          1.6,
          2.9,
          2.2,
          2.7,
          2.3,
          2.3,
          2.6,
          1.5,
          3.1,
          2.1,
          2.3,
          2.1,
          3.5,
          2.8,
          2.6,
          2.7,
          2.7,
          2.8,
          3,
          3.2,
          3.2,
          2.8,
          2.3,
          3.2222222222222223,
          1.5555555555555556,
          2.7777777777777777,
          1.8888888888888888,
          2.7777777777777777,
          3.2222222222222223,
          2.2222222222222223,
          1.8888888888888888,
          2.3333333333333335,
          3.2222222222222223,
          2.4444444444444446,
          3.111111111111111,
          0,
          1.1111111111111112,
          1.1111111111111112,
          2.7777777777777777,
          2.6666666666666665,
          2.2222222222222223,
          2.4444444444444446,
          3.111111111111111,
          1.5555555555555556,
          2.3333333333333335,
          3,
          1.3333333333333333,
          3.2222222222222223,
          1.3333333333333333,
          1.1111111111111112,
          3.2222222222222223,
          3.3333333333333335,
          2.7777777777777777,
          3.3333333333333335,
          2.5555555555555554,
          2.4444444444444446,
          1.3333333333333333,
          3.111111111111111,
          2.888888888888889,
          1,
          0,
          3.3333333333333335,
          3.2222222222222223,
          2.7777777777777777,
          2,
          3.4444444444444446,
          3.3333333333333335,
          3.3333333333333335,
          3.4444444444444446,
          3.111111111111111,
          1.3333333333333333,
          3.3333333333333335,
          2.6666666666666665,
          0,
          2.6666666666666665,
          3.2222222222222223,
          3.3333333333333335,
          2.5555555555555554,
          2.2222222222222223,
          2.111111111111111,
          2.111111111111111,
          3.3333333333333335,
          1.8888888888888888,
          3.2222222222222223,
          2.7777777777777777,
          2.2222222222222223,
          11.222222222222221,
          2.5555555555555554,
          2.2222222222222223,
          3.111111111111111,
          3.4444444444444446,
          2.111111111111111,
          2.2222222222222223,
          2.875,
          3.375,
          3.375,
          2.375,
          1.375,
          2,
          1.5,
          3.25,
          3.375,
          3.375,
          2.875,
          2,
          1.25,
          2.375,
          1.125,
          2.625,
          1.875,
          3.25,
          0,
          1.125,
          1.5,
          2.25,
          2.125,
          15.375,
          2.875,
          1.375,
          1.875,
          1.875,
          3.25,
          1.875,
          2.125,
          3.25,
          9.5,
          2,
          1.5,
          2.625,
          2.25,
          1.75,
          0,
          3.375,
          3,
          2.25,
          2,
          3.125,
          0,
          3,
          2.5,
          3.25,
          2.25,
          1.5,
          2,
          2.875,
          3.125,
          1,
          1.5,
          2.25,
          2.375,
          12.5,
          1.5,
          10.125,
          1.2857142857142858,
          1.4285714285714286,
          2.5714285714285716,
          2.142857142857143,
          3.4285714285714284,
          3.2857142857142856,
          1.7142857142857142,
          3.2857142857142856,
          2.142857142857143,
          3,
          1.4285714285714286,
          2.2857142857142856,
          1.2857142857142858,
          1,
          3.2857142857142856,
          2.2857142857142856,
          2.142857142857143,
          20.285714285714285,
          3.2857142857142856,
          3,
          2.142857142857143,
          1.8571428571428572,
          2.857142857142857,
          2.2857142857142856,
          1.1428571428571428,
          3.4285714285714284,
          3.2857142857142856,
          1.2857142857142858,
          2.142857142857143,
          1.5714285714285714,
          3.2857142857142856,
          1.5714285714285714,
          20.714285714285715,
          3.4285714285714284,
          3.2857142857142856,
          2.142857142857143,
          2.2857142857142856,
          2.2857142857142856,
          2.5714285714285716,
          1.7142857142857142,
          2,
          3,
          2.5714285714285716,
          1.4285714285714286,
          1.8571428571428572,
          3.2857142857142856,
          1,
          1.8571428571428572,
          2.857142857142857,
          0,
          3.142857142857143,
          3,
          2.2857142857142856,
          2.2857142857142856,
          2.7142857142857144,
          2.142857142857143,
          2,
          3.4285714285714284,
          3.2857142857142856,
          2.142857142857143,
          3.4285714285714284,
          2.4285714285714284,
          2.857142857142857,
          3,
          2.7142857142857144,
          1.8571428571428572,
          3.142857142857143,
          16,
          3.4285714285714284,
          1.6666666666666667,
          22.666666666666668,
          3,
          2.6666666666666665,
          1.5,
          2,
          1.8333333333333333,
          2.1666666666666665,
          2.3333333333333335,
          1.8333333333333333,
          1.6666666666666667,
          20.5,
          1.5,
          2.3333333333333335,
          3,
          2.1666666666666665,
          13.166666666666666,
          1.6666666666666667,
          1.1666666666666667,
          3,
          1.3333333333333333,
          0,
          0,
          2.6666666666666665,
          2,
          3.1666666666666665,
          16.666666666666668,
          1.5,
          1,
          2.6666666666666665,
          1.1666666666666667,
          1.3333333333333333,
          1.6666666666666667,
          2.6666666666666665,
          1.1666666666666667,
          2.8333333333333335,
          12.166666666666666,
          1.1666666666666667,
          1.8333333333333333,
          2.8333333333333335,
          1.8333333333333333,
          2.8333333333333335,
          14.333333333333334,
          2,
          1.5,
          1.6666666666666667,
          16.333333333333332,
          2.6666666666666665,
          1.8333333333333333,
          1.1666666666666667,
          2.1666666666666665,
          1,
          17.166666666666668,
          2,
          1.3333333333333333,
          2.3333333333333335,
          1.1666666666666667,
          0,
          23,
          1.6,
          1.4,
          1.4,
          1.8,
          1.6,
          2.4,
          2,
          3,
          1.8,
          1.4,
          1.6,
          1.2,
          1,
          1.4,
          1.4,
          1,
          3,
          3.2,
          1.2,
          2.4,
          25,
          1.6,
          1.4,
          27.6,
          1.4,
          0,
          1.8,
          1.8,
          3,
          2.8,
          2,
          2.6,
          3,
          20.2,
          1.6,
          3.2,
          2.8,
          3,
          0,
          2.8,
          2,
          2.2,
          1.6,
          2,
          1,
          3.4,
          1.6,
          2.4,
          1.4,
          3.2,
          2.8,
          1.4,
          1.25,
          1.75,
          22.75,
          1.5,
          2,
          3.5,
          3,
          1.75,
          1,
          1.25,
          1.25,
          1.5,
          2,
          1.25,
          0,
          1.75,
          1.75,
          1.5,
          1.5,
          1.5,
          1.25,
          2,
          2,
          1.5,
          1,
          3.25,
          1.75,
          1.75,
          1.75,
          1.25,
          2,
          0,
          3,
          1.75,
          1.5,
          1.75,
          2,
          4.25,
          3,
          3,
          1.75,
          1.5,
          31.25,
          1.25,
          1.75,
          1,
          3.3333333333333335,
          2,
          1.3333333333333333,
          3.3333333333333335,
          1,
          3.6666666666666665,
          2,
          1.3333333333333333,
          1.3333333333333333,
          1,
          3,
          1.6666666666666667,
          1.6666666666666667,
          1.3333333333333333,
          1,
          27,
          5,
          4,
          1.6666666666666667,
          2,
          3,
          1.3333333333333333,
          1.6666666666666667,
          1.6666666666666667,
          1,
          4,
          1.3333333333333333,
          1,
          2,
          1.3333333333333333,
          1.6666666666666667,
          1.6666666666666667,
          2,
          1.6666666666666667,
          2,
          1.3333333333333333,
          1.6666666666666667,
          1.6666666666666667,
          1.3333333333333333,
          1.6666666666666667,
          23.666666666666668,
          1.5,
          1,
          2,
          6,
          2,
          7,
          1,
          1,
          1,
          2.5,
          2,
          0,
          2,
          1.5,
          2,
          2,
          9,
          1.5,
          2,
          1.5,
          2,
          3,
          1,
          2,
          1,
          19,
          12,
          1,
          1,
          1,
          0,
          18,
          null,
          null,
          null,
          null,
          null,
          null,
          null,
          null,
          null,
          null,
          null,
          null,
          null,
          null,
          null,
          null,
          null,
          null,
          null,
          null,
          null,
          null,
          null,
          null,
          null,
          null,
          null,
          null,
          null,
          null,
          null,
          null,
          null,
          null,
          null,
          null,
          null,
          null,
          null,
          null,
          null,
          null,
          null,
          null,
          null,
          null,
          null,
          null,
          null,
          null,
          null,
          null,
          null,
          null,
          null,
          null,
          null,
          null,
          null,
          null,
          null,
          null,
          null,
          null,
          null,
          null,
          null,
          null,
          null,
          null,
          null,
          null,
          null,
          null,
          null,
          null,
          null,
          null,
          null,
          null,
          null,
          null,
          null,
          null,
          null,
          null,
          null,
          null,
          null,
          null,
          null,
          null,
          null,
          null,
          null,
          null,
          null,
          null,
          null,
          null,
          null,
          null,
          null,
          null,
          null,
          null,
          null,
          null,
          null,
          null,
          null,
          null,
          null,
          null,
          null,
          null,
          null,
          null,
          null,
          null,
          null,
          null,
          null,
          null,
          null,
          null,
          null,
          null,
          null,
          null,
          null,
          null,
          null,
          null,
          null,
          null,
          null,
          null
         ],
         "y0": " ",
         "yaxis": "y"
        }
       ],
       "layout": {
        "annotations": [
         {
          "arrowcolor": "red",
          "bgcolor": "white",
          "bordercolor": "black",
          "borderwidth": 1,
          "showarrow": true,
          "text": "Médiane: 2.40 mois",
          "x": 0.5,
          "xref": "x domain",
          "y": 2.4,
          "yref": "y"
         }
        ],
        "boxmode": "group",
        "legend": {
         "tracegroupgap": 0
        },
        "template": {
         "data": {
          "bar": [
           {
            "error_x": {
             "color": "#2a3f5f"
            },
            "error_y": {
             "color": "#2a3f5f"
            },
            "marker": {
             "line": {
              "color": "white",
              "width": 0.5
             },
             "pattern": {
              "fillmode": "overlay",
              "size": 10,
              "solidity": 0.2
             }
            },
            "type": "bar"
           }
          ],
          "barpolar": [
           {
            "marker": {
             "line": {
              "color": "white",
              "width": 0.5
             },
             "pattern": {
              "fillmode": "overlay",
              "size": 10,
              "solidity": 0.2
             }
            },
            "type": "barpolar"
           }
          ],
          "carpet": [
           {
            "aaxis": {
             "endlinecolor": "#2a3f5f",
             "gridcolor": "#C8D4E3",
             "linecolor": "#C8D4E3",
             "minorgridcolor": "#C8D4E3",
             "startlinecolor": "#2a3f5f"
            },
            "baxis": {
             "endlinecolor": "#2a3f5f",
             "gridcolor": "#C8D4E3",
             "linecolor": "#C8D4E3",
             "minorgridcolor": "#C8D4E3",
             "startlinecolor": "#2a3f5f"
            },
            "type": "carpet"
           }
          ],
          "choropleth": [
           {
            "colorbar": {
             "outlinewidth": 0,
             "ticks": ""
            },
            "type": "choropleth"
           }
          ],
          "contour": [
           {
            "colorbar": {
             "outlinewidth": 0,
             "ticks": ""
            },
            "colorscale": [
             [
              0,
              "#0d0887"
             ],
             [
              0.1111111111111111,
              "#46039f"
             ],
             [
              0.2222222222222222,
              "#7201a8"
             ],
             [
              0.3333333333333333,
              "#9c179e"
             ],
             [
              0.4444444444444444,
              "#bd3786"
             ],
             [
              0.5555555555555556,
              "#d8576b"
             ],
             [
              0.6666666666666666,
              "#ed7953"
             ],
             [
              0.7777777777777778,
              "#fb9f3a"
             ],
             [
              0.8888888888888888,
              "#fdca26"
             ],
             [
              1,
              "#f0f921"
             ]
            ],
            "type": "contour"
           }
          ],
          "contourcarpet": [
           {
            "colorbar": {
             "outlinewidth": 0,
             "ticks": ""
            },
            "type": "contourcarpet"
           }
          ],
          "heatmap": [
           {
            "colorbar": {
             "outlinewidth": 0,
             "ticks": ""
            },
            "colorscale": [
             [
              0,
              "#0d0887"
             ],
             [
              0.1111111111111111,
              "#46039f"
             ],
             [
              0.2222222222222222,
              "#7201a8"
             ],
             [
              0.3333333333333333,
              "#9c179e"
             ],
             [
              0.4444444444444444,
              "#bd3786"
             ],
             [
              0.5555555555555556,
              "#d8576b"
             ],
             [
              0.6666666666666666,
              "#ed7953"
             ],
             [
              0.7777777777777778,
              "#fb9f3a"
             ],
             [
              0.8888888888888888,
              "#fdca26"
             ],
             [
              1,
              "#f0f921"
             ]
            ],
            "type": "heatmap"
           }
          ],
          "heatmapgl": [
           {
            "colorbar": {
             "outlinewidth": 0,
             "ticks": ""
            },
            "colorscale": [
             [
              0,
              "#0d0887"
             ],
             [
              0.1111111111111111,
              "#46039f"
             ],
             [
              0.2222222222222222,
              "#7201a8"
             ],
             [
              0.3333333333333333,
              "#9c179e"
             ],
             [
              0.4444444444444444,
              "#bd3786"
             ],
             [
              0.5555555555555556,
              "#d8576b"
             ],
             [
              0.6666666666666666,
              "#ed7953"
             ],
             [
              0.7777777777777778,
              "#fb9f3a"
             ],
             [
              0.8888888888888888,
              "#fdca26"
             ],
             [
              1,
              "#f0f921"
             ]
            ],
            "type": "heatmapgl"
           }
          ],
          "histogram": [
           {
            "marker": {
             "pattern": {
              "fillmode": "overlay",
              "size": 10,
              "solidity": 0.2
             }
            },
            "type": "histogram"
           }
          ],
          "histogram2d": [
           {
            "colorbar": {
             "outlinewidth": 0,
             "ticks": ""
            },
            "colorscale": [
             [
              0,
              "#0d0887"
             ],
             [
              0.1111111111111111,
              "#46039f"
             ],
             [
              0.2222222222222222,
              "#7201a8"
             ],
             [
              0.3333333333333333,
              "#9c179e"
             ],
             [
              0.4444444444444444,
              "#bd3786"
             ],
             [
              0.5555555555555556,
              "#d8576b"
             ],
             [
              0.6666666666666666,
              "#ed7953"
             ],
             [
              0.7777777777777778,
              "#fb9f3a"
             ],
             [
              0.8888888888888888,
              "#fdca26"
             ],
             [
              1,
              "#f0f921"
             ]
            ],
            "type": "histogram2d"
           }
          ],
          "histogram2dcontour": [
           {
            "colorbar": {
             "outlinewidth": 0,
             "ticks": ""
            },
            "colorscale": [
             [
              0,
              "#0d0887"
             ],
             [
              0.1111111111111111,
              "#46039f"
             ],
             [
              0.2222222222222222,
              "#7201a8"
             ],
             [
              0.3333333333333333,
              "#9c179e"
             ],
             [
              0.4444444444444444,
              "#bd3786"
             ],
             [
              0.5555555555555556,
              "#d8576b"
             ],
             [
              0.6666666666666666,
              "#ed7953"
             ],
             [
              0.7777777777777778,
              "#fb9f3a"
             ],
             [
              0.8888888888888888,
              "#fdca26"
             ],
             [
              1,
              "#f0f921"
             ]
            ],
            "type": "histogram2dcontour"
           }
          ],
          "mesh3d": [
           {
            "colorbar": {
             "outlinewidth": 0,
             "ticks": ""
            },
            "type": "mesh3d"
           }
          ],
          "parcoords": [
           {
            "line": {
             "colorbar": {
              "outlinewidth": 0,
              "ticks": ""
             }
            },
            "type": "parcoords"
           }
          ],
          "pie": [
           {
            "automargin": true,
            "type": "pie"
           }
          ],
          "scatter": [
           {
            "fillpattern": {
             "fillmode": "overlay",
             "size": 10,
             "solidity": 0.2
            },
            "type": "scatter"
           }
          ],
          "scatter3d": [
           {
            "line": {
             "colorbar": {
              "outlinewidth": 0,
              "ticks": ""
             }
            },
            "marker": {
             "colorbar": {
              "outlinewidth": 0,
              "ticks": ""
             }
            },
            "type": "scatter3d"
           }
          ],
          "scattercarpet": [
           {
            "marker": {
             "colorbar": {
              "outlinewidth": 0,
              "ticks": ""
             }
            },
            "type": "scattercarpet"
           }
          ],
          "scattergeo": [
           {
            "marker": {
             "colorbar": {
              "outlinewidth": 0,
              "ticks": ""
             }
            },
            "type": "scattergeo"
           }
          ],
          "scattergl": [
           {
            "marker": {
             "colorbar": {
              "outlinewidth": 0,
              "ticks": ""
             }
            },
            "type": "scattergl"
           }
          ],
          "scattermapbox": [
           {
            "marker": {
             "colorbar": {
              "outlinewidth": 0,
              "ticks": ""
             }
            },
            "type": "scattermapbox"
           }
          ],
          "scatterpolar": [
           {
            "marker": {
             "colorbar": {
              "outlinewidth": 0,
              "ticks": ""
             }
            },
            "type": "scatterpolar"
           }
          ],
          "scatterpolargl": [
           {
            "marker": {
             "colorbar": {
              "outlinewidth": 0,
              "ticks": ""
             }
            },
            "type": "scatterpolargl"
           }
          ],
          "scatterternary": [
           {
            "marker": {
             "colorbar": {
              "outlinewidth": 0,
              "ticks": ""
             }
            },
            "type": "scatterternary"
           }
          ],
          "surface": [
           {
            "colorbar": {
             "outlinewidth": 0,
             "ticks": ""
            },
            "colorscale": [
             [
              0,
              "#0d0887"
             ],
             [
              0.1111111111111111,
              "#46039f"
             ],
             [
              0.2222222222222222,
              "#7201a8"
             ],
             [
              0.3333333333333333,
              "#9c179e"
             ],
             [
              0.4444444444444444,
              "#bd3786"
             ],
             [
              0.5555555555555556,
              "#d8576b"
             ],
             [
              0.6666666666666666,
              "#ed7953"
             ],
             [
              0.7777777777777778,
              "#fb9f3a"
             ],
             [
              0.8888888888888888,
              "#fdca26"
             ],
             [
              1,
              "#f0f921"
             ]
            ],
            "type": "surface"
           }
          ],
          "table": [
           {
            "cells": {
             "fill": {
              "color": "#EBF0F8"
             },
             "line": {
              "color": "white"
             }
            },
            "header": {
             "fill": {
              "color": "#C8D4E3"
             },
             "line": {
              "color": "white"
             }
            },
            "type": "table"
           }
          ]
         },
         "layout": {
          "annotationdefaults": {
           "arrowcolor": "#2a3f5f",
           "arrowhead": 0,
           "arrowwidth": 1
          },
          "autotypenumbers": "strict",
          "coloraxis": {
           "colorbar": {
            "outlinewidth": 0,
            "ticks": ""
           }
          },
          "colorscale": {
           "diverging": [
            [
             0,
             "#8e0152"
            ],
            [
             0.1,
             "#c51b7d"
            ],
            [
             0.2,
             "#de77ae"
            ],
            [
             0.3,
             "#f1b6da"
            ],
            [
             0.4,
             "#fde0ef"
            ],
            [
             0.5,
             "#f7f7f7"
            ],
            [
             0.6,
             "#e6f5d0"
            ],
            [
             0.7,
             "#b8e186"
            ],
            [
             0.8,
             "#7fbc41"
            ],
            [
             0.9,
             "#4d9221"
            ],
            [
             1,
             "#276419"
            ]
           ],
           "sequential": [
            [
             0,
             "#0d0887"
            ],
            [
             0.1111111111111111,
             "#46039f"
            ],
            [
             0.2222222222222222,
             "#7201a8"
            ],
            [
             0.3333333333333333,
             "#9c179e"
            ],
            [
             0.4444444444444444,
             "#bd3786"
            ],
            [
             0.5555555555555556,
             "#d8576b"
            ],
            [
             0.6666666666666666,
             "#ed7953"
            ],
            [
             0.7777777777777778,
             "#fb9f3a"
            ],
            [
             0.8888888888888888,
             "#fdca26"
            ],
            [
             1,
             "#f0f921"
            ]
           ],
           "sequentialminus": [
            [
             0,
             "#0d0887"
            ],
            [
             0.1111111111111111,
             "#46039f"
            ],
            [
             0.2222222222222222,
             "#7201a8"
            ],
            [
             0.3333333333333333,
             "#9c179e"
            ],
            [
             0.4444444444444444,
             "#bd3786"
            ],
            [
             0.5555555555555556,
             "#d8576b"
            ],
            [
             0.6666666666666666,
             "#ed7953"
            ],
            [
             0.7777777777777778,
             "#fb9f3a"
            ],
            [
             0.8888888888888888,
             "#fdca26"
            ],
            [
             1,
             "#f0f921"
            ]
           ]
          },
          "colorway": [
           "#636efa",
           "#EF553B",
           "#00cc96",
           "#ab63fa",
           "#FFA15A",
           "#19d3f3",
           "#FF6692",
           "#B6E880",
           "#FF97FF",
           "#FECB52"
          ],
          "font": {
           "color": "#2a3f5f"
          },
          "geo": {
           "bgcolor": "white",
           "lakecolor": "white",
           "landcolor": "white",
           "showlakes": true,
           "showland": true,
           "subunitcolor": "#C8D4E3"
          },
          "hoverlabel": {
           "align": "left"
          },
          "hovermode": "closest",
          "mapbox": {
           "style": "light"
          },
          "paper_bgcolor": "white",
          "plot_bgcolor": "white",
          "polar": {
           "angularaxis": {
            "gridcolor": "#EBF0F8",
            "linecolor": "#EBF0F8",
            "ticks": ""
           },
           "bgcolor": "white",
           "radialaxis": {
            "gridcolor": "#EBF0F8",
            "linecolor": "#EBF0F8",
            "ticks": ""
           }
          },
          "scene": {
           "xaxis": {
            "backgroundcolor": "white",
            "gridcolor": "#DFE8F3",
            "gridwidth": 2,
            "linecolor": "#EBF0F8",
            "showbackground": true,
            "ticks": "",
            "zerolinecolor": "#EBF0F8"
           },
           "yaxis": {
            "backgroundcolor": "white",
            "gridcolor": "#DFE8F3",
            "gridwidth": 2,
            "linecolor": "#EBF0F8",
            "showbackground": true,
            "ticks": "",
            "zerolinecolor": "#EBF0F8"
           },
           "zaxis": {
            "backgroundcolor": "white",
            "gridcolor": "#DFE8F3",
            "gridwidth": 2,
            "linecolor": "#EBF0F8",
            "showbackground": true,
            "ticks": "",
            "zerolinecolor": "#EBF0F8"
           }
          },
          "shapedefaults": {
           "line": {
            "color": "#2a3f5f"
           }
          },
          "ternary": {
           "aaxis": {
            "gridcolor": "#DFE8F3",
            "linecolor": "#A2B1C6",
            "ticks": ""
           },
           "baxis": {
            "gridcolor": "#DFE8F3",
            "linecolor": "#A2B1C6",
            "ticks": ""
           },
           "bgcolor": "white",
           "caxis": {
            "gridcolor": "#DFE8F3",
            "linecolor": "#A2B1C6",
            "ticks": ""
           }
          },
          "title": {
           "x": 0.05
          },
          "xaxis": {
           "automargin": true,
           "gridcolor": "#EBF0F8",
           "linecolor": "#EBF0F8",
           "ticks": "",
           "title": {
            "standoff": 15
           },
           "zerolinecolor": "#EBF0F8",
           "zerolinewidth": 2
          },
          "yaxis": {
           "automargin": true,
           "gridcolor": "#EBF0F8",
           "linecolor": "#EBF0F8",
           "ticks": "",
           "title": {
            "standoff": 15
           },
           "zerolinecolor": "#EBF0F8",
           "zerolinewidth": 2
          }
         }
        },
        "title": {
         "text": "Distribution des mois de stock restants",
         "x": 0.5,
         "xanchor": "center",
         "y": 0.95,
         "yanchor": "top"
        },
        "xaxis": {
         "anchor": "y",
         "domain": [
          0,
          1
         ]
        },
        "yaxis": {
         "anchor": "x",
         "domain": [
          0,
          1
         ],
         "title": {
          "text": "Nombre de mois de stock (stock/ventes)"
         }
        }
       }
      }
     },
     "metadata": {},
     "output_type": "display_data"
    }
   ],
   "source": [
    "# Remplacer les valeurs infinies par NaN pour le boxplot\n",
    "df_merge['mois_stock_viz'] = df_merge['mois_stock_restant'].replace([float('inf')], np.nan)\n",
    "\n",
    "# Créer le boxplot pour les mois de stock\n",
    "fig = px.box(df_merge, y='mois_stock_viz',\n",
    "             title='Distribution des mois de stock')\n",
    "\n",
    "# Calculer la médiane (en excluant les valeurs infinies)\n",
    "mois_stock_median = df_merge['mois_stock_viz'].median()\n",
    "\n",
    "# Ajouter une annotation pour la médiane\n",
    "fig.add_annotation(\n",
    "    text=f\"Médiane: {mois_stock_median:.2f} mois\",\n",
    "    x=0.5,\n",
    "    y=mois_stock_median,\n",
    "    xref=\"x domain\",\n",
    "    yref=\"y\",\n",
    "    showarrow=True,\n",
    "    arrowcolor=\"red\",\n",
    "    bgcolor=\"white\",\n",
    "    bordercolor=\"black\",\n",
    "    borderwidth=1\n",
    ")\n",
    "\n",
    "fig.update_layout(\n",
    "    title={\n",
    "        'text': 'Distribution des mois de stock restants',\n",
    "        'y': 0.95, 'x': 0.5, 'xanchor': 'center', 'yanchor': 'top'\n",
    "    },\n",
    "    yaxis_title=\"Nombre de mois de stock (stock/ventes)\",\n",
    "    template=\"plotly_white\"\n",
    ")"
   ]
  },
  {
   "cell_type": "code",
   "execution_count": 61,
   "id": "07dfab9e",
   "metadata": {},
   "outputs": [
    {
     "name": "stdout",
     "output_type": "stream",
     "text": [
      "Médiane du taux de rotation par produit : 0.400 rotation par mois\n",
      "Médiane des mois de stock par produit : 2.40 mois\n"
     ]
    }
   ],
   "source": [
    "#Calcul de la rotation des stocks (ventes/stock) par produit\n",
    "rotations = []\n",
    "for i in range(len(df_merge)):\n",
    "    if df_merge['stock_quantity'].iloc[i] > 0:\n",
    "        rotations.append(df_merge['total_sales'].iloc[i] / df_merge['stock_quantity'].iloc[i])\n",
    "    else:\n",
    "        rotations.append(np.nan)  # Exclure les divisions par zéro\n",
    "\n",
    "# Ajouter les rotations au DataFrame\n",
    "df_merge['rotation_par_produit'] = rotations\n",
    "\n",
    "# Médiane de la rotation par produit\n",
    "rotation_mediane = df_merge['rotation_par_produit'].median()\n",
    "print(\"Médiane du taux de rotation par produit : {:.3f} rotation par mois\".format(rotation_mediane))\n",
    "\n",
    "#Calcul des mois de stock (stock/ventes) par produit\n",
    "mois_stock = []\n",
    "for i in range(len(df_merge)):\n",
    "    if df_merge['total_sales'].iloc[i] > 0:\n",
    "        mois_stock.append(df_merge['stock_quantity'].iloc[i] / df_merge['total_sales'].iloc[i])\n",
    "    else:\n",
    "        mois_stock.append(np.nan)  # Exclure les divisions par zéro\n",
    "\n",
    "# Ajouter les mois de stock au DataFrame\n",
    "df_merge['mois_stock_par_produit'] = mois_stock\n",
    "\n",
    "# Médiane des mois de stock par produit\n",
    "mois_stock_median = df_merge['mois_stock_par_produit'].median()\n",
    "print(\"Médiane des mois de stock par produit : {:.2f} mois\".format(mois_stock_median))"
   ]
  },
  {
   "cell_type": "code",
   "execution_count": 62,
   "id": "881180c8",
   "metadata": {},
   "outputs": [
    {
     "data": {
      "application/vnd.plotly.v1+json": {
       "config": {
        "plotlyServerURL": "https://plot.ly"
       },
       "data": [
        {
         "alignmentgroup": "True",
         "hovertemplate": "rotation_par_produit=%{y}<extra></extra>",
         "legendgroup": "",
         "marker": {
          "color": "#636efa"
         },
         "name": "",
         "notched": false,
         "offsetgroup": "",
         "orientation": "v",
         "showlegend": false,
         "type": "box",
         "x0": " ",
         "xaxis": "x",
         "y": [
          0.2975206611570248,
          0.36486486486486486,
          0.3870967741935484,
          0.4888888888888889,
          null,
          0.5882352941176471,
          0.29411764705882354,
          0.375,
          0.29310344827586204,
          0.3617021276595745,
          0.38636363636363635,
          0.35555555555555557,
          0.3137254901960784,
          0.2962962962962963,
          0.47058823529411764,
          0.48484848484848486,
          0.3137254901960784,
          null,
          0.35714285714285715,
          0.4166666666666667,
          0.3,
          0.29411764705882354,
          0.375,
          0.3125,
          0.42857142857142855,
          0.5,
          0.3409090909090909,
          null,
          0.3488372093023256,
          0.28846153846153844,
          0.30612244897959184,
          0.375,
          0.29411764705882354,
          0.3125,
          0.35714285714285715,
          0.35,
          0.3111111111111111,
          0.3783783783783784,
          0.4827586206896552,
          0.35,
          0.4827586206896552,
          0.4666666666666667,
          0.30434782608695654,
          0.3684210526315789,
          0.2857142857142857,
          0.11023622047244094,
          0.3111111111111111,
          null,
          0.42424242424242425,
          0.2978723404255319,
          0.48148148148148145,
          0.41935483870967744,
          0.40625,
          0.41935483870967744,
          0.3023255813953488,
          0.5,
          0.48148148148148145,
          0.4482758620689655,
          0.4642857142857143,
          0.41935483870967744,
          0.3170731707317073,
          0.3333333333333333,
          0.3611111111111111,
          0.325,
          0.40625,
          0.40625,
          0.3333333333333333,
          0.30952380952380953,
          0.28888888888888886,
          0.41935483870967744,
          0.48148148148148145,
          0.30952380952380953,
          0.3023255813953488,
          0.325,
          0.34210526315789475,
          0.29545454545454547,
          0.5,
          0.37142857142857144,
          0.38235294117647056,
          0.3333333333333333,
          0.37142857142857144,
          0.3023255813953488,
          0.3611111111111111,
          0.3333333333333333,
          0.40625,
          0.3333333333333333,
          0.41935483870967744,
          0.37142857142857144,
          0.4642857142857143,
          0.3170731707317073,
          0.28888888888888886,
          0.5,
          0.3023255813953488,
          0.3076923076923077,
          0.48,
          0.2857142857142857,
          0.4444444444444444,
          0.375,
          0.5,
          0.2857142857142857,
          0.5454545454545454,
          0.4,
          0.3870967741935484,
          0.3076923076923077,
          0.4,
          0.3333333333333333,
          0.48,
          0.2857142857142857,
          0.2857142857142857,
          0.4,
          0.46153846153846156,
          0.3870967741935484,
          0.2857142857142857,
          0.2926829268292683,
          0.32432432432432434,
          0.42857142857142855,
          0.41379310344827586,
          0.34285714285714286,
          0.41379310344827586,
          0.34285714285714286,
          0.36363636363636365,
          0.375,
          0.35294117647058826,
          0.3870967741935484,
          0.42857142857142855,
          0.32432432432432434,
          0.375,
          0.46153846153846156,
          0.34285714285714286,
          0.375,
          0.46153846153846156,
          0.3333333333333333,
          0.35294117647058826,
          0.3157894736842105,
          0.36363636363636365,
          0.4,
          0.2926829268292683,
          0.3157894736842105,
          0.3,
          0.4,
          0.3333333333333333,
          0.3157894736842105,
          0.2894736842105263,
          0.4583333333333333,
          0.4583333333333333,
          0.4782608695652174,
          0.39285714285714285,
          0.3142857142857143,
          0.34375,
          0.39285714285714285,
          0.3055555555555556,
          0.2894736842105263,
          0.2894736842105263,
          0.3548387096774194,
          0.3142857142857143,
          0.4782608695652174,
          0.3235294117647059,
          0.3548387096774194,
          0.3793103448275862,
          0.34375,
          0.3055555555555556,
          0.36666666666666664,
          0.36666666666666664,
          0.4230769230769231,
          0.2894736842105263,
          0.4583333333333333,
          0.34375,
          0.3142857142857143,
          0.4782608695652174,
          0.3333333333333333,
          0.4782608695652174,
          0.2894736842105263,
          0.3793103448275862,
          0.34375,
          0.3793103448275862,
          0.4230769230769231,
          0.4583333333333333,
          0.3333333333333333,
          0.3333333333333333,
          0.4583333333333333,
          0.3793103448275862,
          0.39285714285714285,
          0.4782608695652174,
          0.39285714285714285,
          null,
          0.2894736842105263,
          0.39285714285714285,
          0.3235294117647059,
          0.4074074074074074,
          0.3793103448275862,
          0.3142857142857143,
          0.4782608695652174,
          0.39285714285714285,
          0.35714285714285715,
          0.43478260869565216,
          0.37037037037037035,
          0.3125,
          0.37037037037037035,
          0.47619047619047616,
          0.43478260869565216,
          0.4,
          0.43478260869565216,
          0.29411764705882354,
          0.45454545454545453,
          0.45454545454545453,
          null,
          0.3448275862068966,
          0.4166666666666667,
          0.30303030303030304,
          0.4,
          0.3225806451612903,
          0.08,
          0.3448275862068966,
          0.38461538461538464,
          0.29411764705882354,
          0.45454545454545453,
          0.3125,
          null,
          0.2857142857142857,
          0.3125,
          0.29411764705882354,
          0.45454545454545453,
          0.4166666666666667,
          0.5263157894736842,
          0.29411764705882354,
          0.3125,
          0.30303030303030304,
          0.7142857142857143,
          0.5263157894736842,
          1.4285714285714286,
          0.4166666666666667,
          0.9090909090909091,
          0.4166666666666667,
          0.3125,
          0.47619047619047616,
          0.625,
          0.3448275862068966,
          0.45454545454545453,
          0.37037037037037035,
          0.43478260869565216,
          0.43478260869565216,
          0.38461538461538464,
          0.6666666666666666,
          0.3225806451612903,
          0.47619047619047616,
          0.43478260869565216,
          0.47619047619047616,
          0.2857142857142857,
          0.35714285714285715,
          0.38461538461538464,
          0.37037037037037035,
          0.37037037037037035,
          0.35714285714285715,
          0.3333333333333333,
          0.3125,
          0.3125,
          0.35714285714285715,
          0.43478260869565216,
          0.3103448275862069,
          0.6428571428571429,
          0.36,
          0.5294117647058824,
          0.36,
          0.3103448275862069,
          0.45,
          0.5294117647058824,
          0.42857142857142855,
          0.3103448275862069,
          0.4090909090909091,
          0.32142857142857145,
          null,
          0.9,
          0.9,
          0.36,
          0.375,
          0.45,
          0.4090909090909091,
          0.32142857142857145,
          0.6428571428571429,
          0.42857142857142855,
          0.3333333333333333,
          0.75,
          0.3103448275862069,
          0.75,
          0.9,
          0.3103448275862069,
          0.3,
          0.36,
          0.3,
          0.391304347826087,
          0.4090909090909091,
          0.75,
          0.32142857142857145,
          0.34615384615384615,
          1,
          null,
          0.3,
          0.3103448275862069,
          0.36,
          0.5,
          0.2903225806451613,
          0.3,
          0.3,
          0.2903225806451613,
          0.32142857142857145,
          0.75,
          0.3,
          0.375,
          null,
          0.375,
          0.3103448275862069,
          0.3,
          0.391304347826087,
          0.45,
          0.47368421052631576,
          0.47368421052631576,
          0.3,
          0.5294117647058824,
          0.3103448275862069,
          0.36,
          0.45,
          0.0891089108910891,
          0.391304347826087,
          0.45,
          0.32142857142857145,
          0.2903225806451613,
          0.47368421052631576,
          0.45,
          0.34782608695652173,
          0.2962962962962963,
          0.2962962962962963,
          0.42105263157894735,
          0.7272727272727273,
          0.5,
          0.6666666666666666,
          0.3076923076923077,
          0.2962962962962963,
          0.2962962962962963,
          0.34782608695652173,
          0.5,
          0.8,
          0.42105263157894735,
          0.8888888888888888,
          0.38095238095238093,
          0.5333333333333333,
          0.3076923076923077,
          null,
          0.8888888888888888,
          0.6666666666666666,
          0.4444444444444444,
          0.47058823529411764,
          0.06504065040650407,
          0.34782608695652173,
          0.7272727272727273,
          0.5333333333333333,
          0.5333333333333333,
          0.3076923076923077,
          0.5333333333333333,
          0.47058823529411764,
          0.3076923076923077,
          0.10526315789473684,
          0.5,
          0.6666666666666666,
          0.38095238095238093,
          0.4444444444444444,
          0.5714285714285714,
          null,
          0.2962962962962963,
          0.3333333333333333,
          0.4444444444444444,
          0.5,
          0.32,
          null,
          0.3333333333333333,
          0.4,
          0.3076923076923077,
          0.4444444444444444,
          0.6666666666666666,
          0.5,
          0.34782608695652173,
          0.32,
          1,
          0.6666666666666666,
          0.4444444444444444,
          0.42105263157894735,
          0.08,
          0.6666666666666666,
          0.09876543209876543,
          0.7777777777777778,
          0.7,
          0.3888888888888889,
          0.4666666666666667,
          0.2916666666666667,
          0.30434782608695654,
          0.5833333333333334,
          0.30434782608695654,
          0.4666666666666667,
          0.3333333333333333,
          0.7,
          0.4375,
          0.7777777777777778,
          1,
          0.30434782608695654,
          0.4375,
          0.4666666666666667,
          0.04929577464788732,
          0.30434782608695654,
          0.3333333333333333,
          0.4666666666666667,
          0.5384615384615384,
          0.35,
          0.4375,
          0.875,
          0.2916666666666667,
          0.30434782608695654,
          0.7777777777777778,
          0.4666666666666667,
          0.6363636363636364,
          0.30434782608695654,
          0.6363636363636364,
          0.04827586206896552,
          0.2916666666666667,
          0.30434782608695654,
          0.4666666666666667,
          0.4375,
          0.4375,
          0.3888888888888889,
          0.5833333333333334,
          0.5,
          0.3333333333333333,
          0.3888888888888889,
          0.7,
          0.5384615384615384,
          0.30434782608695654,
          1,
          0.5384615384615384,
          0.35,
          null,
          0.3181818181818182,
          0.3333333333333333,
          0.4375,
          0.4375,
          0.3684210526315789,
          0.4666666666666667,
          0.5,
          0.2916666666666667,
          0.30434782608695654,
          0.4666666666666667,
          0.2916666666666667,
          0.4117647058823529,
          0.35,
          0.3333333333333333,
          0.3684210526315789,
          0.5384615384615384,
          0.3181818181818182,
          0.0625,
          0.2916666666666667,
          0.6,
          0.04411764705882353,
          0.3333333333333333,
          0.375,
          0.6666666666666666,
          0.5,
          0.5454545454545454,
          0.46153846153846156,
          0.42857142857142855,
          0.5454545454545454,
          0.6,
          0.04878048780487805,
          0.6666666666666666,
          0.42857142857142855,
          0.3333333333333333,
          0.46153846153846156,
          0.0759493670886076,
          0.6,
          0.8571428571428571,
          0.3333333333333333,
          0.75,
          null,
          null,
          0.375,
          0.5,
          0.3157894736842105,
          0.06,
          0.6666666666666666,
          1,
          0.375,
          0.8571428571428571,
          0.75,
          0.6,
          0.375,
          0.8571428571428571,
          0.35294117647058826,
          0.0821917808219178,
          0.8571428571428571,
          0.5454545454545454,
          0.35294117647058826,
          0.5454545454545454,
          0.35294117647058826,
          0.06976744186046512,
          0.5,
          0.6666666666666666,
          0.6,
          0.061224489795918366,
          0.375,
          0.5454545454545454,
          0.8571428571428571,
          0.46153846153846156,
          1,
          0.05825242718446602,
          0.5,
          0.75,
          0.42857142857142855,
          0.8571428571428571,
          null,
          0.043478260869565216,
          0.625,
          0.7142857142857143,
          0.7142857142857143,
          0.5555555555555556,
          0.625,
          0.4166666666666667,
          0.5,
          0.3333333333333333,
          0.5555555555555556,
          0.7142857142857143,
          0.625,
          0.8333333333333334,
          1,
          0.7142857142857143,
          0.7142857142857143,
          1,
          0.3333333333333333,
          0.3125,
          0.8333333333333334,
          0.4166666666666667,
          0.04,
          0.625,
          0.7142857142857143,
          0.036231884057971016,
          0.7142857142857143,
          null,
          0.5555555555555556,
          0.5555555555555556,
          0.3333333333333333,
          0.35714285714285715,
          0.5,
          0.38461538461538464,
          0.3333333333333333,
          0.04950495049504951,
          0.625,
          0.3125,
          0.35714285714285715,
          0.3333333333333333,
          null,
          0.35714285714285715,
          0.5,
          0.45454545454545453,
          0.625,
          0.5,
          1,
          0.29411764705882354,
          0.625,
          0.4166666666666667,
          0.7142857142857143,
          0.3125,
          0.35714285714285715,
          0.7142857142857143,
          0.8,
          0.5714285714285714,
          0.04395604395604396,
          0.6666666666666666,
          0.5,
          0.2857142857142857,
          0.3333333333333333,
          0.5714285714285714,
          1,
          0.8,
          0.8,
          0.6666666666666666,
          0.5,
          0.8,
          null,
          0.5714285714285714,
          0.5714285714285714,
          0.6666666666666666,
          0.6666666666666666,
          0.6666666666666666,
          0.8,
          0.5,
          0.5,
          0.6666666666666666,
          1,
          0.3076923076923077,
          0.5714285714285714,
          0.5714285714285714,
          0.5714285714285714,
          0.8,
          0.5,
          null,
          0.3333333333333333,
          0.5714285714285714,
          0.6666666666666666,
          0.5714285714285714,
          0.5,
          0.23529411764705882,
          0.3333333333333333,
          0.3333333333333333,
          0.5714285714285714,
          0.6666666666666666,
          0.032,
          0.8,
          0.5714285714285714,
          1,
          0.3,
          0.5,
          0.75,
          0.3,
          1,
          0.2727272727272727,
          0.5,
          0.75,
          0.75,
          1,
          0.3333333333333333,
          0.6,
          0.6,
          0.75,
          1,
          0.037037037037037035,
          0.2,
          0.25,
          0.6,
          0.5,
          0.3333333333333333,
          0.75,
          0.6,
          0.6,
          1,
          0.25,
          0.75,
          1,
          0.5,
          0.75,
          0.6,
          0.6,
          0.5,
          0.6,
          0.5,
          0.75,
          0.6,
          0.6,
          0.75,
          0.6,
          0.04225352112676056,
          0.6666666666666666,
          1,
          0.5,
          0.16666666666666666,
          0.5,
          0.14285714285714285,
          1,
          1,
          1,
          0.4,
          0.5,
          null,
          0.5,
          0.6666666666666666,
          0.5,
          0.5,
          0.1111111111111111,
          0.6666666666666666,
          0.5,
          0.6666666666666666,
          0.5,
          0.3333333333333333,
          1,
          0.5,
          1,
          0.05263157894736842,
          0.08333333333333333,
          1,
          1,
          1,
          null,
          0.05555555555555555,
          null,
          null,
          null,
          null,
          0,
          null,
          null,
          null,
          null,
          null,
          null,
          null,
          null,
          0,
          null,
          null,
          0,
          null,
          null,
          null,
          null,
          null,
          null,
          null,
          null,
          null,
          null,
          null,
          null,
          null,
          null,
          null,
          null,
          null,
          null,
          null,
          null,
          null,
          null,
          null,
          null,
          null,
          null,
          null,
          null,
          null,
          null,
          null,
          null,
          null,
          null,
          null,
          null,
          null,
          null,
          null,
          null,
          null,
          null,
          null,
          null,
          null,
          null,
          null,
          null,
          null,
          null,
          null,
          null,
          null,
          null,
          null,
          null,
          null,
          null,
          null,
          null,
          null,
          null,
          null,
          null,
          null,
          null,
          null,
          null,
          null,
          null,
          null,
          null,
          null,
          null,
          null,
          null,
          null,
          null,
          null,
          null,
          null,
          null,
          null,
          null,
          null,
          null,
          null,
          null,
          null,
          null,
          null,
          null,
          null,
          null,
          null,
          null,
          null,
          null,
          null,
          null,
          null,
          null,
          null,
          null,
          null,
          null,
          null,
          null,
          null,
          null,
          null,
          null,
          null,
          null,
          null,
          null,
          null,
          null,
          null,
          null,
          null
         ],
         "y0": " ",
         "yaxis": "y"
        }
       ],
       "layout": {
        "annotations": [
         {
          "arrowcolor": "red",
          "arrowhead": 2,
          "arrowsize": 1,
          "arrowwidth": 2,
          "bgcolor": "white",
          "bordercolor": "black",
          "borderwidth": 1,
          "showarrow": true,
          "text": "Médiane: 0.400",
          "x": 0,
          "xanchor": "left",
          "xref": "x domain",
          "y": 0.4,
          "yref": "y"
         }
        ],
        "boxmode": "group",
        "legend": {
         "tracegroupgap": 0
        },
        "template": {
         "data": {
          "bar": [
           {
            "error_x": {
             "color": "#2a3f5f"
            },
            "error_y": {
             "color": "#2a3f5f"
            },
            "marker": {
             "line": {
              "color": "white",
              "width": 0.5
             },
             "pattern": {
              "fillmode": "overlay",
              "size": 10,
              "solidity": 0.2
             }
            },
            "type": "bar"
           }
          ],
          "barpolar": [
           {
            "marker": {
             "line": {
              "color": "white",
              "width": 0.5
             },
             "pattern": {
              "fillmode": "overlay",
              "size": 10,
              "solidity": 0.2
             }
            },
            "type": "barpolar"
           }
          ],
          "carpet": [
           {
            "aaxis": {
             "endlinecolor": "#2a3f5f",
             "gridcolor": "#C8D4E3",
             "linecolor": "#C8D4E3",
             "minorgridcolor": "#C8D4E3",
             "startlinecolor": "#2a3f5f"
            },
            "baxis": {
             "endlinecolor": "#2a3f5f",
             "gridcolor": "#C8D4E3",
             "linecolor": "#C8D4E3",
             "minorgridcolor": "#C8D4E3",
             "startlinecolor": "#2a3f5f"
            },
            "type": "carpet"
           }
          ],
          "choropleth": [
           {
            "colorbar": {
             "outlinewidth": 0,
             "ticks": ""
            },
            "type": "choropleth"
           }
          ],
          "contour": [
           {
            "colorbar": {
             "outlinewidth": 0,
             "ticks": ""
            },
            "colorscale": [
             [
              0,
              "#0d0887"
             ],
             [
              0.1111111111111111,
              "#46039f"
             ],
             [
              0.2222222222222222,
              "#7201a8"
             ],
             [
              0.3333333333333333,
              "#9c179e"
             ],
             [
              0.4444444444444444,
              "#bd3786"
             ],
             [
              0.5555555555555556,
              "#d8576b"
             ],
             [
              0.6666666666666666,
              "#ed7953"
             ],
             [
              0.7777777777777778,
              "#fb9f3a"
             ],
             [
              0.8888888888888888,
              "#fdca26"
             ],
             [
              1,
              "#f0f921"
             ]
            ],
            "type": "contour"
           }
          ],
          "contourcarpet": [
           {
            "colorbar": {
             "outlinewidth": 0,
             "ticks": ""
            },
            "type": "contourcarpet"
           }
          ],
          "heatmap": [
           {
            "colorbar": {
             "outlinewidth": 0,
             "ticks": ""
            },
            "colorscale": [
             [
              0,
              "#0d0887"
             ],
             [
              0.1111111111111111,
              "#46039f"
             ],
             [
              0.2222222222222222,
              "#7201a8"
             ],
             [
              0.3333333333333333,
              "#9c179e"
             ],
             [
              0.4444444444444444,
              "#bd3786"
             ],
             [
              0.5555555555555556,
              "#d8576b"
             ],
             [
              0.6666666666666666,
              "#ed7953"
             ],
             [
              0.7777777777777778,
              "#fb9f3a"
             ],
             [
              0.8888888888888888,
              "#fdca26"
             ],
             [
              1,
              "#f0f921"
             ]
            ],
            "type": "heatmap"
           }
          ],
          "heatmapgl": [
           {
            "colorbar": {
             "outlinewidth": 0,
             "ticks": ""
            },
            "colorscale": [
             [
              0,
              "#0d0887"
             ],
             [
              0.1111111111111111,
              "#46039f"
             ],
             [
              0.2222222222222222,
              "#7201a8"
             ],
             [
              0.3333333333333333,
              "#9c179e"
             ],
             [
              0.4444444444444444,
              "#bd3786"
             ],
             [
              0.5555555555555556,
              "#d8576b"
             ],
             [
              0.6666666666666666,
              "#ed7953"
             ],
             [
              0.7777777777777778,
              "#fb9f3a"
             ],
             [
              0.8888888888888888,
              "#fdca26"
             ],
             [
              1,
              "#f0f921"
             ]
            ],
            "type": "heatmapgl"
           }
          ],
          "histogram": [
           {
            "marker": {
             "pattern": {
              "fillmode": "overlay",
              "size": 10,
              "solidity": 0.2
             }
            },
            "type": "histogram"
           }
          ],
          "histogram2d": [
           {
            "colorbar": {
             "outlinewidth": 0,
             "ticks": ""
            },
            "colorscale": [
             [
              0,
              "#0d0887"
             ],
             [
              0.1111111111111111,
              "#46039f"
             ],
             [
              0.2222222222222222,
              "#7201a8"
             ],
             [
              0.3333333333333333,
              "#9c179e"
             ],
             [
              0.4444444444444444,
              "#bd3786"
             ],
             [
              0.5555555555555556,
              "#d8576b"
             ],
             [
              0.6666666666666666,
              "#ed7953"
             ],
             [
              0.7777777777777778,
              "#fb9f3a"
             ],
             [
              0.8888888888888888,
              "#fdca26"
             ],
             [
              1,
              "#f0f921"
             ]
            ],
            "type": "histogram2d"
           }
          ],
          "histogram2dcontour": [
           {
            "colorbar": {
             "outlinewidth": 0,
             "ticks": ""
            },
            "colorscale": [
             [
              0,
              "#0d0887"
             ],
             [
              0.1111111111111111,
              "#46039f"
             ],
             [
              0.2222222222222222,
              "#7201a8"
             ],
             [
              0.3333333333333333,
              "#9c179e"
             ],
             [
              0.4444444444444444,
              "#bd3786"
             ],
             [
              0.5555555555555556,
              "#d8576b"
             ],
             [
              0.6666666666666666,
              "#ed7953"
             ],
             [
              0.7777777777777778,
              "#fb9f3a"
             ],
             [
              0.8888888888888888,
              "#fdca26"
             ],
             [
              1,
              "#f0f921"
             ]
            ],
            "type": "histogram2dcontour"
           }
          ],
          "mesh3d": [
           {
            "colorbar": {
             "outlinewidth": 0,
             "ticks": ""
            },
            "type": "mesh3d"
           }
          ],
          "parcoords": [
           {
            "line": {
             "colorbar": {
              "outlinewidth": 0,
              "ticks": ""
             }
            },
            "type": "parcoords"
           }
          ],
          "pie": [
           {
            "automargin": true,
            "type": "pie"
           }
          ],
          "scatter": [
           {
            "fillpattern": {
             "fillmode": "overlay",
             "size": 10,
             "solidity": 0.2
            },
            "type": "scatter"
           }
          ],
          "scatter3d": [
           {
            "line": {
             "colorbar": {
              "outlinewidth": 0,
              "ticks": ""
             }
            },
            "marker": {
             "colorbar": {
              "outlinewidth": 0,
              "ticks": ""
             }
            },
            "type": "scatter3d"
           }
          ],
          "scattercarpet": [
           {
            "marker": {
             "colorbar": {
              "outlinewidth": 0,
              "ticks": ""
             }
            },
            "type": "scattercarpet"
           }
          ],
          "scattergeo": [
           {
            "marker": {
             "colorbar": {
              "outlinewidth": 0,
              "ticks": ""
             }
            },
            "type": "scattergeo"
           }
          ],
          "scattergl": [
           {
            "marker": {
             "colorbar": {
              "outlinewidth": 0,
              "ticks": ""
             }
            },
            "type": "scattergl"
           }
          ],
          "scattermapbox": [
           {
            "marker": {
             "colorbar": {
              "outlinewidth": 0,
              "ticks": ""
             }
            },
            "type": "scattermapbox"
           }
          ],
          "scatterpolar": [
           {
            "marker": {
             "colorbar": {
              "outlinewidth": 0,
              "ticks": ""
             }
            },
            "type": "scatterpolar"
           }
          ],
          "scatterpolargl": [
           {
            "marker": {
             "colorbar": {
              "outlinewidth": 0,
              "ticks": ""
             }
            },
            "type": "scatterpolargl"
           }
          ],
          "scatterternary": [
           {
            "marker": {
             "colorbar": {
              "outlinewidth": 0,
              "ticks": ""
             }
            },
            "type": "scatterternary"
           }
          ],
          "surface": [
           {
            "colorbar": {
             "outlinewidth": 0,
             "ticks": ""
            },
            "colorscale": [
             [
              0,
              "#0d0887"
             ],
             [
              0.1111111111111111,
              "#46039f"
             ],
             [
              0.2222222222222222,
              "#7201a8"
             ],
             [
              0.3333333333333333,
              "#9c179e"
             ],
             [
              0.4444444444444444,
              "#bd3786"
             ],
             [
              0.5555555555555556,
              "#d8576b"
             ],
             [
              0.6666666666666666,
              "#ed7953"
             ],
             [
              0.7777777777777778,
              "#fb9f3a"
             ],
             [
              0.8888888888888888,
              "#fdca26"
             ],
             [
              1,
              "#f0f921"
             ]
            ],
            "type": "surface"
           }
          ],
          "table": [
           {
            "cells": {
             "fill": {
              "color": "#EBF0F8"
             },
             "line": {
              "color": "white"
             }
            },
            "header": {
             "fill": {
              "color": "#C8D4E3"
             },
             "line": {
              "color": "white"
             }
            },
            "type": "table"
           }
          ]
         },
         "layout": {
          "annotationdefaults": {
           "arrowcolor": "#2a3f5f",
           "arrowhead": 0,
           "arrowwidth": 1
          },
          "autotypenumbers": "strict",
          "coloraxis": {
           "colorbar": {
            "outlinewidth": 0,
            "ticks": ""
           }
          },
          "colorscale": {
           "diverging": [
            [
             0,
             "#8e0152"
            ],
            [
             0.1,
             "#c51b7d"
            ],
            [
             0.2,
             "#de77ae"
            ],
            [
             0.3,
             "#f1b6da"
            ],
            [
             0.4,
             "#fde0ef"
            ],
            [
             0.5,
             "#f7f7f7"
            ],
            [
             0.6,
             "#e6f5d0"
            ],
            [
             0.7,
             "#b8e186"
            ],
            [
             0.8,
             "#7fbc41"
            ],
            [
             0.9,
             "#4d9221"
            ],
            [
             1,
             "#276419"
            ]
           ],
           "sequential": [
            [
             0,
             "#0d0887"
            ],
            [
             0.1111111111111111,
             "#46039f"
            ],
            [
             0.2222222222222222,
             "#7201a8"
            ],
            [
             0.3333333333333333,
             "#9c179e"
            ],
            [
             0.4444444444444444,
             "#bd3786"
            ],
            [
             0.5555555555555556,
             "#d8576b"
            ],
            [
             0.6666666666666666,
             "#ed7953"
            ],
            [
             0.7777777777777778,
             "#fb9f3a"
            ],
            [
             0.8888888888888888,
             "#fdca26"
            ],
            [
             1,
             "#f0f921"
            ]
           ],
           "sequentialminus": [
            [
             0,
             "#0d0887"
            ],
            [
             0.1111111111111111,
             "#46039f"
            ],
            [
             0.2222222222222222,
             "#7201a8"
            ],
            [
             0.3333333333333333,
             "#9c179e"
            ],
            [
             0.4444444444444444,
             "#bd3786"
            ],
            [
             0.5555555555555556,
             "#d8576b"
            ],
            [
             0.6666666666666666,
             "#ed7953"
            ],
            [
             0.7777777777777778,
             "#fb9f3a"
            ],
            [
             0.8888888888888888,
             "#fdca26"
            ],
            [
             1,
             "#f0f921"
            ]
           ]
          },
          "colorway": [
           "#636efa",
           "#EF553B",
           "#00cc96",
           "#ab63fa",
           "#FFA15A",
           "#19d3f3",
           "#FF6692",
           "#B6E880",
           "#FF97FF",
           "#FECB52"
          ],
          "font": {
           "color": "#2a3f5f"
          },
          "geo": {
           "bgcolor": "white",
           "lakecolor": "white",
           "landcolor": "white",
           "showlakes": true,
           "showland": true,
           "subunitcolor": "#C8D4E3"
          },
          "hoverlabel": {
           "align": "left"
          },
          "hovermode": "closest",
          "mapbox": {
           "style": "light"
          },
          "paper_bgcolor": "white",
          "plot_bgcolor": "white",
          "polar": {
           "angularaxis": {
            "gridcolor": "#EBF0F8",
            "linecolor": "#EBF0F8",
            "ticks": ""
           },
           "bgcolor": "white",
           "radialaxis": {
            "gridcolor": "#EBF0F8",
            "linecolor": "#EBF0F8",
            "ticks": ""
           }
          },
          "scene": {
           "xaxis": {
            "backgroundcolor": "white",
            "gridcolor": "#DFE8F3",
            "gridwidth": 2,
            "linecolor": "#EBF0F8",
            "showbackground": true,
            "ticks": "",
            "zerolinecolor": "#EBF0F8"
           },
           "yaxis": {
            "backgroundcolor": "white",
            "gridcolor": "#DFE8F3",
            "gridwidth": 2,
            "linecolor": "#EBF0F8",
            "showbackground": true,
            "ticks": "",
            "zerolinecolor": "#EBF0F8"
           },
           "zaxis": {
            "backgroundcolor": "white",
            "gridcolor": "#DFE8F3",
            "gridwidth": 2,
            "linecolor": "#EBF0F8",
            "showbackground": true,
            "ticks": "",
            "zerolinecolor": "#EBF0F8"
           }
          },
          "shapedefaults": {
           "line": {
            "color": "#2a3f5f"
           }
          },
          "ternary": {
           "aaxis": {
            "gridcolor": "#DFE8F3",
            "linecolor": "#A2B1C6",
            "ticks": ""
           },
           "baxis": {
            "gridcolor": "#DFE8F3",
            "linecolor": "#A2B1C6",
            "ticks": ""
           },
           "bgcolor": "white",
           "caxis": {
            "gridcolor": "#DFE8F3",
            "linecolor": "#A2B1C6",
            "ticks": ""
           }
          },
          "title": {
           "x": 0.05
          },
          "xaxis": {
           "automargin": true,
           "gridcolor": "#EBF0F8",
           "linecolor": "#EBF0F8",
           "ticks": "",
           "title": {
            "standoff": 15
           },
           "zerolinecolor": "#EBF0F8",
           "zerolinewidth": 2
          },
          "yaxis": {
           "automargin": true,
           "gridcolor": "#EBF0F8",
           "linecolor": "#EBF0F8",
           "ticks": "",
           "title": {
            "standoff": 15
           },
           "zerolinecolor": "#EBF0F8",
           "zerolinewidth": 2
          }
         }
        },
        "title": {
         "text": "Distribution du taux de rotation des stocks",
         "x": 0.5,
         "xanchor": "center",
         "y": 0.95,
         "yanchor": "top"
        },
        "xaxis": {
         "anchor": "y",
         "domain": [
          0,
          1
         ]
        },
        "yaxis": {
         "anchor": "x",
         "domain": [
          0,
          1
         ],
         "title": {
          "text": "Taux de rotation (ventes/stock)"
         }
        }
       }
      }
     },
     "metadata": {},
     "output_type": "display_data"
    }
   ],
   "source": [
    "#Créer le boxplot pour la rotation des stocks\n",
    "fig1 = px.box(df_merge, y='rotation_par_produit',\n",
    "             title='Distribution du taux de rotation des stocks')\n",
    "\n",
    "fig1.update_layout(\n",
    "    title={\n",
    "        'text': 'Distribution du taux de rotation des stocks',\n",
    "        'y': 0.95, 'x': 0.5, 'xanchor': 'center', 'yanchor': 'top'\n",
    "    },\n",
    "    yaxis_title=\"Taux de rotation (ventes/stock)\",\n",
    "    template=\"plotly_white\"\n",
    ")\n",
    "# Calculer la médiane\n",
    "rotation_mediane = df_merge['rotation_par_produit'].median()\n",
    "\n",
    "# Ajouter une annotation pour la médiane\n",
    "fig1.add_annotation(\n",
    "    text=f\"Médiane: {rotation_mediane:.3f}\",\n",
    "    x=0,  # Position horizontale\n",
    "    y=rotation_mediane,  # Position verticale (au niveau de la médiane)\n",
    "    xref=\"x domain\",\n",
    "    yref=\"y\",\n",
    "    xanchor=\"left\",\n",
    "    showarrow=True,\n",
    "    arrowhead=2,\n",
    "    arrowcolor=\"red\",\n",
    "    arrowsize=1,\n",
    "    arrowwidth=2,\n",
    "    bgcolor=\"white\",\n",
    "    bordercolor=\"black\",\n",
    "    borderwidth=1\n",
    ")\n"
   ]
  },
  {
   "cell_type": "markdown",
   "id": "9e48f6dc",
   "metadata": {},
   "source": [
    "<div style=\"border: 1px solid RGB(51,165,182);\" >\n",
    "<h3 style=\"margin: auto; padding: 20px; color: RGB(51,165,182); \">Etape 5.4 - Analyse du taux de marge</h3>\n",
    "</div>"
   ]
  },
  {
   "cell_type": "code",
   "execution_count": 63,
   "id": "7de5ca46",
   "metadata": {},
   "outputs": [
    {
     "name": "stdout",
     "output_type": "stream",
     "text": [
      "Taux de marge minimum : -634.99%\n",
      "Taux de marge maximum : 47.76%\n"
     ]
    }
   ],
   "source": [
    "############################\n",
    "# Analyse du taux de marge #\n",
    "############################\n",
    "\n",
    "#Création de la colonne prix HT\n",
    "\n",
    "df_merge['prix_ht'] = df_merge['price'] / 1.20\n",
    "\n",
    "#Création de la colonne Taux de marge\n",
    "\n",
    "df_merge['taux_marge'] = ((df_merge['prix_ht'] - df_merge['purchase_price']) / df_merge['prix_ht']) * 100\n",
    "\n",
    "#Afficher le prix minimum de la colonne \"taux_marge\"\n",
    "\n",
    "print(\"Taux de marge minimum : {:.2f}%\".format(df_merge['taux_marge'].min()))\n",
    "\n",
    "#Afficher le prix maximum de la colonne \"taux_marge\"\n",
    "\n",
    "print(\"Taux de marge maximum : {:.2f}%\".format(df_merge['taux_marge'].max()))"
   ]
  },
  {
   "cell_type": "code",
   "execution_count": 64,
   "id": "6082d42b",
   "metadata": {},
   "outputs": [
    {
     "name": "stdout",
     "output_type": "stream",
     "text": [
      "Articles avec taux de marge négatif :\n",
      "     price    prix_ht  purchase_price  taux_marge\n",
      "703  12.65  10.541667           77.48 -634.988142\n",
      "739   8.30   6.916667            9.99  -44.433735\n",
      "768  92.00  76.666667           99.00  -29.130435\n",
      "818  31.00  25.833333           31.20  -20.774194\n"
     ]
    }
   ],
   "source": [
    "#affichage de la ligne avec un taux de marge inférieur à 0\n",
    "taux_negatif = df_merge[df_merge['taux_marge'] < 0][['price', 'prix_ht', 'purchase_price', 'taux_marge']]\n",
    "print(\"Articles avec taux de marge négatif :\")\n",
    "print(taux_negatif)"
   ]
  },
  {
   "cell_type": "code",
   "execution_count": 65,
   "id": "d756037c",
   "metadata": {},
   "outputs": [
    {
     "name": "stdout",
     "output_type": "stream",
     "text": [
      "Taux de marge minimum (positif) : 22.78%\n",
      "Taux de marge maximum : 47.76%\n"
     ]
    }
   ],
   "source": [
    "#création d'un dataframe avec les taux positifs\n",
    "\n",
    "df_merge_taux_positif = df_merge[df_merge['taux_marge'] >= 0]\n",
    "\n",
    "\n",
    "#Afficher le prix minimum de la colonne \"taux_marge\"\n",
    "\n",
    "print(\"Taux de marge minimum (positif) : {:.2f}%\".format(df_merge_taux_positif['taux_marge'].min()))\n",
    "\n",
    "#Afficher le prix maximum de la colonne \"taux_marge\"\n",
    "\n",
    "print(\"Taux de marge maximum : {:.2f}%\".format(df_merge_taux_positif['taux_marge'].max()))"
   ]
  },
  {
   "cell_type": "code",
   "execution_count": 66,
   "id": "b24042f8",
   "metadata": {},
   "outputs": [
    {
     "data": {
      "application/vnd.plotly.v1+json": {
       "config": {
        "plotlyServerURL": "https://plot.ly"
       },
       "data": [
        {
         "alignmentgroup": "True",
         "hovertemplate": "product_type=%{x}<br>taux_marge=%{y}<extra></extra>",
         "legendgroup": "",
         "marker": {
          "color": "#636efa",
          "pattern": {
           "shape": ""
          }
         },
         "name": "",
         "offsetgroup": "",
         "orientation": "v",
         "showlegend": false,
         "textposition": "auto",
         "type": "bar",
         "x": [
          "Champagne",
          "Cognac",
          "Gin",
          "Huile d'olive",
          "Vin",
          "Whisky"
         ],
         "xaxis": "x",
         "y": [
          28.48853862398758,
          45.06761365196379,
          42.8,
          24.99819795751202,
          38.00850356478086,
          44.91886545076668
         ],
         "yaxis": "y"
        }
       ],
       "layout": {
        "barmode": "relative",
        "legend": {
         "tracegroupgap": 0
        },
        "template": {
         "data": {
          "bar": [
           {
            "error_x": {
             "color": "#2a3f5f"
            },
            "error_y": {
             "color": "#2a3f5f"
            },
            "marker": {
             "line": {
              "color": "#E5ECF6",
              "width": 0.5
             },
             "pattern": {
              "fillmode": "overlay",
              "size": 10,
              "solidity": 0.2
             }
            },
            "type": "bar"
           }
          ],
          "barpolar": [
           {
            "marker": {
             "line": {
              "color": "#E5ECF6",
              "width": 0.5
             },
             "pattern": {
              "fillmode": "overlay",
              "size": 10,
              "solidity": 0.2
             }
            },
            "type": "barpolar"
           }
          ],
          "carpet": [
           {
            "aaxis": {
             "endlinecolor": "#2a3f5f",
             "gridcolor": "white",
             "linecolor": "white",
             "minorgridcolor": "white",
             "startlinecolor": "#2a3f5f"
            },
            "baxis": {
             "endlinecolor": "#2a3f5f",
             "gridcolor": "white",
             "linecolor": "white",
             "minorgridcolor": "white",
             "startlinecolor": "#2a3f5f"
            },
            "type": "carpet"
           }
          ],
          "choropleth": [
           {
            "colorbar": {
             "outlinewidth": 0,
             "ticks": ""
            },
            "type": "choropleth"
           }
          ],
          "contour": [
           {
            "colorbar": {
             "outlinewidth": 0,
             "ticks": ""
            },
            "colorscale": [
             [
              0,
              "#0d0887"
             ],
             [
              0.1111111111111111,
              "#46039f"
             ],
             [
              0.2222222222222222,
              "#7201a8"
             ],
             [
              0.3333333333333333,
              "#9c179e"
             ],
             [
              0.4444444444444444,
              "#bd3786"
             ],
             [
              0.5555555555555556,
              "#d8576b"
             ],
             [
              0.6666666666666666,
              "#ed7953"
             ],
             [
              0.7777777777777778,
              "#fb9f3a"
             ],
             [
              0.8888888888888888,
              "#fdca26"
             ],
             [
              1,
              "#f0f921"
             ]
            ],
            "type": "contour"
           }
          ],
          "contourcarpet": [
           {
            "colorbar": {
             "outlinewidth": 0,
             "ticks": ""
            },
            "type": "contourcarpet"
           }
          ],
          "heatmap": [
           {
            "colorbar": {
             "outlinewidth": 0,
             "ticks": ""
            },
            "colorscale": [
             [
              0,
              "#0d0887"
             ],
             [
              0.1111111111111111,
              "#46039f"
             ],
             [
              0.2222222222222222,
              "#7201a8"
             ],
             [
              0.3333333333333333,
              "#9c179e"
             ],
             [
              0.4444444444444444,
              "#bd3786"
             ],
             [
              0.5555555555555556,
              "#d8576b"
             ],
             [
              0.6666666666666666,
              "#ed7953"
             ],
             [
              0.7777777777777778,
              "#fb9f3a"
             ],
             [
              0.8888888888888888,
              "#fdca26"
             ],
             [
              1,
              "#f0f921"
             ]
            ],
            "type": "heatmap"
           }
          ],
          "heatmapgl": [
           {
            "colorbar": {
             "outlinewidth": 0,
             "ticks": ""
            },
            "colorscale": [
             [
              0,
              "#0d0887"
             ],
             [
              0.1111111111111111,
              "#46039f"
             ],
             [
              0.2222222222222222,
              "#7201a8"
             ],
             [
              0.3333333333333333,
              "#9c179e"
             ],
             [
              0.4444444444444444,
              "#bd3786"
             ],
             [
              0.5555555555555556,
              "#d8576b"
             ],
             [
              0.6666666666666666,
              "#ed7953"
             ],
             [
              0.7777777777777778,
              "#fb9f3a"
             ],
             [
              0.8888888888888888,
              "#fdca26"
             ],
             [
              1,
              "#f0f921"
             ]
            ],
            "type": "heatmapgl"
           }
          ],
          "histogram": [
           {
            "marker": {
             "pattern": {
              "fillmode": "overlay",
              "size": 10,
              "solidity": 0.2
             }
            },
            "type": "histogram"
           }
          ],
          "histogram2d": [
           {
            "colorbar": {
             "outlinewidth": 0,
             "ticks": ""
            },
            "colorscale": [
             [
              0,
              "#0d0887"
             ],
             [
              0.1111111111111111,
              "#46039f"
             ],
             [
              0.2222222222222222,
              "#7201a8"
             ],
             [
              0.3333333333333333,
              "#9c179e"
             ],
             [
              0.4444444444444444,
              "#bd3786"
             ],
             [
              0.5555555555555556,
              "#d8576b"
             ],
             [
              0.6666666666666666,
              "#ed7953"
             ],
             [
              0.7777777777777778,
              "#fb9f3a"
             ],
             [
              0.8888888888888888,
              "#fdca26"
             ],
             [
              1,
              "#f0f921"
             ]
            ],
            "type": "histogram2d"
           }
          ],
          "histogram2dcontour": [
           {
            "colorbar": {
             "outlinewidth": 0,
             "ticks": ""
            },
            "colorscale": [
             [
              0,
              "#0d0887"
             ],
             [
              0.1111111111111111,
              "#46039f"
             ],
             [
              0.2222222222222222,
              "#7201a8"
             ],
             [
              0.3333333333333333,
              "#9c179e"
             ],
             [
              0.4444444444444444,
              "#bd3786"
             ],
             [
              0.5555555555555556,
              "#d8576b"
             ],
             [
              0.6666666666666666,
              "#ed7953"
             ],
             [
              0.7777777777777778,
              "#fb9f3a"
             ],
             [
              0.8888888888888888,
              "#fdca26"
             ],
             [
              1,
              "#f0f921"
             ]
            ],
            "type": "histogram2dcontour"
           }
          ],
          "mesh3d": [
           {
            "colorbar": {
             "outlinewidth": 0,
             "ticks": ""
            },
            "type": "mesh3d"
           }
          ],
          "parcoords": [
           {
            "line": {
             "colorbar": {
              "outlinewidth": 0,
              "ticks": ""
             }
            },
            "type": "parcoords"
           }
          ],
          "pie": [
           {
            "automargin": true,
            "type": "pie"
           }
          ],
          "scatter": [
           {
            "fillpattern": {
             "fillmode": "overlay",
             "size": 10,
             "solidity": 0.2
            },
            "type": "scatter"
           }
          ],
          "scatter3d": [
           {
            "line": {
             "colorbar": {
              "outlinewidth": 0,
              "ticks": ""
             }
            },
            "marker": {
             "colorbar": {
              "outlinewidth": 0,
              "ticks": ""
             }
            },
            "type": "scatter3d"
           }
          ],
          "scattercarpet": [
           {
            "marker": {
             "colorbar": {
              "outlinewidth": 0,
              "ticks": ""
             }
            },
            "type": "scattercarpet"
           }
          ],
          "scattergeo": [
           {
            "marker": {
             "colorbar": {
              "outlinewidth": 0,
              "ticks": ""
             }
            },
            "type": "scattergeo"
           }
          ],
          "scattergl": [
           {
            "marker": {
             "colorbar": {
              "outlinewidth": 0,
              "ticks": ""
             }
            },
            "type": "scattergl"
           }
          ],
          "scattermapbox": [
           {
            "marker": {
             "colorbar": {
              "outlinewidth": 0,
              "ticks": ""
             }
            },
            "type": "scattermapbox"
           }
          ],
          "scatterpolar": [
           {
            "marker": {
             "colorbar": {
              "outlinewidth": 0,
              "ticks": ""
             }
            },
            "type": "scatterpolar"
           }
          ],
          "scatterpolargl": [
           {
            "marker": {
             "colorbar": {
              "outlinewidth": 0,
              "ticks": ""
             }
            },
            "type": "scatterpolargl"
           }
          ],
          "scatterternary": [
           {
            "marker": {
             "colorbar": {
              "outlinewidth": 0,
              "ticks": ""
             }
            },
            "type": "scatterternary"
           }
          ],
          "surface": [
           {
            "colorbar": {
             "outlinewidth": 0,
             "ticks": ""
            },
            "colorscale": [
             [
              0,
              "#0d0887"
             ],
             [
              0.1111111111111111,
              "#46039f"
             ],
             [
              0.2222222222222222,
              "#7201a8"
             ],
             [
              0.3333333333333333,
              "#9c179e"
             ],
             [
              0.4444444444444444,
              "#bd3786"
             ],
             [
              0.5555555555555556,
              "#d8576b"
             ],
             [
              0.6666666666666666,
              "#ed7953"
             ],
             [
              0.7777777777777778,
              "#fb9f3a"
             ],
             [
              0.8888888888888888,
              "#fdca26"
             ],
             [
              1,
              "#f0f921"
             ]
            ],
            "type": "surface"
           }
          ],
          "table": [
           {
            "cells": {
             "fill": {
              "color": "#EBF0F8"
             },
             "line": {
              "color": "white"
             }
            },
            "header": {
             "fill": {
              "color": "#C8D4E3"
             },
             "line": {
              "color": "white"
             }
            },
            "type": "table"
           }
          ]
         },
         "layout": {
          "annotationdefaults": {
           "arrowcolor": "#2a3f5f",
           "arrowhead": 0,
           "arrowwidth": 1
          },
          "autotypenumbers": "strict",
          "coloraxis": {
           "colorbar": {
            "outlinewidth": 0,
            "ticks": ""
           }
          },
          "colorscale": {
           "diverging": [
            [
             0,
             "#8e0152"
            ],
            [
             0.1,
             "#c51b7d"
            ],
            [
             0.2,
             "#de77ae"
            ],
            [
             0.3,
             "#f1b6da"
            ],
            [
             0.4,
             "#fde0ef"
            ],
            [
             0.5,
             "#f7f7f7"
            ],
            [
             0.6,
             "#e6f5d0"
            ],
            [
             0.7,
             "#b8e186"
            ],
            [
             0.8,
             "#7fbc41"
            ],
            [
             0.9,
             "#4d9221"
            ],
            [
             1,
             "#276419"
            ]
           ],
           "sequential": [
            [
             0,
             "#0d0887"
            ],
            [
             0.1111111111111111,
             "#46039f"
            ],
            [
             0.2222222222222222,
             "#7201a8"
            ],
            [
             0.3333333333333333,
             "#9c179e"
            ],
            [
             0.4444444444444444,
             "#bd3786"
            ],
            [
             0.5555555555555556,
             "#d8576b"
            ],
            [
             0.6666666666666666,
             "#ed7953"
            ],
            [
             0.7777777777777778,
             "#fb9f3a"
            ],
            [
             0.8888888888888888,
             "#fdca26"
            ],
            [
             1,
             "#f0f921"
            ]
           ],
           "sequentialminus": [
            [
             0,
             "#0d0887"
            ],
            [
             0.1111111111111111,
             "#46039f"
            ],
            [
             0.2222222222222222,
             "#7201a8"
            ],
            [
             0.3333333333333333,
             "#9c179e"
            ],
            [
             0.4444444444444444,
             "#bd3786"
            ],
            [
             0.5555555555555556,
             "#d8576b"
            ],
            [
             0.6666666666666666,
             "#ed7953"
            ],
            [
             0.7777777777777778,
             "#fb9f3a"
            ],
            [
             0.8888888888888888,
             "#fdca26"
            ],
            [
             1,
             "#f0f921"
            ]
           ]
          },
          "colorway": [
           "#636efa",
           "#EF553B",
           "#00cc96",
           "#ab63fa",
           "#FFA15A",
           "#19d3f3",
           "#FF6692",
           "#B6E880",
           "#FF97FF",
           "#FECB52"
          ],
          "font": {
           "color": "#2a3f5f"
          },
          "geo": {
           "bgcolor": "white",
           "lakecolor": "white",
           "landcolor": "#E5ECF6",
           "showlakes": true,
           "showland": true,
           "subunitcolor": "white"
          },
          "hoverlabel": {
           "align": "left"
          },
          "hovermode": "closest",
          "mapbox": {
           "style": "light"
          },
          "paper_bgcolor": "white",
          "plot_bgcolor": "#E5ECF6",
          "polar": {
           "angularaxis": {
            "gridcolor": "white",
            "linecolor": "white",
            "ticks": ""
           },
           "bgcolor": "#E5ECF6",
           "radialaxis": {
            "gridcolor": "white",
            "linecolor": "white",
            "ticks": ""
           }
          },
          "scene": {
           "xaxis": {
            "backgroundcolor": "#E5ECF6",
            "gridcolor": "white",
            "gridwidth": 2,
            "linecolor": "white",
            "showbackground": true,
            "ticks": "",
            "zerolinecolor": "white"
           },
           "yaxis": {
            "backgroundcolor": "#E5ECF6",
            "gridcolor": "white",
            "gridwidth": 2,
            "linecolor": "white",
            "showbackground": true,
            "ticks": "",
            "zerolinecolor": "white"
           },
           "zaxis": {
            "backgroundcolor": "#E5ECF6",
            "gridcolor": "white",
            "gridwidth": 2,
            "linecolor": "white",
            "showbackground": true,
            "ticks": "",
            "zerolinecolor": "white"
           }
          },
          "shapedefaults": {
           "line": {
            "color": "#2a3f5f"
           }
          },
          "ternary": {
           "aaxis": {
            "gridcolor": "white",
            "linecolor": "white",
            "ticks": ""
           },
           "baxis": {
            "gridcolor": "white",
            "linecolor": "white",
            "ticks": ""
           },
           "bgcolor": "#E5ECF6",
           "caxis": {
            "gridcolor": "white",
            "linecolor": "white",
            "ticks": ""
           }
          },
          "title": {
           "x": 0.05
          },
          "xaxis": {
           "automargin": true,
           "gridcolor": "white",
           "linecolor": "white",
           "ticks": "",
           "title": {
            "standoff": 15
           },
           "zerolinecolor": "white",
           "zerolinewidth": 2
          },
          "yaxis": {
           "automargin": true,
           "gridcolor": "white",
           "linecolor": "white",
           "ticks": "",
           "title": {
            "standoff": 15
           },
           "zerolinecolor": "white",
           "zerolinewidth": 2
          }
         }
        },
        "title": {
         "text": "Taux de marge moyen par type de produit"
        },
        "xaxis": {
         "anchor": "y",
         "domain": [
          0,
          1
         ],
         "tickangle": 45,
         "title": {
          "text": "Type de produit"
         }
        },
        "yaxis": {
         "anchor": "x",
         "domain": [
          0,
          1
         ],
         "title": {
          "text": "Taux de marge moyen (%)"
         }
        }
       }
      }
     },
     "metadata": {},
     "output_type": "display_data"
    }
   ],
   "source": [
    "#création d'un dataframe avec le taux de marge moyen par type de produit\n",
    "\n",
    "df_marge_type = df_merge_taux_positif.groupby('product_type')['taux_marge'].mean().reset_index()\n",
    "\n",
    "#Affichage dans un graphique du taux de marge par type de produit\n",
    "\n",
    "fig = px.bar(df_marge_type, \n",
    "           x='product_type',\n",
    "           y='taux_marge',\n",
    "           title='Taux de marge moyen par type de produit')\n",
    "\n",
    "fig.update_layout(\n",
    "   xaxis_title=\"Type de produit\",\n",
    "   yaxis_title=\"Taux de marge moyen (%)\",\n",
    "   xaxis={'tickangle': 45}  # Rotation des labels pour meilleure lisibilité\n",
    ")\n",
    "fig.show()"
   ]
  },
  {
   "cell_type": "markdown",
   "id": "ce216060",
   "metadata": {},
   "source": [
    "<div style=\"border: 1px solid RGB(51,165,182);\" >\n",
    "<h3 style=\"margin: auto; padding: 20px; color: RGB(51,165,182); \">Etape 5.5 - Analyse des correlations entre les variables stock, sales et price</h3>\n",
    "</div>"
   ]
  },
  {
   "cell_type": "code",
   "execution_count": 67,
   "id": "12e4a540",
   "metadata": {},
   "outputs": [
    {
     "data": {
      "image/png": "[encoded data removed]",
      "text/plain": [
       "<Figure size 1000x800 with 2 Axes>"
      ]
     },
     "metadata": {},
     "output_type": "display_data"
    }
   ],
   "source": [
    "############################\n",
    "# Analyse des correlations #\n",
    "############################\n",
    "\n",
    "#Importation de Seaborn\n",
    "import seaborn as sns\n",
    "\n",
    "# Sélection des variables pour la corrélation\n",
    "variables = ['stock_quantity', 'total_sales', 'price']\n",
    "correlation_matrix = df_merge[variables].corr()\n",
    "\n",
    "#Création d'un heatmap de correlation avec les variables stock, sales et price\n",
    "\n",
    "mask = np.triu(np.ones_like(correlation_matrix, dtype=bool))\n",
    "plt.figure(figsize=(10, 8))\n",
    "sns.heatmap(correlation_matrix, \n",
    "            annot=True,  # Affiche les valeurs\n",
    "            cmap='coolwarm',  # Choix des couleurs\n",
    "            mask=mask,  # Applique le mask\n",
    "            fmt='.2f',  # Format des nombres\n",
    "            vmin=-1, vmax=1)  # Échelle des valeurs\n",
    "\n",
    "plt.title('Matrice de corrélation')\n",
    "plt.show()\n",
    "#on peut également créer un mask pour n'afficher qu'une demi heatmap\n"
   ]
  },
  {
   "cell_type": "code",
   "execution_count": 68,
   "id": "c49d1459",
   "metadata": {},
   "outputs": [],
   "source": [
    "#Que peut-on conclure des correlations ?\n",
    "\n",
    "#Il y a une faible corrélation positive entre totale_sales/stock_quantity = plus de stock permet potentiellement plus de ventes, dans une petite mesure\n",
    "#Il y a une très faible corrélation négative entre price et stock_quantity = quasiement pas de relation entre les différents stocks et les prix du produit\n",
    "#Il y a une faible corrélation négative entre totale_sales et price = les produits moins chères semblement se vendre plus alors que les plus chère moins.\n",
    "\n",
    "#Toutes ces corrélations sont au final faibles"
   ]
  },
  {
   "cell_type": "markdown",
   "id": "f1d22f1d",
   "metadata": {},
   "source": [
    "<div style=\"border: 1px solid RGB(51,165,182);\" >\n",
    "<h3 style=\"margin: auto; padding: 20px; color: RGB(51,165,182); \">Etape 5.6 - Mettre à disposition la nouvelle table sur un fichier Excel</h3>\n",
    "</div>"
   ]
  },
  {
   "cell_type": "code",
   "execution_count": 69,
   "id": "09bfe632",
   "metadata": {},
   "outputs": [],
   "source": [
    "#Mettre le dataset df_merge sur un fichier Excel\n",
    "#Cette étape peut-être utile pour partager le résultat du dataset obtenu pour le partager avec les équipes.  \n",
    "df_merge.to_excel('analyse_bottleneck.xlsx', index=False)"
   ]
  },
  {
   "cell_type": "code",
   "execution_count": 70,
   "id": "e0c56427",
   "metadata": {},
   "outputs": [
    {
     "data": {
      "image/png": "[encoded data removed]",
      "text/plain": [
       "<Figure size 1000x800 with 2 Axes>"
      ]
     },
     "metadata": {},
     "output_type": "display_data"
    }
   ],
   "source": [
    "#Heatmap entière\n",
    "\n",
    "# Sélection des variables pour la corrélation\n",
    "variables = ['stock_quantity', 'total_sales', 'price']\n",
    "correlation_matrix = df_merge[variables].corr()\n",
    "\n",
    "#Création d'un heatmap de correlation avec les variables stock, sales et price\n",
    "\n",
    "plt.figure(figsize=(10, 8))\n",
    "sns.heatmap(correlation_matrix, \n",
    "           annot=True,  # Affiche les valeurs\n",
    "           cmap='coolwarm',  # Choix des couleurs\n",
    "           fmt='.2f',  # Format des nombres\n",
    "           vmin=-1, vmax=1)  # Échelle des valeurs\n",
    "\n",
    "plt.title('Matrice de corrélation')\n",
    "plt.show()"
   ]
  },
  {
   "cell_type": "code",
   "execution_count": null,
   "id": "a694840f",
   "metadata": {},
   "outputs": [
    {
     "data": {
      "image/png": "[encoded data removed]",
      "text/plain": [
       "<Figure size 1000x600 with 1 Axes>"
      ]
     },
     "metadata": {},
     "output_type": "display_data"
    }
   ],
   "source": [
    "\n",
    "#//ANALYSE VISUELLE COMPLEMENTAIRE #1//\n",
    "\n",
    "# Données pour la distribution des prix\n",
    "price_ranges = ['0-15€', '15-30€', '30-45€', '45-60€', '60-75€', '75-100€', '>100€']\n",
    "counts = [183, 339, 181, 78, 21, 14, 9]\n",
    "\n",
    "# Création d'un DataFrame pandas\n",
    "df = pd.DataFrame({'Gamme de Prix': price_ranges, 'Nombre d\\'Articles': counts})\n",
    "\n",
    "# Configuration du style\n",
    "plt.figure(figsize=(10, 6))\n",
    "sns.set_style(\"whitegrid\")\n",
    "\n",
    "# Création du graphique avec Seaborn\n",
    "ax = sns.barplot(x='Gamme de Prix', y='Nombre d\\'Articles', data=df, color='#8884d8')\n",
    "\n",
    "# Ajout des valeurs au-dessus des barres\n",
    "for i, v in enumerate(counts):\n",
    "    ax.text(i, v + 5, str(v), ha='center')\n",
    "\n",
    "# Personnalisation du graphique\n",
    "plt.title('Distribution des Prix des Produits', fontsize=16)\n",
    "plt.xlabel('Gamme de Prix', fontsize=12)\n",
    "plt.ylabel('Nombre d\\'Articles', fontsize=12)\n",
    "\n",
    "# Ajout d'une boîte d'info\n",
    "textstr = '\\n'.join((\n",
    "    'Statistiques clés:',\n",
    "    'Total produits: 825',\n",
    "    'Prix moyen: 32,28€',\n",
    "    'Prix médian: 24,30€',\n",
    "    'Prix min: 5,20€',\n",
    "    'Prix max: 225,00€'))\n",
    "\n",
    "props = dict(boxstyle='round', facecolor='wheat', alpha=0.5)\n",
    "plt.text(0.05, 0.95, textstr, transform=plt.gca().transAxes, fontsize=9,\n",
    "        verticalalignment='top', bbox=props)\n",
    "\n",
    "# Finalisation et affichage\n",
    "plt.tight_layout()\n",
    "plt.savefig('distribution_prix.png', dpi=300)\n",
    "plt.show()"
   ]
  },
  {
   "cell_type": "code",
   "execution_count": null,
   "id": "cec2844f",
   "metadata": {},
   "outputs": [
    {
     "data": {
      "text/plain": [
       "<Figure size 1000x600 with 0 Axes>"
      ]
     },
     "metadata": {},
     "output_type": "display_data"
    },
    {
     "data": {
      "image/png": "[encoded data removed]",
      "text/plain": [
       "<Figure size 1200x700 with 1 Axes>"
      ]
     },
     "metadata": {},
     "output_type": "display_data"
    }
   ],
   "source": [
    "#//ANALYSE VISUELLE COMPLEMENTAIRE #2//\n",
    "\n",
    "# Configuration esthétique générale\n",
    "plt.style.use('seaborn-v0_8-whitegrid')  # Style visuel propre et professionnel\n",
    "plt.figure(figsize=(10, 6))  # Définit la taille de la figure (largeur, hauteur) en pouces\n",
    "\n",
    "# Données des top 5 produits par CA\n",
    "# Dans un cas réel, vous extrairiez ces données de votre DataFrame avec:\n",
    "# top_products = df_merge.groupby('post_title')['ca_par_article'].sum().nlargest(5)\n",
    "top_products = {\n",
    "    'Champagne Mailly Grand Cru': 6844,\n",
    "    'Champagne Egly-Ouriet': 2475,\n",
    "    'François Baur Pinot Noir': 1549,\n",
    "    'Albert Mann Pinot Noir': 1318,\n",
    "    'Mendoza Alamos Torrontes': 1232\n",
    "}\n",
    "\n",
    "# Conversion en DataFrame pour faciliter les opérations\n",
    "df_top = pd.DataFrame({\n",
    "    'Produit': list(top_products.keys()),\n",
    "    'CA': list(top_products.values())\n",
    "})\n",
    "\n",
    "# Création du graphique - Version camembert\n",
    "plt.figure(figsize=(12, 7))\n",
    "\n",
    "# Calculer le pourcentage représenté par chaque produit\n",
    "total_ca = df_top['CA'].sum()\n",
    "df_top['Pourcentage'] = df_top['CA'] / total_ca * 100\n",
    "\n",
    "# Configuration des couleurs pour le camembert\n",
    "colors = ['#ff9999', '#66b3ff', '#99ff99', '#ffcc99', '#c2c2f0']\n",
    "explode = (0.1, 0, 0, 0, 0)  # Faire ressortir le premier produit\n",
    "\n",
    "# Création du graphique camembert\n",
    "plt.pie(df_top['CA'], \n",
    "        explode=explode, \n",
    "        labels=df_top['Produit'], \n",
    "        colors=colors,\n",
    "        autopct='%1.1f%%',  # Format d'affichage des pourcentages\n",
    "        shadow=True, \n",
    "        startangle=90,\n",
    "        wedgeprops={'edgecolor': 'white', 'linewidth': 1})  # Bordure blanche pour lisibilité\n",
    "\n",
    "# Configuration esthétique\n",
    "plt.axis('equal')  # Assure que le camembert est circulaire\n",
    "plt.title('Top 5 des Produits par Chiffre d\\'Affaires', fontsize=16, pad=20)\n",
    "\n",
    "# Ajout d'une annotation avec le CA total\n",
    "plt.annotate(f'CA Total Top 5: {total_ca:,} €', \n",
    "             xy=(0.5, 0.02),  # Position au bas du graphique\n",
    "             xycoords='figure fraction',  # Coordonnées relatives à la figure\n",
    "             ha='center',  # Centré horizontalement\n",
    "             fontsize=12,\n",
    "             bbox=dict(boxstyle=\"round,pad=0.3\", fc=\"white\", ec=\"gray\", alpha=0.8))\n",
    "\n",
    "plt.tight_layout()\n",
    "plt.savefig('top5_produits_ca.png', dpi=300, bbox_inches='tight')\n",
    "plt.show()"
   ]
  },
  {
   "cell_type": "code",
   "execution_count": null,
   "id": "24411165",
   "metadata": {},
   "outputs": [
    {
     "name": "stderr",
     "output_type": "stream",
     "text": [
      "C:\\Users\\jorda\\AppData\\Local\\Temp\\ipykernel_11548\\2464472862.py:31: FutureWarning:\n",
      "\n",
      "\n",
      "\n",
      "Passing `palette` without assigning `hue` is deprecated and will be removed in v0.14.0. Assign the `y` variable to `hue` and set `legend=False` for the same effect.\n",
      "\n",
      "\n"
     ]
    },
    {
     "data": {
      "text/plain": [
       "<Figure size 1200x700 with 0 Axes>"
      ]
     },
     "metadata": {},
     "output_type": "display_data"
    },
    {
     "data": {
      "image/png": "[encoded data removed]",
      "text/plain": [
       "<Figure size 1200x700 with 1 Axes>"
      ]
     },
     "metadata": {},
     "output_type": "display_data"
    }
   ],
   "source": [
    "#//ANALYSE VISUELLE COMPLEMENTAIRE #3//\n",
    "# Configuration esthétique \n",
    "plt.style.use('seaborn-v0_8-whitegrid')\n",
    "plt.figure(figsize=(12, 7))\n",
    "\n",
    "# Données des taux de marge par type de produit\n",
    "# Dans un cas réel, vous extrairiez ces données avec:\n",
    "# margin_by_type = df_merge.groupby('product_type')['taux_marge'].mean().sort_values(ascending=False)\n",
    "margin_data = {\n",
    "    'Cognac': 45.07,\n",
    "    'Whisky': 44.92,\n",
    "    'Gin': 42.80,\n",
    "    'Vin': 38.01,\n",
    "    'Champagne': 28.49,\n",
    "    'Huile d\\'olive': 25.00,\n",
    "    'Autre': 36.16\n",
    "}\n",
    "\n",
    "# Conversion en DataFrame\n",
    "df_margin = pd.DataFrame({\n",
    "    'Type': list(margin_data.keys()),\n",
    "    'Taux_Marge': list(margin_data.values())\n",
    "}).sort_values('Taux_Marge', ascending=False)  # Tri par taux de marge décroissant\n",
    "\n",
    "# Création du graphique à barres horizontal\n",
    "plt.figure(figsize=(12, 7))\n",
    "\n",
    "# Palette de couleurs personnalisée - dégradé de bleus et verts\n",
    "palette = sns.color_palette(\"viridis\", len(df_margin))\n",
    "\n",
    "# Création du graphique avec Seaborn pour un rendu plus élégant\n",
    "ax = sns.barplot(x='Taux_Marge', y='Type', data=df_margin, \n",
    "                palette=palette, orient='h')\n",
    "\n",
    "# Ajout des valeurs sur les barres\n",
    "for i, v in enumerate(df_margin['Taux_Marge']):\n",
    "    ax.text(v + 0.5, i, f\"{v:.2f}%\", va='center')\n",
    "\n",
    "# Configuration des axes\n",
    "plt.xlabel('Taux de Marge (%)', fontsize=12, labelpad=10)\n",
    "plt.ylabel('Type de Produit', fontsize=12, labelpad=10)\n",
    "plt.xlim(0, max(df_margin['Taux_Marge']) * 1.15)  # Espace pour les annotations\n",
    "\n",
    "# Titre et sous-titre\n",
    "plt.title('Taux de Marge Moyen par Type de Produit', fontsize=16, pad=20)\n",
    "plt.figtext(0.5, 0.01, 'Cognac et Whisky ont les meilleures marges', \n",
    "            ha='center', fontsize=10, fontstyle='italic')\n",
    "\n",
    "# Ajout d'une ligne de référence pour la marge moyenne globale\n",
    "marge_moyenne = np.mean(df_margin['Taux_Marge'])\n",
    "plt.axvline(x=marge_moyenne, color='red', linestyle='--', linewidth=1)\n",
    "plt.text(marge_moyenne + 0.5, -0.5, f'Marge moyenne: {marge_moyenne:.2f}%', \n",
    "         color='red', fontsize=10)\n",
    "\n",
    "# Finitions\n",
    "plt.grid(axis='x', linestyle='--', alpha=0.7)\n",
    "plt.tight_layout()\n",
    "plt.savefig('taux_marge_par_type.png', dpi=300, bbox_inches='tight')\n",
    "plt.show()"
   ]
  },
  {
   "cell_type": "code",
   "execution_count": null,
   "id": "c96faf0f",
   "metadata": {},
   "outputs": [],
   "source": []
  }
 ],
 "metadata": {
  "kernelspec": {
   "display_name": "base",
   "language": "python",
   "name": "python3"
  },
  "language_info": {
   "codemirror_mode": {
    "name": "ipython",
    "version": 3
   },
   "file_extension": ".py",
   "mimetype": "text/x-python",
   "name": "python",
   "nbconvert_exporter": "python",
   "pygments_lexer": "ipython3",
   "version": "3.12.7"
  }
 },
 "nbformat": 4,
 "nbformat_minor": 5
}
